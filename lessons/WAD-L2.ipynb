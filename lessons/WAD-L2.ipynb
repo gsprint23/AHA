{
 "cells": [
  {
   "cell_type": "markdown",
   "metadata": {},
   "source": [
    "# [AHA! Activity Health Analytics](http://casas.wsu.edu/)\n",
    "[Center for Advanced Studies of Adaptive Systems (CASAS)](http://casas.wsu.edu/)\n",
    "\n",
    "[Washington State University](https://wsu.edu)\n",
    "# L2 Hierarchical Indexing\n",
    "\n",
    "## Learner Objectives\n",
    "At the conclusion of this lesson, participants should have an understanding of:\n",
    "* Hierarchical indexing\n",
    "\n",
    "## Acknowledgments\n",
    "Content used in this lesson is based upon information in the following sources:\n",
    "* [Pandas website](http://pandas.pydata.org/)\n",
    "* Python for Data Analysis by Wes McKinney"
   ]
  },
  {
   "cell_type": "markdown",
   "metadata": {},
   "source": [
    "## Hierarchical Index (Pandas MultiIndex)\n",
    "So far, we have been working with series and data frames that have a uni-dimensional index. For example, the string index \\[\"Seattle\", \"Spokane\", \"Bellevue\", \"Leavenworth\\] that uniquely identified populations in a series or an integer index from \\[0, n) that uniquely identifies each row in a data frame. The latter is the index we used in our lesson on data cleaning where we worked with the [pd_hoa_activities.csv](https://raw.githubusercontent.com/gsprint23/aha/master/lessons/files/pd_hoa_activities.csv) dataset. Let's take a look at the first few rows in this dataset *after* we performed our cleaning process:\n",
    "\n",
    "|pid|task|duration|age|class|\n",
    "|-|-|-|-|-|\n",
    "|0|Water Plants|146|72|HOA|\n",
    "|0|Fill Medication Dispenser|210|72|HOA|\n",
    "|0|Wash Countertop|241|72|HOA|\n",
    "|0|Sweep and Dust|328|72|HOA|\n",
    "|0|Cook|229|72|HOA|\n",
    "|0|Wash Hands|38|72|HOA|\n",
    "|0|Perform TUG|10|72|HOA|\n",
    "|0|Perform TUG w/Questions|10|72|HOA|\n",
    "|0|Day Out Task|680|72|HOA|\n",
    "|1|Water Plants|63|54|HOA|\n",
    "|...|...|...|...|...|\n",
    "\n",
    "A simple row labeling index does not adequately represent this data because it has a natural *hierarchical* index. That is, pid uniquely identifies age and class, while the tuple (pid, task) uniquely identifies the participant's duration for a certain specific task.\n",
    "<img src=\"https://raw.githubusercontent.com/gsprint23/aha/master/lessons/figures/pd_hierarchical_index1.png\" width=\"450\">\n",
    "\n",
    "We could more appropriately represent the relationship amongst these 5 variables by storing the data in a different format. Consider the following two different storage approaches:\n",
    "1. One data structure: data frame with hierarchical indexing (outer: pid, inner: task) and columns (duration, age, class)\n",
    "    * Note: contains redundant copies of age and class values for each task.\n",
    "1. Two data structures:\n",
    "    * Data frame with index (pid) and columns (age, class)\n",
    "    * Series with hierarchical index (outer: pid, inner: task) and values (duration)\n",
    "        * Note: if we have other features describing the participant's performance on a task available (e.g. an efficiency score, number of sensor events, etc.), this would be a data frame with one column for each feature.\n",
    "<img src=\"https://raw.githubusercontent.com/gsprint23/aha/master/lessons/figures/pd_hierarchical_index2.png\" width=\"500\">\n",
    "    \n",
    "There are different trade-offs to using each approach. For example, redundant information is stored in option 1, but it is easier to keep track of one object instead of two objects (e.g if we decide to drop a pid because of missing data in one object, we need to decide/remember to drop the same pid in the other object). For this lesson, we are going to use option 1. For practice, try implementing option 2, it is a good exercise in Pandas!\n",
    "    \n",
    "### Creating a MultiIndex\n",
    "Let's take a look at a small example of creating and using a hierarchical index. In Pandas, a hierarchical index is represented as a [`MultiIndex`](https://pandas.pydata.org/pandas-docs/stable/advanced.html#hierarchical-indexing-multiindex) object."
   ]
  },
  {
   "cell_type": "code",
   "execution_count": 21,
   "metadata": {
    "collapsed": false
   },
   "outputs": [
    {
     "name": "stdout",
     "output_type": "stream",
     "text": [
      "[('bar', 'one'), ('bar', 'two'), ('baz', 'one'), ('baz', 'two'), ('foo', 'one'), ('foo', 'two'), ('qux', 'one'), ('qux', 'two')]\n",
      "MultiIndex(levels=[['bar', 'baz', 'foo', 'qux'], ['one', 'two']],\n",
      "           labels=[[0, 0, 1, 1, 2, 2, 3, 3], [0, 1, 0, 1, 0, 1, 0, 1]],\n",
      "           names=['first', 'second'])\n",
      "first  second\n",
      "bar    one       0.074745\n",
      "       two       0.665284\n",
      "baz    one      -0.094223\n",
      "       two       0.849528\n",
      "foo    one       0.426799\n",
      "       two       0.302697\n",
      "qux    one      -0.335500\n",
      "       two      -0.008077\n",
      "Name: random data, dtype: float64\n",
      "\n",
      "Indexing once into the outer index 'first': second\n",
      "one    0.074745\n",
      "two    0.665284\n",
      "Name: random data, dtype: float64\n",
      "\n",
      "Indexing twice into the outer index 'first' and inner index 'second': 0.0747453681967\n"
     ]
    }
   ],
   "source": [
    "import pandas as pd\n",
    "\n",
    "# adapted from https://pandas.pydata.org/pandas-docs/stable/advanced.html#hierarchical-indexing-multiindex\n",
    "arrays = [['bar', 'bar', 'baz', 'baz', 'foo', 'foo', 'qux', 'qux'],\n",
    "          ['one', 'two', 'one', 'two', 'one', 'two', 'one', 'two']]\n",
    "# *arrays unpacks arrays into two arguments to zip\n",
    "# zip creates tuples from parallel arrays\n",
    "tuples = list(zip(*arrays))\n",
    "print(tuples)\n",
    "index = pd.MultiIndex.from_tuples(tuples, names=['first', 'second'])\n",
    "print(index)\n",
    "s = pd.Series(np.random.randn(8), index=index, name=\"random data\")\n",
    "print(s, end=\"\\n\\n\")\n",
    "print(\"Indexing once into the outer index 'first':\", s[\"bar\"], end=\"\\n\\n\")\n",
    "print(\"Indexing twice into the outer index 'first' and inner index 'second':\", s[\"bar\"][\"one\"])"
   ]
  },
  {
   "cell_type": "markdown",
   "metadata": {},
   "source": [
    "### Creating a MultiIndex with `read_csv()`\n",
    "We can setup a hierarchical index when we read data in from a csv file. We have seen examples of using the `index_col` keyword with `read_csv()` to specify the index column when we load data. If we set `index_col` to an ordered list of column positions, Pandas will infer the `MultiIndex` for us! Let's try it out with our working example \"foo bar\" example:"
   ]
  },
  {
   "cell_type": "code",
   "execution_count": 42,
   "metadata": {
    "collapsed": false
   },
   "outputs": [
    {
     "name": "stdout",
     "output_type": "stream",
     "text": [
      "(8, 1)\n",
      "              random data\n",
      "first second             \n",
      "bar   one        0.074745\n",
      "      two        0.665284\n",
      "baz   one       -0.094223\n",
      "      two        0.849528\n",
      "foo   one        0.426799\n",
      "      two        0.302697\n",
      "qux   one       -0.335500\n",
      "      two       -0.008077\n",
      "first  second\n",
      "bar    one       0.074745\n",
      "       two       0.665284\n",
      "baz    one      -0.094223\n",
      "       two       0.849528\n",
      "foo    one       0.426799\n",
      "       two       0.302697\n",
      "qux    one      -0.335500\n",
      "       two      -0.008077\n",
      "Name: random data, dtype: float64\n"
     ]
    }
   ],
   "source": [
    "out_fname = r\"files\\hierarchical_foobar.csv\"\n",
    "s.to_csv(out_fname)\n",
    "# column 0 is first, column 1 is second\n",
    "s2 = pd.read_csv(out_fname, header=None, index_col=[0, 1])\n",
    "# note: s2 is now a data frame\n",
    "\n",
    "# set back up the labels\n",
    "s2.index.set_names([\"first\", \"second\"], inplace=True)\n",
    "s2.rename(columns={2: \"random data\"}, inplace=True)\n",
    "print(s2.shape)\n",
    "print(s2)\n",
    "\n",
    "# convert to series\n",
    "s2 = s2[\"random data\"]\n",
    "print(s2)"
   ]
  },
  {
   "cell_type": "markdown",
   "metadata": {},
   "source": [
    "## Hierarchical Indexing Example\n",
    "We are going to continue working with the [pd_hoa_activities.csv](https://raw.githubusercontent.com/gsprint23/aha/master/lessons/files/pd_hoa_activities.csv) dataset. This dataset contains information from a smart home study where participants performed 9 activities in a smart home environment. In a previous lesson data cleaning, we read in the data, cleaned it, and saved a new csv file with the data in cleaned form: [pd_hoa_activities_cleaned.csv](https://raw.githubusercontent.com/gsprint23/aha/master/lessons/files/pd_hoa_activities_cleaned.csv). We will start with this cleaned version of the dataset. "
   ]
  },
  {
   "cell_type": "code",
   "execution_count": 5,
   "metadata": {
    "collapsed": false
   },
   "outputs": [
    {
     "name": "stdout",
     "output_type": "stream",
     "text": [
      "(665, 5)\n",
      "   pid                       task  duration  age class\n",
      "0    0               Water Plants       146   72   HOA\n",
      "1    0  Fill Medication Dispenser       210   72   HOA\n",
      "2    0            Wash Countertop       241   72   HOA\n",
      "3    0             Sweep and Dust       328   72   HOA\n",
      "4    0                       Cook       229   72   HOA\n",
      "5    0                 Wash Hands        38   72   HOA\n",
      "6    0                Perform TUG        10   72   HOA\n",
      "7    0    Perform TUG w/Questions        10   72   HOA\n",
      "8    0               Day Out Task       680   72   HOA\n",
      "9    1               Water Plants        63   54   HOA\n"
     ]
    }
   ],
   "source": [
    "%matplotlib inline\n",
    "import matplotlib.pyplot as plt\n",
    "import matplotlib.mlab as mlab\n",
    "import pandas as pd\n",
    "import numpy as np\n",
    "\n",
    "fname = r\"files\\pd_hoa_activities_cleaned.csv\"\n",
    "df = pd.read_csv(fname, header=0)\n",
    "print(df.shape)\n",
    "print(df.head(n=10))"
   ]
  },
  {
   "cell_type": "markdown",
   "metadata": {},
   "source": [
    "Now, we are going to apply a hierarchical index with the outer index \"pid\" and the inner index \"task\". "
   ]
  },
  {
   "cell_type": "code",
   "execution_count": 6,
   "metadata": {
    "collapsed": false
   },
   "outputs": [
    {
     "name": "stdout",
     "output_type": "stream",
     "text": [
      "                               duration  age class\n",
      "pid task                                          \n",
      "0   Water Plants                    146   72   HOA\n",
      "    Fill Medication Dispenser       210   72   HOA\n",
      "    Wash Countertop                 241   72   HOA\n",
      "    Sweep and Dust                  328   72   HOA\n",
      "    Cook                            229   72   HOA\n",
      "    Wash Hands                       38   72   HOA\n",
      "    Perform TUG                      10   72   HOA\n",
      "    Perform TUG w/Questions          10   72   HOA\n",
      "    Day Out Task                    680   72   HOA\n",
      "1   Water Plants                     63   54   HOA\n",
      "    Fill Medication Dispenser       202   54   HOA\n",
      "    Wash Countertop                 259   54   HOA \n",
      "\n",
      "          duration         age\n",
      "count   665.000000  665.000000\n",
      "mean    356.541353   68.735338\n",
      "std     722.675794    9.812659\n",
      "min       0.000000   54.000000\n",
      "25%      34.000000   61.000000\n",
      "50%     190.000000   68.000000\n",
      "75%     326.000000   76.000000\n",
      "max    6151.000000   93.000000\n"
     ]
    }
   ],
   "source": [
    "def apply_multi_index(df):\n",
    "    '''\n",
    "    multi-index outer index: participant id\n",
    "    inner index: task\n",
    "    '''\n",
    "    arrays = [df[\"pid\"], df[\"task\"]]\n",
    "    df.drop([\"pid\", \"task\"], axis=1, inplace=True)\n",
    "    tuples = list(zip(*arrays))\n",
    "    index = pd.MultiIndex.from_tuples(tuples, names=[\"pid\", \"task\"])\n",
    "    df.set_index(index, inplace=True)\n",
    "    \n",
    "apply_multi_index(df)\n",
    "print(df.head(n=12), \"\\n\")\n",
    "print(df.describe())"
   ]
  }
 ],
 "metadata": {
  "anaconda-cloud": {},
  "kernelspec": {
   "display_name": "Python [Root]",
   "language": "python",
   "name": "Python [Root]"
  },
  "language_info": {
   "codemirror_mode": {
    "name": "ipython",
    "version": 3
   },
   "file_extension": ".py",
   "mimetype": "text/x-python",
   "name": "python",
   "nbconvert_exporter": "python",
   "pygments_lexer": "ipython3",
   "version": "3.5.2"
  }
 },
 "nbformat": 4,
 "nbformat_minor": 0
}
