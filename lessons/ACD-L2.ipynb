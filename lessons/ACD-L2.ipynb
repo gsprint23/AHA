{
 "cells": [
  {
   "cell_type": "markdown",
   "metadata": {},
   "source": [
    "# [AHA! Activity Health Analytics](http://casas.wsu.edu/)\n",
    "[Center for Advanced Studies of Adaptive Systems (CASAS)](http://casas.wsu.edu/)\n",
    "\n",
    "[Washington State University](https://wsu.edu)\n",
    "\n",
    "# L2 Fitbit Activity Data\n",
    "\n",
    "## Learner Objectives\n",
    "At the conclusion of this lesson, participants should have an understanding of:\n",
    "* Interfacing with the Fitbit API\n",
    "* Downloading data from the Fitbit API\n",
    "\n",
    "## Acknowledgments\n",
    "Content used in this lesson is based upon information in the following sources:\n",
    "* [Fitbit API docs](https://dev.fitbit.com/docs/)"
   ]
  },
  {
   "cell_type": "markdown",
   "metadata": {},
   "source": [
    "## Time Series Activity Data\n",
    "Let's dive into downloading the minute by minute time series data for the following intraday activity resources (from the [Fitbit activities docs](https://dev.fitbit.com/docs/activity/#get-activity-intraday-time-series):\n",
    "* activities/calories  \n",
    "* activities/steps  \n",
    "* activities/distance  \n",
    "* activities/floors  \n",
    "* activities/elevation\n",
    "* activities/heart\n",
    "\n",
    "Note: not all Fitbit models have the above information available. I will be downloading data from my Fitbit Charge HR which does have all of the above resources. At a minimum, your model should at least have calories, steps, and distance.\n",
    "\n",
    "First, we need to run our code from the previous lesson to authenticate ourselves with our Fitbit app."
   ]
  },
  {
   "cell_type": "code",
   "execution_count": 1,
   "metadata": {
    "collapsed": false
   },
   "outputs": [
    {
     "name": "stderr",
     "output_type": "stream",
     "text": [
      "[07/Jun/2017:13:52:22] ENGINE Listening for SIGTERM.\n",
      "[07/Jun/2017:13:52:22] ENGINE Bus STARTING\n",
      "CherryPy Checker:\n",
      "The Application mounted at '' has an empty config.\n",
      "\n",
      "[07/Jun/2017:13:52:22] ENGINE Set handler for console events.\n",
      "[07/Jun/2017:13:52:22] ENGINE Started monitor thread 'Autoreloader'.\n",
      "[07/Jun/2017:13:52:22] ENGINE Started monitor thread '_TimeoutMonitor'.\n",
      "[07/Jun/2017:13:52:22] ENGINE Serving on http://127.0.0.1:8080\n",
      "[07/Jun/2017:13:52:22] ENGINE Bus STARTED\n"
     ]
    },
    {
     "name": "stdout",
     "output_type": "stream",
     "text": [
      "127.0.0.1 - - [07/Jun/2017:13:52:35] \"GET /?code=e661dfb8c6f00ed2680bbaa4c3c233032e51503a&state=WG9N5thbtTgWo5vjkSLGBu6NLARKC5 HTTP/1.1\" 200 122 \"\" \"Mozilla/5.0 (Windows NT 10.0; Win64; x64) AppleWebKit/537.36 (KHTML, like Gecko) Chrome/58.0.3029.110 Safari/537.36\"\n",
      "127.0.0.1 - - [07/Jun/2017:13:52:36] \"GET /favicon.ico HTTP/1.1\" 200 1406 \"http://127.0.0.1:8080/?code=e661dfb8c6f00ed2680bbaa4c3c233032e51503a&state=WG9N5thbtTgWo5vjkSLGBu6NLARKC5\" \"Mozilla/5.0 (Windows NT 10.0; Win64; x64) AppleWebKit/537.36 (KHTML, like Gecko) Chrome/58.0.3029.110 Safari/537.36\"\n"
     ]
    },
    {
     "name": "stderr",
     "output_type": "stream",
     "text": [
      "[07/Jun/2017:13:52:36] ENGINE Bus STOPPING\n",
      "[07/Jun/2017:13:52:46] ENGINE HTTP Server cherrypy._cpwsgi_server.CPWSGIServer(('127.0.0.1', 8080)) shut down\n",
      "[07/Jun/2017:13:52:46] ENGINE Stopped thread 'Autoreloader'.\n",
      "[07/Jun/2017:13:52:46] ENGINE Stopped thread '_TimeoutMonitor'.\n",
      "[07/Jun/2017:13:52:46] ENGINE Removed handler for console events.\n",
      "[07/Jun/2017:13:52:46] ENGINE Bus STOPPED\n",
      "[07/Jun/2017:13:52:46] ENGINE Bus EXITING\n",
      "[07/Jun/2017:13:52:46] ENGINE Waiting for child threads to terminate...\n",
      "[07/Jun/2017:13:52:46] ENGINE Bus EXITED\n",
      "[07/Jun/2017:13:52:46] ENGINE Waiting for thread Thread-20.\n"
     ]
    },
    {
     "name": "stdout",
     "output_type": "stream",
     "text": [
      "Gina\n"
     ]
    }
   ],
   "source": [
    "import fitbit\n",
    "import files.gather_keys_oauth2 as gather\n",
    "\n",
    "# storing Fitbit app info external to this program\n",
    "in_file = open(r\"files\\fitbit_client_keys.txt\", \"r\")\n",
    "app_info = in_file.readlines()\n",
    "CLIENT_ID = app_info[0].strip()\n",
    "CLIENT_SECRET = app_info[1].strip()\n",
    "server = gather.OAuth2Server(CLIENT_ID, CLIENT_SECRET)\n",
    "server.browser_authorize()\n",
    "USER_ID = server.fitbit.client.session.token['user_id']\n",
    "ACCESS_TOKEN =  server.fitbit.client.session.token['access_token']\n",
    "REFRESH_TOKEN =  server.fitbit.client.session.token['refresh_token']\n",
    "\n",
    "authd_client = fitbit.Fitbit(USER_ID, CLIENT_SECRET, oauth2=True, access_token=ACCESS_TOKEN, refresh_token=REFRESH_TOKEN)\n",
    "user_stats = authd_client.user_profile_get('-')\n",
    "display_name = user_stats[\"user\"][\"displayName\"]\n",
    "print(display_name)"
   ]
  },
  {
   "cell_type": "markdown",
   "metadata": {},
   "source": [
    "### Steps -> Series\n",
    "We will go through an example of querying and extracting intraday data for step counts. The example day I am going to use February 23rd, 2017, a day I walked 12,579 steps.\n",
    "<img src=\"https://raw.githubusercontent.com/gsprint23/aha/master/lessons/figures/fitbit_2-23-17.png\" width=\"600\">"
   ]
  },
  {
   "cell_type": "code",
   "execution_count": 2,
   "metadata": {
    "collapsed": false
   },
   "outputs": [],
   "source": [
    "# year-month-day\n",
    "date = \"2017-02-23\"\n",
    "# base_data default is \"today\"\n",
    "# other parameters include detail_level, start_time and end_time\n",
    "# detail_level default is \"1min\"\n",
    "# can also be \"15min\" (optional). \"1sec\" for heart rate.\n",
    "intraday_steps = authd_client.intraday_time_series('activities/steps', base_date=date)\n",
    "steps_data = intraday_steps[\"activities-steps-intraday\"][\"dataset\"]"
   ]
  },
  {
   "cell_type": "markdown",
   "metadata": {},
   "source": [
    "Let's now extract each minute time stamp and its associated number of steps from the `steps_data` list. We will store the time series data in a Pandas `Series` object with timestamps (string) as the index and step counts (integer) as the values."
   ]
  },
  {
   "cell_type": "code",
   "execution_count": 3,
   "metadata": {
    "collapsed": false
   },
   "outputs": [
    {
     "name": "stdout",
     "output_type": "stream",
     "text": [
      "Total steps taken on 2017-02-23 : 12579\n"
     ]
    }
   ],
   "source": [
    "import pandas as pd\n",
    "\n",
    "def extract_intraday_series(data, time_label=\"time\"):\n",
    "    '''\n",
    "    \n",
    "    '''\n",
    "    timestamps = []\n",
    "    values = []\n",
    "    for datapoint in data:\n",
    "        timestamps.append(datapoint[time_label])\n",
    "        values.append(datapoint[\"value\"])\n",
    "\n",
    "    ser = pd.Series(values, index=timestamps)\n",
    "    return ser\n",
    "\n",
    "steps_ser = extract_intraday_series(steps_data)\n",
    "print(\"Total steps taken on\", date, \":\", steps_ser.sum())"
   ]
  },
  {
   "cell_type": "markdown",
   "metadata": {},
   "source": [
    "### Activity Series -> DataFrame\n",
    "Now that we can extract a series for steps, like extract all activity series and stack them to form a data frame. "
   ]
  },
  {
   "cell_type": "code",
   "execution_count": 4,
   "metadata": {
    "collapsed": false
   },
   "outputs": [],
   "source": [
    "def collect_intraday_activity_data(authd_client, date, activities):\n",
    "    '''\n",
    "    \n",
    "    '''\n",
    "    activity_dict = {}\n",
    "    for act in activities:\n",
    "        res = \"activities/\" + act\n",
    "        intraday = authd_client.intraday_time_series(res, base_date=date)\n",
    "        intraday_data = intraday[\"activities-\" + act + \"-intraday\"][\"dataset\"]\n",
    "        ser = extract_intraday_series(intraday_data)\n",
    "        activity_dict[act] = ser\n",
    "    df = pd.DataFrame(activity_dict)\n",
    "    return df\n",
    "        \n",
    "activities = [\"calories\", \"steps\", \"distance\", \"floors\", \"elevation\", \"heart\"]\n",
    "df = collect_intraday_activity_data(authd_client, date, activities)"
   ]
  },
  {
   "cell_type": "code",
   "execution_count": 5,
   "metadata": {
    "collapsed": false
   },
   "outputs": [
    {
     "name": "stdout",
     "output_type": "stream",
     "text": [
      "          calories  distance  elevation  floors  heart  steps\n",
      "00:00:00    0.9652       0.0          0       0   62.0      0\n",
      "00:01:00    0.9652       0.0          0       0   64.0      0\n",
      "00:02:00    0.9652       0.0          0       0   58.0      0\n",
      "00:03:00    0.9652       0.0          0       0   60.0      0\n",
      "00:04:00    0.9652       0.0          0       0   61.0      0\n",
      "\n",
      "          calories     distance    elevation       floors        heart  \\\n",
      "count  1440.000000  1440.000000  1440.000000  1440.000000  1336.000000   \n",
      "mean      1.537282     0.003806     0.388889     0.038889    70.965569   \n",
      "std       1.264977     0.011068     2.837041     0.283704    12.412764   \n",
      "min       0.965200     0.000000     0.000000     0.000000    53.000000   \n",
      "25%       0.965200     0.000000     0.000000     0.000000          NaN   \n",
      "50%       0.965200     0.000000     0.000000     0.000000          NaN   \n",
      "75%       1.061720     0.000000     0.000000     0.000000          NaN   \n",
      "max       8.300720     0.053624    40.000000     4.000000   131.000000   \n",
      "\n",
      "             steps  \n",
      "count  1440.000000  \n",
      "mean      8.735417  \n",
      "std      25.389286  \n",
      "min       0.000000  \n",
      "25%       0.000000  \n",
      "50%       0.000000  \n",
      "75%       0.000000  \n",
      "max     123.000000  \n"
     ]
    },
    {
     "name": "stderr",
     "output_type": "stream",
     "text": [
      "C:\\Anaconda3\\lib\\site-packages\\numpy\\lib\\function_base.py:3834: RuntimeWarning: Invalid value encountered in percentile\n",
      "  RuntimeWarning)\n"
     ]
    }
   ],
   "source": [
    "print(df.head(), end=\"\\n\\n\")\n",
    "print(df.describe())\n",
    "out_fname = \"files\\\\\" + display_name + \"_\" + date + \"_df.csv\"\n",
    "df.to_csv(out_fname)"
   ]
  },
  {
   "cell_type": "markdown",
   "metadata": {},
   "source": [
    "Note: If the device is unable to get a heart rate reading then the heart rate data is null. "
   ]
  },
  {
   "cell_type": "markdown",
   "metadata": {},
   "source": [
    "## API Rate Limit\n",
    "Your application can make 150 API requests per hour without a user access token. These types of API requests are for retrieving non-user data, such as Fitbit's general resources (Browse Activities, Get Activity, Search Foods, Get Food, and Get Food Units)."
   ]
  }
 ],
 "metadata": {
  "anaconda-cloud": {},
  "kernelspec": {
   "display_name": "Python [Root]",
   "language": "python",
   "name": "Python [Root]"
  },
  "language_info": {
   "codemirror_mode": {
    "name": "ipython",
    "version": 3
   },
   "file_extension": ".py",
   "mimetype": "text/x-python",
   "name": "python",
   "nbconvert_exporter": "python",
   "pygments_lexer": "ipython3",
   "version": "3.5.2"
  }
 },
 "nbformat": 4,
 "nbformat_minor": 0
}
