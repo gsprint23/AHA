{
 "cells": [
  {
   "cell_type": "markdown",
   "metadata": {},
   "source": [
    "# [AHA! Activity Health Analytics](http://casas.wsu.edu/)\n",
    "[Center for Advanced Studies of Adaptive Systems (CASAS)](http://casas.wsu.edu/)\n",
    "\n",
    "[Washington State University](https://wsu.edu)\n",
    "# L7 Time Series\n",
    "\n",
    "## Learner Objectives\n",
    "At the conclusion of this lesson, participants should have an understanding of:\n",
    "* Time series data\n",
    "* Utilizing a Pandas `DateTimeIndex`\n",
    "* Resampling time series data\n",
    "\n",
    "## Acknowledgments\n",
    "Content used in this lesson is based upon information in the following sources:\n",
    "* [Pandas website](https://pandas.pydata.org/pandas-docs/stable/timeseries.html)"
   ]
  },
  {
   "cell_type": "markdown",
   "metadata": {},
   "source": [
    "## Time Series Overview\n",
    "A time series is a series of data points indexed (or listed or graphed) in sequential time order. Most commonly, a time series is a sequence taken at successive equally spaced points in time. The spacing between time points can be any value, but common spacing values include:\n",
    "* 1, ..., 60+ seconds\n",
    "* 1, ..., 60+ minutes\n",
    "* 1, ..., 12, ...,24+ hours\n",
    "* 1, ..., 7+ days\n",
    "* 1, ..., 52+ weeks\n",
    "* 1+ years\n",
    "\n",
    "It is common to collect data at the most fine-grained spacing possibly because you can always *down sample* the data later. For example, if your data is collected every minute, for one day there will be 1440 samples (60 minutes in an hour times 24 hours in a day). If you want to perform analysis of the data hourly, you can aggregate the minute samples each hour, perhaps by summing the values or taking an average, to yield 24 samples.\n",
    "\n",
    "In this lesson, we are going to explore time series data in the following aspects:"
   ]
  },
  {
   "cell_type": "markdown",
   "metadata": {},
   "source": [
    "## Time Series Example\n",
    "We are going to work with the [sh1_hourly_activities.csv](https://raw.githubusercontent.com/gsprint23/aha/master/lessons/files/sh1_hourly_activities.csv) dataset. This dataset contains 7 days of hourly activity information from a single smart home resident. For each hour, the probability that the smart home resident was performing each of 13 activities is recorded. The 13 activities are as follows:\n",
    "1. Bathe\n",
    "1. Bed_Toilet_Transition\n",
    "1. Cook\n",
    "1. Eat\n",
    "1. Enter_Home\n",
    "1. Leave_Home\n",
    "1. Personal_Hygiene\n",
    "1. Relax\n",
    "1. Sleep\n",
    "1. Take_Medicine\n",
    "1. Wash_Dishes\n",
    "1. Work\n",
    "1. Other_Activity\n",
    "\n",
    "A combination of the date and hour uniquely identifies an activity distribution. Here is a sample of the format of the data:\n",
    "\n",
    "|date|hour|Bathe|...|Other_Activity|\n",
    "|-|-|-|-|-|\n",
    "|7/18/2013|0:00:00|0.000001|...|0.000001|\n",
    "|7/18/2013|1:00:00|0.000001|...|0.000001|\n",
    "|...|...|...|...|...|\n",
    "|7/18/2013|22:00:00|0|...|0|\n",
    "|7/18/2013|23:00:00|0|...|0.875|\n",
    "|7/19/2013|0:00:00|0|...|0.589|\n",
    "|7/19/2013|1:00:00|0|...|0|\n",
    "|...|...|...|...|...|\n",
    "\n",
    "### MultiIndex\n",
    "Initially, we may consider reading this data into a Pandas data frame with a hierarchical index (outer: date, inner: hour):"
   ]
  },
  {
   "cell_type": "code",
   "execution_count": 1,
   "metadata": {
    "collapsed": false
   },
   "outputs": [
    {
     "name": "stdout",
     "output_type": "stream",
     "text": [
      "<class 'pandas.indexes.multi.MultiIndex'>\n",
      "(168, 13) Number of days: 7\n",
      "                      Bathe  Bed_Toilet_Transition      Cook       Eat  \\\n",
      "date      hour                                                           \n",
      "7/18/2013 0:00:00  0.000001               0.000001  0.000001  0.000001   \n",
      "          1:00:00  0.000001               0.000001  0.000001  0.000001   \n",
      "          2:00:00  0.000001               0.000001  0.000001  0.000001   \n",
      "          3:00:00  0.000000               0.119792  0.000000  0.000000   \n",
      "          4:00:00  0.000001               0.000001  0.000001  0.000001   \n",
      "\n",
      "                   Enter_Home  Leave_Home  Personal_Hygiene     Relax  \\\n",
      "date      hour                                                          \n",
      "7/18/2013 0:00:00    0.000001    0.000001          0.000001  0.000001   \n",
      "          1:00:00    0.000001    0.000001          0.000001  0.000001   \n",
      "          2:00:00    0.000001    0.000001          0.000001  0.000001   \n",
      "          3:00:00    0.000000    0.000000          0.000000  0.031250   \n",
      "          4:00:00    0.000001    0.000001          0.000001  0.000001   \n",
      "\n",
      "                      Sleep  Take_Medicine  Wash_Dishes      Work  \\\n",
      "date      hour                                                      \n",
      "7/18/2013 0:00:00  0.000001       0.000001     0.000001  0.000001   \n",
      "          1:00:00  0.000001       0.000001     0.000001  0.000001   \n",
      "          2:00:00  0.000001       0.000001     0.000001  0.000001   \n",
      "          3:00:00  0.182292       0.000000     0.000000  0.000000   \n",
      "          4:00:00  0.000001       0.000001     0.000001  0.000001   \n",
      "\n",
      "                   Other_Activity  \n",
      "date      hour                     \n",
      "7/18/2013 0:00:00        0.000001  \n",
      "          1:00:00        0.000001  \n",
      "          2:00:00        0.000001  \n",
      "          3:00:00        0.666667  \n",
      "          4:00:00        0.000001  \n"
     ]
    }
   ],
   "source": [
    "import pandas as pd\n",
    "import numpy as np\n",
    "\n",
    "fname = r\"files\\sh1_hourly_activities.csv\"\n",
    "hier_df = pd.read_csv(fname, header=0, index_col=[0, 1])\n",
    "print(type(hier_df.index))\n",
    "print(hier_df.shape, \"Number of days:\", hier_df.shape[0] // 24)\n",
    "print(hier_df.head(n=5))"
   ]
  },
  {
   "cell_type": "markdown",
   "metadata": {},
   "source": [
    "### DateTimeIndex\n",
    "Using a `MultiIndex` will work for this data; however, Pandas has support for time series indexes with its [`DateTimeIndex`](https://pandas.pydata.org/pandas-docs/stable/generated/pandas.DatetimeIndex.html). Using a `DateTimeIndex` over a standard index or a `MultiIndex` will help in several ways, to name a few:\n",
    "* Easy re-sampling with [`resample()`](https://pandas.pydata.org/pandas-docs/stable/generated/pandas.DataFrame.resample.html) (conform or convert time series to a particular frequency)\n",
    "* Quick access to date fields via properties such as year, month, etc.\n",
    "* Unioning of overlapping `DatetimeIndex` objects with the same frequency is very fast (important for fast data alignment)\n",
    "* Partial string indexing\n",
    "\n",
    "For more about working with time series data in Pandas, see the [Pandas website](https://pandas.pydata.org/pandas-docs/stable/timeseries.html).\n",
    "\n",
    "Now, let's read in the data again, but this time let's set our index to be a `DateTimeIndex` constructed from the \"date\" and \"hour\" columns. We will set the `parse_dates` keyword of [`read_csv()`](http://pandas.pydata.org/pandas-docs/stable/generated/pandas.read_csv.html), which will parse the columns 0 and 1 as a date column and name the column \"DateTime\". Then, we will set this column to be the index of our data frame."
   ]
  },
  {
   "cell_type": "code",
   "execution_count": 3,
   "metadata": {
    "collapsed": false
   },
   "outputs": [
    {
     "name": "stdout",
     "output_type": "stream",
     "text": [
      "<class 'pandas.core.series.Series'>\n",
      "<class 'pandas.tseries.index.DatetimeIndex'>\n",
      "(168, 13) Number of days: 7\n",
      "                        Bathe  Bed_Toilet_Transition      Cook       Eat  \\\n",
      "DateTime                                                                   \n",
      "2013-07-18 00:00:00  0.000001               0.000001  0.000001  0.000001   \n",
      "2013-07-18 01:00:00  0.000001               0.000001  0.000001  0.000001   \n",
      "2013-07-18 02:00:00  0.000001               0.000001  0.000001  0.000001   \n",
      "2013-07-18 03:00:00  0.000000               0.119792  0.000000  0.000000   \n",
      "2013-07-18 04:00:00  0.000001               0.000001  0.000001  0.000001   \n",
      "\n",
      "                     Enter_Home  Leave_Home  Personal_Hygiene     Relax  \\\n",
      "DateTime                                                                  \n",
      "2013-07-18 00:00:00    0.000001    0.000001          0.000001  0.000001   \n",
      "2013-07-18 01:00:00    0.000001    0.000001          0.000001  0.000001   \n",
      "2013-07-18 02:00:00    0.000001    0.000001          0.000001  0.000001   \n",
      "2013-07-18 03:00:00    0.000000    0.000000          0.000000  0.031250   \n",
      "2013-07-18 04:00:00    0.000001    0.000001          0.000001  0.000001   \n",
      "\n",
      "                        Sleep  Take_Medicine  Wash_Dishes      Work  \\\n",
      "DateTime                                                              \n",
      "2013-07-18 00:00:00  0.000001       0.000001     0.000001  0.000001   \n",
      "2013-07-18 01:00:00  0.000001       0.000001     0.000001  0.000001   \n",
      "2013-07-18 02:00:00  0.000001       0.000001     0.000001  0.000001   \n",
      "2013-07-18 03:00:00  0.182292       0.000000     0.000000  0.000000   \n",
      "2013-07-18 04:00:00  0.000001       0.000001     0.000001  0.000001   \n",
      "\n",
      "                     Other_Activity  \n",
      "DateTime                             \n",
      "2013-07-18 00:00:00        0.000001  \n",
      "2013-07-18 01:00:00        0.000001  \n",
      "2013-07-18 02:00:00        0.000001  \n",
      "2013-07-18 03:00:00        0.666667  \n",
      "2013-07-18 04:00:00        0.000001  \n"
     ]
    }
   ],
   "source": [
    "df = pd.read_csv(fname, header=0, parse_dates={\"DateTime\": [0, 1]})\n",
    "print(type(df[\"DateTime\"]))\n",
    "df.set_index(\"DateTime\", inplace=True)\n",
    "print(type(df.index))\n",
    "print(df.shape, \"Number of days:\", df.shape[0] // 24)\n",
    "print(df.head(n=5))"
   ]
  },
  {
   "cell_type": "markdown",
   "metadata": {},
   "source": [
    "### Resampling\n",
    "Lastly, let's learn how to re-sample our time series data. Suppose instead of hourly sleep information, we want bi-hourly, or daily. We can use the [`resample()`](https://pandas.pydata.org/pandas-docs/stable/generated/pandas.DataFrame.resample.html) method to easily do this. We just need to specify the frequency to resample by (e.g. hourly, 2-hours, etc.), and how to resample (e.g. mean, sum, etc.). The rule is specified as a string argument of integer frequency + character unit. For example:\n",
    "* H: hourly frequency\n",
    "    * e.g. \"2H\" would be 2 hours\n",
    "* T: minutely frequency\n",
    "    * e.g. \"5T\" would be 5 minutes\n",
    "* S: secondly frequency\n",
    "    * e.g. \"30S\" would be 30 seconds\n",
    "* D: calendar day frequency\n",
    "    * e.g. \"1D\" would be daily\n",
    "* W: weekly frequency\n",
    "    * e.g. \"4W\" would be 4 weeks"
   ]
  },
  {
   "cell_type": "code",
   "execution_count": 4,
   "metadata": {
    "collapsed": false
   },
   "outputs": [
    {
     "name": "stdout",
     "output_type": "stream",
     "text": [
      "DateTime\n",
      "2013-07-18    0.005037\n",
      "2013-07-19    0.014286\n",
      "2013-07-20    0.006566\n",
      "2013-07-21    0.013086\n",
      "2013-07-22    0.009781\n",
      "2013-07-23    0.011276\n",
      "2013-07-24    0.004174\n",
      "Freq: D, Name: Work, dtype: float64\n"
     ]
    }
   ],
   "source": [
    "# resample to daily averages\n",
    "activity = \"Work\"\n",
    "daily_df = df.resample(\"1D\").mean()\n",
    "print(daily_df[activity])"
   ]
  }
 ],
 "metadata": {
  "anaconda-cloud": {},
  "kernelspec": {
   "display_name": "Python [Root]",
   "language": "python",
   "name": "Python [Root]"
  },
  "language_info": {
   "codemirror_mode": {
    "name": "ipython",
    "version": 3
   },
   "file_extension": ".py",
   "mimetype": "text/x-python",
   "name": "python",
   "nbconvert_exporter": "python",
   "pygments_lexer": "ipython3",
   "version": "3.5.2"
  }
 },
 "nbformat": 4,
 "nbformat_minor": 0
}
