{
 "cells": [
  {
   "cell_type": "markdown",
   "metadata": {},
   "source": [
    "# [AHA! Activity Health Analytics](http://casas.wsu.edu/)\n",
    "[Center for Advanced Studies of Adaptive Systems (CASAS)](http://casas.wsu.edu/)\n",
    "\n",
    "[Washington State University](https://wsu.edu)\n",
    "# L4 Numpy and Scipy: Part 2\n",
    "\n",
    "## Learner Objectives\n",
    "At the conclusion of this lesson, participants should have an understanding of:\n",
    "* Numpy arrays and notation\n",
    "* Utilizing Scipy for scientific computing\n",
    "\n",
    "## Acknowledgments\n",
    "Content used in this lesson is based upon information in the following sources:\n",
    "* [Scipy website](https://www.scipy.org/)\n",
    "* [Numpy website](http://www.numpy.org/)\n",
    "* Python for Data Analysis by Wes McKinney"
   ]
  },
  {
   "cell_type": "markdown",
   "metadata": {},
   "source": [
    "## `ndarray` Object Continued"
   ]
  },
  {
   "cell_type": "code",
   "execution_count": 3,
   "metadata": {
    "collapsed": true
   },
   "outputs": [],
   "source": [
    "import numpy as np"
   ]
  },
  {
   "cell_type": "markdown",
   "metadata": {},
   "source": [
    "### Vectorization\n",
    "Now, suppose we want to add two equal-length sequences together. Using lists we have to write a loop, such as the following:"
   ]
  },
  {
   "cell_type": "code",
   "execution_count": 4,
   "metadata": {
    "collapsed": false
   },
   "outputs": [
    {
     "name": "stdout",
     "output_type": "stream",
     "text": [
      "[11, 12, 13, 14, 15, 16, 17, 18, 19, 20]\n"
     ]
    }
   ],
   "source": [
    "x = range(1, 11)\n",
    "y = [10] * 10\n",
    "z = []\n",
    "for i in range(len(x)):\n",
    "    z.append(x[i] + y[i])\n",
    "print(z)"
   ]
  },
  {
   "cell_type": "markdown",
   "metadata": {},
   "source": [
    "Using an `ndarray`, we can *vectorize* the addition operation to each item in the sequences, without writing a loop:"
   ]
  },
  {
   "cell_type": "code",
   "execution_count": 5,
   "metadata": {
    "collapsed": false
   },
   "outputs": [
    {
     "name": "stdout",
     "output_type": "stream",
     "text": [
      "[11 12 13 14 15 16 17 18 19 20]\n",
      "[0 1 2 3 4 5 6 7 8 9]\n",
      "[ 1  2  3  4  5  6  7  8  9 10]\n"
     ]
    }
   ],
   "source": [
    "x = np.arange(1, 11)\n",
    "y = [10] * 10\n",
    "z = x + y\n",
    "print(z)\n",
    "\n",
    "x = np.arange(10)\n",
    "print(x)\n",
    "x += 1\n",
    "print(x)"
   ]
  },
  {
   "cell_type": "markdown",
   "metadata": {},
   "source": [
    "Vectorization enables you to express batch operations on data without writing any loops.\n",
    "\n",
    "Operations between differently sized arrays is called *broadcasting*. For example, we can broadcast a scaler (i.e. an array of length one) operation to each item in an array:"
   ]
  },
  {
   "cell_type": "code",
   "execution_count": 10,
   "metadata": {
    "collapsed": false
   },
   "outputs": [
    {
     "name": "stdout",
     "output_type": "stream",
     "text": [
      "[ 0  2  4  6  8 10 12 14 16 18 20]\n"
     ]
    }
   ],
   "source": [
    "x = np.arange(11)\n",
    "x *= np.array([2])\n",
    "print(x)"
   ]
  },
  {
   "cell_type": "markdown",
   "metadata": {},
   "source": [
    "Note: See Chapter of Python for Data Analysis or the [Numpy docs](https://docs.scipy.org/doc/numpy/user/basics.broadcasting.html) if you want to learn more about broadcasting."
   ]
  },
  {
   "cell_type": "markdown",
   "metadata": {},
   "source": [
    "Relational operators (==, !=, <, <=, >, >=) can be vectorized:"
   ]
  },
  {
   "cell_type": "code",
   "execution_count": 11,
   "metadata": {
    "collapsed": false
   },
   "outputs": [
    {
     "name": "stdout",
     "output_type": "stream",
     "text": [
      "['Mary' 'Michael' 'Margaret' 'Mary' 'Marcus' 'Molly']\n",
      "[ True False False  True False False]\n",
      "[28 34]\n"
     ]
    }
   ],
   "source": [
    "m_names = np.array([\"Mary\", \"Michael\", \"Margaret\", \"Mary\", \"Marcus\", \"Molly\"])\n",
    "m_ages =  np.array([28    , 72       , 12        , 34    , 40      , 68])\n",
    "# marys is a Boolean array\n",
    "marys = m_names == \"Mary\"\n",
    "print(m_names)\n",
    "print(marys)\n",
    "\n",
    "print(m_ages[marys])"
   ]
  },
  {
   "cell_type": "markdown",
   "metadata": {},
   "source": [
    "Boolean operators (`and`, `or`, `not`) can be vectorized as well. For vectorized `and`, use `&`. For vectorized `or`, use `|`.\n",
    "\n",
    "Note: `and` and `or` reserved keywords do not work with Boolean arrays."
   ]
  },
  {
   "cell_type": "code",
   "execution_count": 12,
   "metadata": {
    "collapsed": false
   },
   "outputs": [
    {
     "name": "stdout",
     "output_type": "stream",
     "text": [
      "['Mary' 'Michael' 'Margaret' 'Mary' 'Marcus' 'Molly']\n",
      "[ True False False  True  True False]\n",
      "[28 34 40]\n"
     ]
    }
   ],
   "source": [
    "m_names = np.array([\"Mary\", \"Michael\", \"Margaret\", \"Mary\", \"Marcus\", \"Molly\"])\n",
    "m_ages =  np.array([28    , 72       , 12        , 34    , 40      , 68])\n",
    "mary_marcus = (m_names == \"Mary\") | (m_names == \"Marcus\")\n",
    "print(m_names)\n",
    "print(mary_marcus)\n",
    "\n",
    "print(m_ages[mary_marcus])"
   ]
  },
  {
   "cell_type": "markdown",
   "metadata": {},
   "source": [
    "### Reshaping\n",
    "We can change the shape of an `ndarray` object, i.e. we can change the dimensions. For example, say we have a 1D array that we want to change into a 2D array:"
   ]
  },
  {
   "cell_type": "code",
   "execution_count": 18,
   "metadata": {
    "collapsed": false
   },
   "outputs": [
    {
     "name": "stdout",
     "output_type": "stream",
     "text": [
      "(10,)\n",
      "[0 1 2 3 4 5 6 7 8 9]\n",
      "(5, 2)\n",
      "[[0 1]\n",
      " [2 3]\n",
      " [4 5]\n",
      " [6 7]\n",
      " [8 9]]\n"
     ]
    }
   ],
   "source": [
    "ints = np.arange(10)\n",
    "print(ints.shape)\n",
    "print(ints)\n",
    "ints = ints.reshape(5, 2)\n",
    "print(ints.shape)\n",
    "print(ints)"
   ]
  },
  {
   "cell_type": "markdown",
   "metadata": {},
   "source": [
    "### Transposing\n",
    "Matrix transposition turns the rows of the matrix into columns and the columns into rows. `ndarray` has support for tranposing:"
   ]
  },
  {
   "cell_type": "code",
   "execution_count": 19,
   "metadata": {
    "collapsed": false
   },
   "outputs": [
    {
     "name": "stdout",
     "output_type": "stream",
     "text": [
      "[[0 1 2]\n",
      " [3 4 5]]\n",
      "(2, 3)\n",
      "[[0 3]\n",
      " [1 4]\n",
      " [2 5]]\n",
      "(3, 2)\n"
     ]
    }
   ],
   "source": [
    "x = np.arange(6).reshape((2, 3))\n",
    "print(x)\n",
    "print(x.shape)\n",
    "x_t = x.T\n",
    "print(x_t)\n",
    "print(x_t.shape)"
   ]
  },
  {
   "cell_type": "markdown",
   "metadata": {},
   "source": [
    "### `ndarray` Functions\n",
    "`ndarray` has several fast, vectorized universal functions (ufuncs) that perform element-wise operations on data.\n",
    "\n",
    "#### Unary ufuncs\n",
    "Unary ufuncs accept a single `ndarray` and apply an operation element-wise. Example ufuncs include:\n",
    "* `np.sqrt()`: Element wise square root\n",
    "* `np.absolute()`: Element wise absolute value\n",
    "* `np.sine()`: Element wise trigonometric sign\n",
    "\n",
    "For a full list of available ufuncs, please read the [Numpy docs](https://docs.scipy.org/doc/numpy/reference/ufuncs.html#available-ufuncs), there are over 60 of them!"
   ]
  },
  {
   "cell_type": "code",
   "execution_count": 21,
   "metadata": {
    "collapsed": false
   },
   "outputs": [
    {
     "name": "stdout",
     "output_type": "stream",
     "text": [
      "[0 1 2 3 4 5 6 7 8 9]\n",
      "[ 0.          1.          1.41421356  1.73205081  2.          2.23606798\n",
      "  2.44948974  2.64575131  2.82842712  3.        ]\n",
      "[[ 0.09974505  0.12077332  0.78635635 -0.00338038]\n",
      " [ 0.27127806 -0.64444694 -1.35002247 -0.79343794]\n",
      " [-0.10411761  0.26385509  0.76403851 -0.61235238]\n",
      " [ 0.69307445  0.05751858  0.82928344  0.37826543]]\n",
      "[[ 0.09974505  0.12077332  0.78635635  0.00338038]\n",
      " [ 0.27127806  0.64444694  1.35002247  0.79343794]\n",
      " [ 0.10411761  0.26385509  0.76403851  0.61235238]\n",
      " [ 0.69307445  0.05751858  0.82928344  0.37826543]]\n"
     ]
    }
   ],
   "source": [
    "nums = np.arange(10)\n",
    "print(nums)\n",
    "print(np.sqrt(nums))\n",
    "\n",
    "nums2 = np.random.randn(4, 4)\n",
    "print(nums2)\n",
    "print(np.absolute(nums2))"
   ]
  },
  {
   "cell_type": "markdown",
   "metadata": {},
   "source": [
    "#### Binary ufuncs\n",
    "Binary ufuncs accept two `ndarray` objects, apply an operation element-wise, and return a single array as a result. Example binary ufuncs include:\n",
    "* `np.power()`: Element wise exponentiation\n",
    "* `np.maximum()`: Element wise maximum comparison\n",
    "* `np.minimum()`: Element wise minimum comparison\n",
    "\n",
    "For a full list of available ufuncs, please read the [Numpy docs](https://docs.scipy.org/doc/numpy/reference/ufuncs.html#available-ufuncs), there are over 60 of them!"
   ]
  },
  {
   "cell_type": "code",
   "execution_count": 6,
   "metadata": {
    "collapsed": false
   },
   "outputs": [
    {
     "name": "stdout",
     "output_type": "stream",
     "text": [
      "[0 1 2 3 4]\n",
      "[ 2.  2.  2.  2.  3.]\n",
      "[  0.   1.   4.   9.  64.]\n",
      "[   0    1    8   81 1024]\n",
      "[  0   1 100   3   4]\n",
      "[1 2 3 4 5]\n",
      "[  1   2 100   4   5]\n"
     ]
    }
   ],
   "source": [
    "nums = np.arange(5)\n",
    "print(nums)\n",
    "powers = np.full(5, 2.0)\n",
    "powers[-1] = 3\n",
    "print(powers)\n",
    "nums2 = np.arange(5) + 1\n",
    "\n",
    "print(np.power(nums, powers)) # or simply np.power(nums, 2) to broadcast\n",
    "print(np.power(nums, nums2))\n",
    "nums[2] = 100\n",
    "print(nums)\n",
    "print(nums2)\n",
    "print(np.maximum(nums, nums2))"
   ]
  }
 ],
 "metadata": {
  "anaconda-cloud": {},
  "kernelspec": {
   "display_name": "Python [Root]",
   "language": "python",
   "name": "Python [Root]"
  },
  "language_info": {
   "codemirror_mode": {
    "name": "ipython",
    "version": 3
   },
   "file_extension": ".py",
   "mimetype": "text/x-python",
   "name": "python",
   "nbconvert_exporter": "python",
   "pygments_lexer": "ipython3",
   "version": "3.5.2"
  }
 },
 "nbformat": 4,
 "nbformat_minor": 0
}
