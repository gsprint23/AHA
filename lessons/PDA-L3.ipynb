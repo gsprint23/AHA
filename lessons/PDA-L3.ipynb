{
 "cells": [
  {
   "cell_type": "markdown",
   "metadata": {},
   "source": [
    "# [AHA! Activity Health Analytics](http://casas.wsu.edu/)\n",
    "[Center for Advanced Studies of Adaptive Systems (CASAS)](http://casas.wsu.edu/)\n",
    "\n",
    "[Washington State University](https://wsu.edu)\n",
    "# L3 Numpy and Scipy: Part 1\n",
    "\n",
    "## Learner Objectives\n",
    "At the conclusion of this lesson, participants should have an understanding of:\n",
    "* Numpy arrays and notation\n",
    "* Utilizing Scipy for scientific computing\n",
    "\n",
    "## Acknowledgments\n",
    "Content used in this lesson is based upon information in the following sources:\n",
    "* [Scipy website](https://www.scipy.org/)\n",
    "* [Numpy website](http://www.numpy.org/)\n",
    "* Python for Data Analysis by Wes McKinney"
   ]
  },
  {
   "cell_type": "markdown",
   "metadata": {},
   "source": [
    "## Scipy Ecosystem Overview\n",
    "From the [Scipy website](https://www.scipy.org/):\n",
    ">SciPy (pronounced \"Sigh Pie\") is a Python-based ecosystem of open-source software for mathematics, science, and engineering. In particular, these are some of the core packages:\n",
    "* [Numpy](http://www.numpy.org/): Base N-dimensional array package\n",
    "* [Scipy library](): Fundamental library for scientific computing\n",
    "* [Matplotlib](): Comprehensive 2D plotting\n",
    "* [IPython](): Enhanced interactive console\n",
    "* [Sympy](): Symbolic mathematics\n",
    "* [Pandas](): Data structures and analysis\n",
    "\n",
    "In this class, we will use all of the above, except for Sympy."
   ]
  },
  {
   "cell_type": "markdown",
   "metadata": {},
   "source": [
    "## Numpy\n",
    "From the [Numpy website](http://www.numpy.org/):\n",
    ">NumPy is the fundamental package for scientific computing with Python. It contains among other things:\n",
    "* a powerful N-dimensional array object (`ndarray`)\n",
    "* sophisticated (broadcasting) functions\n",
    "* tools for integrating C/C++ and Fortran code\n",
    "* useful linear algebra, Fourier transform, and random number capabilities\n",
    "\n",
    ">Besides its obvious scientific uses, NumPy can also be used as an efficient multi-dimensional container of generic data. Arbitrary data-types can be defined. This allows NumPy to seamlessly and speedily integrate with a wide variety of databases.\n",
    "\n",
    "Typically, `numpy` is imported as `np`:"
   ]
  },
  {
   "cell_type": "code",
   "execution_count": 1,
   "metadata": {
    "collapsed": true
   },
   "outputs": [],
   "source": [
    "import numpy as np"
   ]
  },
  {
   "cell_type": "markdown",
   "metadata": {},
   "source": [
    "## `ndarray` Object\n",
    "Numpy's N-dimensional array object, `ndarray`, is one of the main reasons to use Numpy for data analytics. `ndarray` is a fast, flexible container for large data sets in Python. We will often use `ndarray` objects in lieu of Python list objects because `ndarray` supports mathematical operations on whole blocks of data using similar syntax to the equivalent operations on scalars. \n",
    "\n",
    "Let's take a look at an example. Let's say we have a list of the numbers 0 through 10:"
   ]
  },
  {
   "cell_type": "code",
   "execution_count": 2,
   "metadata": {
    "collapsed": false
   },
   "outputs": [
    {
     "name": "stdout",
     "output_type": "stream",
     "text": [
      "[0, 1, 2, 3, 4, 5, 6, 7, 8, 9, 10]\n",
      "[ 0  1  2  3  4  5  6  7  8  9 10]\n"
     ]
    }
   ],
   "source": [
    "x = list(range(11))\n",
    "print(x)\n",
    "\n",
    "x = np.array(x)\n",
    "print(x)"
   ]
  },
  {
   "cell_type": "markdown",
   "metadata": {},
   "source": [
    "Note: We can omit the typecast to a list, because a `range` object can be converted to a `ndarray` object.\n",
    "\n",
    "We can also make 2-D and N-D arrays. Numpy will \"pretty print\" the `ndarray` such that it is organized in a matrix format, instead of linear like the default printing for lists:"
   ]
  },
  {
   "cell_type": "code",
   "execution_count": 3,
   "metadata": {
    "collapsed": false
   },
   "outputs": [
    {
     "name": "stdout",
     "output_type": "stream",
     "text": [
      "[[1, 2, 3], [4, 5, 6]]\n",
      "[[1 2 3]\n",
      " [4 5 6]]\n",
      "Number of dimensions: 2\n",
      "Shape (rows, cols): (2, 3)\n",
      "Datatype of items: int32\n",
      "[[ 1.  2.  3.]\n",
      " [ 4.  5.  6.]]\n",
      "Datatype of items: float64\n"
     ]
    }
   ],
   "source": [
    "x = [[1, 2, 3], [4, 5, 6]]\n",
    "print(x)\n",
    "\n",
    "x = np.array(x)\n",
    "print(x)\n",
    "print(\"Number of dimensions: %d\" %(x.ndim))\n",
    "print(\"Shape (rows, cols): %s\" %(str(x.shape)))\n",
    "print(\"Datatype of items: %s\" %(x.dtype))\n",
    "\n",
    "# converting int items to float items\n",
    "# astype() creates a new array\n",
    "x_floats = x.astype(np.float)\n",
    "print(x_floats)\n",
    "print(\"Datatype of items: %s\" %(x_floats.dtype))"
   ]
  },
  {
   "cell_type": "markdown",
   "metadata": {},
   "source": [
    "### `arange()`, `ones()`, and `zeros()`\n",
    "Instead of using `range()` and then converting to an `ndarray`, we can create an `ndarray` object directly in a few ways:"
   ]
  },
  {
   "cell_type": "code",
   "execution_count": 6,
   "metadata": {
    "collapsed": false
   },
   "outputs": [
    {
     "name": "stdout",
     "output_type": "stream",
     "text": [
      "[ 0  1  2  3  4  5  6  7  8  9 10]\n",
      "[0 1 2 3 4 5 6 7 8 9]\n",
      "[ 1.  1.  1.  1.  1.  1.  1.  1.  1.  1.]\n",
      "[ 0.  0.  0.  0.  0.  0.  0.  0.  0.  0.]\n",
      "[ 5.  5.  5.  5.  5.  5.  5.  5.  5.  5.]\n"
     ]
    }
   ],
   "source": [
    "x = np.arange(0, 11)\n",
    "print(x)\n",
    "\n",
    "x1 = np.arange(10)\n",
    "print(x1)\n",
    "\n",
    "x2 = np.ones(10)\n",
    "print(x2)\n",
    "\n",
    "x3 = np.zeros(10)\n",
    "print(x3)\n",
    "\n",
    "x4 = np.full(10, 5.0)\n",
    "print(x4)"
   ]
  },
  {
   "cell_type": "markdown",
   "metadata": {},
   "source": [
    "### Indexing\n",
    "Indexing `ndarray` objects works just like with lists:"
   ]
  },
  {
   "cell_type": "code",
   "execution_count": 13,
   "metadata": {
    "collapsed": false
   },
   "outputs": [
    {
     "name": "stdout",
     "output_type": "stream",
     "text": [
      "[0 1 2 3 4 5 6 7 8 9]\n",
      "3\n"
     ]
    }
   ],
   "source": [
    "x = np.arange(10)\n",
    "print(x)\n",
    "print(x[3])"
   ]
  },
  {
   "cell_type": "markdown",
   "metadata": {},
   "source": [
    "We can also specify indices into N-dimensional `ndarray()` objects using commas:"
   ]
  },
  {
   "cell_type": "code",
   "execution_count": 14,
   "metadata": {
    "collapsed": false
   },
   "outputs": [
    {
     "name": "stdout",
     "output_type": "stream",
     "text": [
      "1.0\n",
      "1.0\n"
     ]
    }
   ],
   "source": [
    "ones = np.ones((2, 3))\n",
    "print(ones[0][0])\n",
    "# using a comma\n",
    "print(ones[0, 0])"
   ]
  },
  {
   "cell_type": "markdown",
   "metadata": {},
   "source": [
    "### Assignment\n",
    "Just like with lists, we can update values in an `ndarray` using the assignment operator. For this example, we will work with a 3x4 array of random data:"
   ]
  },
  {
   "cell_type": "code",
   "execution_count": 15,
   "metadata": {
    "collapsed": false
   },
   "outputs": [
    {
     "name": "stdout",
     "output_type": "stream",
     "text": [
      "[[ 0.8067337   2.32813807 -0.29061593  1.03325199]\n",
      " [ 0.24049094  0.42533723 -0.30862441 -0.12053085]\n",
      " [ 0.47168335 -0.89400941 -0.21375496  0.30472726]]\n",
      "[[   0.8067337     2.32813807   -0.29061593    1.03325199]\n",
      " [   0.24049094    0.42533723   -0.30862441   -0.12053085]\n",
      " [ 100.           -0.89400941   -0.21375496    0.30472726]]\n",
      "[[False False  True False]\n",
      " [False False  True  True]\n",
      " [False  True  True False]]\n",
      "[[   0.8067337     2.32813807    0.            1.03325199]\n",
      " [   0.24049094    0.42533723    0.            0.        ]\n",
      " [ 100.            0.            0.            0.30472726]]\n"
     ]
    }
   ],
   "source": [
    "from numpy.random import randn\n",
    "rand_data = randn(3, 4)\n",
    "print(rand_data)\n",
    "rand_data[2][0] = 100\n",
    "print(rand_data)\n",
    "\n",
    "# Boolean array for negative values\n",
    "negatives = rand_data < 0\n",
    "print(negatives)\n",
    "# set the negative values to 0\n",
    "rand_data[negatives] = 0\n",
    "print(rand_data)"
   ]
  },
  {
   "cell_type": "markdown",
   "metadata": {},
   "source": [
    "### Slicing\n",
    "`ndarray` slicing works similar to lists; however, there are a few subtle differences:\n",
    "* Slices are \"views\" of the `ndarray`, not copies\n",
    "* Assigning a slice to a scalar (or an `ndarray` of a different dimension that the slice), broadcasts the scalar"
   ]
  },
  {
   "cell_type": "code",
   "execution_count": 16,
   "metadata": {
    "collapsed": false
   },
   "outputs": [
    {
     "name": "stdout",
     "output_type": "stream",
     "text": [
      "x_list: [0, 1, 2, 3, 4, 5, 6, 7, 8, 9]\n",
      "chunk: [3, 4, 5, 6]\n",
      "chunk: [50, 4, 5, 6]\n",
      "x_list: [0, 1, 2, 3, 4, 5, 6, 7, 8, 9]\n",
      "[0 1 2 3 4 5 6 7 8 9]\n",
      "x: [0 1 2 3 4 5 6 7 8 9]\n",
      "chunk: [3 4 5 6]\n",
      "chunk: [50  4  5  6]\n",
      "x: [ 0  1  2 50  4  5  6  7  8  9]\n",
      "[  0   1 100 100 100   5   6   7   8   9]\n"
     ]
    }
   ],
   "source": [
    "x_list = list(range(10))\n",
    "print(\"x_list: %s\" %(x_list))\n",
    "chunk = x_list[3:7]\n",
    "print(\"chunk: %s\" %(chunk))\n",
    "# doesn't modify x_list because chunk is a copy\n",
    "chunk[0] = 50\n",
    "print(\"chunk: %s\" %(chunk))\n",
    "print(\"x_list: %s\" %(x_list))\n",
    "\n",
    "\n",
    "x = np.arange(10)\n",
    "print(x)\n",
    "print(\"x: %s\" %(x))\n",
    "chunk = x[3:7]\n",
    "print(\"chunk: %s\" %(chunk))\n",
    "# does modify x_list because chunk is a view\n",
    "chunk[0] = 50\n",
    "print(\"chunk: %s\" %(chunk))\n",
    "print(\"x: %s\" %(x))\n",
    "\n",
    "# broadcasts\n",
    "x[2:5] = 100\n",
    "print(x)"
   ]
  },
  {
   "cell_type": "markdown",
   "metadata": {},
   "source": [
    "Note: if you want a copy of an `ndarray` slice instead of a view, you can copy the `ndarray()` using the `ndarray()` method `copy()`:"
   ]
  },
  {
   "cell_type": "code",
   "execution_count": 17,
   "metadata": {
    "collapsed": false
   },
   "outputs": [
    {
     "name": "stdout",
     "output_type": "stream",
     "text": [
      "[0 1 2 3 4 5 6 7 8 9]\n",
      "x: [0 1 2 3 4 5 6 7 8 9]\n",
      "chunk: [3 4 5 6]\n",
      "chunk: [50  4  5  6]\n",
      "x: [0 1 2 3 4 5 6 7 8 9]\n"
     ]
    }
   ],
   "source": [
    "x = np.arange(10)\n",
    "print(x)\n",
    "print(\"x: %s\" %(x))\n",
    "chunk = x[3:7].copy()\n",
    "print(\"chunk: %s\" %(chunk))\n",
    "# does modify x_list because chunk is now a copy\n",
    "chunk[0] = 50\n",
    "print(\"chunk: %s\" %(chunk))\n",
    "print(\"x: %s\" %(x))"
   ]
  }
 ],
 "metadata": {
  "anaconda-cloud": {},
  "kernelspec": {
   "display_name": "Python [Root]",
   "language": "python",
   "name": "Python [Root]"
  },
  "language_info": {
   "codemirror_mode": {
    "name": "ipython",
    "version": 3
   },
   "file_extension": ".py",
   "mimetype": "text/x-python",
   "name": "python",
   "nbconvert_exporter": "python",
   "pygments_lexer": "ipython3",
   "version": "3.5.2"
  }
 },
 "nbformat": 4,
 "nbformat_minor": 0
}
