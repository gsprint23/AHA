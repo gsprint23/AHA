{
 "cells": [
  {
   "cell_type": "markdown",
   "metadata": {
    "nbpresent": {
     "id": "d7e6bce8-bdaa-4c1a-91db-a155bb03df4d"
    }
   },
   "source": [
    "# [AHA! Activity Health Analytics](http://casas.wsu.edu/)\n",
    "[Center for Advanced Studies of Adaptive Systems (CASAS)](http://casas.wsu.edu/)\n",
    "\n",
    "[Washington State University](https://wsu.edu)\n",
    "\n",
    "# L1 Fitbit API\n",
    "\n",
    "## Learner Objectives\n",
    "At the conclusion of this lesson, participants should have an understanding of:\n",
    "* Wearable fitness devices\n",
    "* Interfacing with the Fitbit API\n",
    "\n",
    "## Acknowledgments\n",
    "Content used in this lesson is based upon information in the following sources:\n",
    "* [Fitbit API docs](https://dev.fitbit.com/docs/)"
   ]
  },
  {
   "cell_type": "markdown",
   "metadata": {
    "nbpresent": {
     "id": "c2239277-5703-4a0c-876a-d7d5d7a483f8"
    }
   },
   "source": [
    "## Wearable Sensors\n",
    "Recently, wearable sensors have increased in popularity as people aspire to be more conscientious of their physical health. Many consumers purchase a pedometer or wearable fitness device in order to track their physical activity (PA), often in pursuit of a goal such as increasing cardiovascular strength, losing weight, or improving overall health. \n",
    "\n",
    "### Fitbit\n",
    "One of the most common wearable device manufacturers is [Fitbit](https://www.fitbit.com/home). Fitbit offers several different wearable devices that include different combinations of the following sensors:\n",
    "* 3-axis accelerometer (detects movement)\n",
    "* Altimeter (detects changes in air pressure)\n",
    "* Optical heart rate monitor\n",
    "* GPS\n",
    "* Digital compass\n",
    "* Ambient light sensor (detects changes in light)\n",
    "\n",
    "<img src=\"http://www.fitbit.co.za/wp-content/uploads/2016/10/4067_19.png\" width=\"500\">\n",
    "(image from [http://www.fitbit.co.za/wp-content/uploads/2016/10/4067_19.png](http://www.fitbit.co.za/wp-content/uploads/2016/10/4067_19.png))\n",
    "\n",
    "\n",
    "### Fitbit Data\n",
    "Data collected from these sensors are processed by proprietary Fitbit software to compute several metrics related to physical activity, including:\n",
    "* Steps\n",
    "* Distance traveled\n",
    "* Floors climbed\n",
    "* Calories burned\n",
    "* Heart rate\n",
    "* Sleep\n",
    "* Location\n",
    "\n",
    "When you buy a Fitbit, you need to [setup a Fitbit account](https://www.fitbit.com/setup). Data collected by the Fitbit device is synced to your Fitbit account, where the data is stored in the cloud. By logging into your Fitbit account on your smartphone or on your computer, you can see aggregated metrics such as daily (or weekly or monthly) steps taken, floors climbed, calories burned, etc. Using the [Fitbit API](https://dev.fitbit.com/), we can download the source data for these aggregate metrics. This data is minute by minute time series data for all 1,440 minutes of the day! In this lesson, we are going to learn how download this fine-grained data. In later lessons, we will visualize and analyze minute by minute Fitbit data for behavior change detection.\n",
    "\n",
    "Note: you do not need a Fitbit device or an account for this lesson. The Fitbit data used for visualization and analysis will be provided as csv files."
   ]
  },
  {
   "cell_type": "markdown",
   "metadata": {
    "nbpresent": {
     "id": "9ae5333b-7c21-453d-866f-cd2ccd76a027"
    }
   },
   "source": [
    "## Fitbit API\n",
    "An API (application programming interface) provides functions for programmers to use, without needing to know the details of the implementation. As long as we know:\n",
    "1. The API interface\n",
    "1. What format the API expects\n",
    "1. What the API returns\n",
    "\n",
    "Then we can use an API like Fitbit! Fitbit provides a Web API for accessing data from Fitbit activity trackers, Aria scale, and manually entered logs. Anyone can develop an application to access and modify a Fitbit user's data on their behalf, so long as it complies with Fitbit's API Terms of Use.\n",
    "\n",
    "Note: The Fitbit API requires *authentication*, meaning an API key that uniquely identifies you and/or your program is used to gain access to the API. Not all APIs require an API key to access the API. For example, the [Google Maps Distance Matrix API](https://developers.google.com/maps/web-services/overview) does not require a key.\n",
    "\n",
    "If you would like to setup to download your own Fitbit data, follow these instructions from the [Fitbit API docs](https://dev.fitbit.com/docs/):\n",
    "1. Review the [basics about how the Fitbit Web API works](https://dev.fitbit.com/docs/basics/).\n",
    "1. [Register your application](https://dev.fitbit.com/apps/new) to get API client credentials. You will need a Fitbit account (free) to register an app.\n",
    "    * Make sure to enter the following information:\n",
    "         * OAuth 2.0 Application Type set as Personal (access to intraday time series data (such as Heart Rate or Activity) of the owner of the app only)\n",
    "         * Callback URL set to [http://127.0.0.1:8080/](http://127.0.0.1:8080/) \n",
    "1. Implement an [OAuth 2.0 authorization flow](https://dev.fitbit.com/docs/oauth2) to allow people to give your app permission to access data on their behalf.\n",
    "1. Make HTTP requests to access data. The different types of data available via the Web API are listed in the navigation. You can also try the [API Explorer](https://apigee.com/me3/embed/console/fitbit).\n",
    "1. If you have a server app and want to be notified when people have new data available, implement the Subscriptions API.\n",
    "\n",
    "Step 1 is helpful because it provides more background information about the API. Step 2 requires that you register an app in order to gain access to the API. This step is completed in your browser and does not require any coding.\n",
    "\n",
    "### Install Python Fitbit Client\n",
    "We will use the [`python-fitbit`](https://github.com/orcasgit/python-fitbit) Python library to implement step 3 and help with step 4. This will save us alot of time as we won't need to learn the details of the authentication system or constructing API queries using HTTP. \n",
    "\n",
    "To download and install the [`python-fitbit`](https://github.com/orcasgit/python-fitbit) library: \n",
    "1. Download a zip file of the [`python-fitbit`](https://github.com/orcasgit/python-fitbit) Github repository.\n",
    "<img src=\"https://raw.githubusercontent.com/gsprint23/aha/master/lessons/figures/fitbit_github_download.png\" width=\"600\">\n",
    "1. Extract the zip file.\n",
    "1. Open a [command prompt (Windows)](https://www.lifewire.com/how-to-open-command-prompt-2618089) or [terminal (Mac/Linux)](http://www.wikihow.com/Open-a-Terminal-Window-in-Mac).\n",
    "    * Windows\n",
    "    <img src=\"https://raw.githubusercontent.com/gsprint23/aha/master/lessons/figures/cmd.png\" width=\"400\">\n",
    "    * Mac/Linux\n",
    "    <img src=\"https://raw.githubusercontent.com/gsprint23/aha/master/lessons/figures/terminal.png\" width=\"400\">\n",
    "1. Using [`cd` (change directory) command](https://en.wikipedia.org/wiki/Cd_(command), navigate into the extracted folder.\n",
    "1. Enter the following commands to install the library and its requirements (you may need to run these commands as the administrator on your machine (e.g. sudo)): \n",
    "    1. `pip install -r requirements/base.txt`\n",
    "    1. `pip install fitbit`\n",
    "    1. `pip install cherrypy`\n",
    "<img src=\"https://raw.githubusercontent.com/gsprint23/aha/master/lessons/figures/fitbit_pip_install.png\" width=\"600\">\n",
    "\n",
    "### Gather Authentication Information\n",
    "Now we need the following information in order to establish an authenticated connection from our Python client program, to our Fitbit app, for a user account (yours). \n",
    "\n",
    "#### Fitbit App Info\n",
    "On the [Fitbit website](https://dev.fitbit.com/), go to [Manage Your Apps](https://dev.fitbit.com/apps), and click on your app. You will see a page that looks similar to the following (our app information has been removed):\n",
    "<img src=\"https://raw.githubusercontent.com/gsprint23/aha/master/lessons/figures/fitbit_application_page.png\" width=\"500\">.\n",
    "\n",
    "From this page, we will need:\n",
    "1. OAuth 2.0 Client ID (your app ID)\n",
    "1. Client (consumer) secret (used by your program as a \"password\" to connect to your app)\n",
    "\n",
    "In general, it is considered bad practice to store your API keys in your program (read Google's [\"Best practices for securing API keys\"](https://support.google.com/googleapi/answer/6310037) page. The first bullet point reads: **\"Do not embed API keys directly in code\".**). I will store mine in a text file `fitbit_client_keys.txt`. You will need to create this file yourself.\n",
    "\n",
    "#### User Authentication\n",
    "Now we need to authenticate our user account with our Fitbit app in order to download our data. The `gather_keys_oauth2.py` file is included in the the `python-fitbit` Github repository. You can either run `gather_keys_oauth2.py` directly in Python specifying your client ID and client secret as command line arguments, or import it and instantiate a `OAuth2Server` object passing your client ID and client secret as constructor arguments. Since this is running in Jupyter Notebook, it is more convenient to take the latter approach. "
   ]
  },
  {
   "cell_type": "code",
   "execution_count": 99,
   "metadata": {
    "collapsed": false,
    "nbpresent": {
     "id": "3b138d11-5033-45a9-8b59-6aa9138e3d71"
    }
   },
   "outputs": [],
   "source": [
    "import files.gather_keys_oauth2 as gather\n",
    "\n",
    "# storing Fitbit app info external to this program\n",
    "in_file = open(r\"files\\fitbit_client_keys.txt\", \"r\")\n",
    "app_info = in_file.readlines()\n",
    "CLIENT_ID = app_info[0].strip()\n",
    "CLIENT_SECRET = app_info[1].strip()\n",
    "server = gather.OAuth2Server(CLIENT_ID, CLIENT_SECRET)"
   ]
  },
  {
   "cell_type": "markdown",
   "metadata": {
    "nbpresent": {
     "id": "73ede6d5-5d13-4f4b-b757-bdc6b9cf0ad5"
    }
   },
   "source": [
    "Now, we need to log in to our account to authorize our app to access our data. When you run the next code cell, the Fitbit login page should appear.\n",
    "<img src=\"https://raw.githubusercontent.com/gsprint23/aha/master/lessons/figures/fitbit_login.png\" width=\"400\">.\n",
    "\n",
    "Log in with the same user name that is the owner of your app."
   ]
  },
  {
   "cell_type": "code",
   "execution_count": 100,
   "metadata": {
    "collapsed": false,
    "nbpresent": {
     "id": "524a9f36-8f6e-4e25-af3b-352d7c13e663"
    }
   },
   "outputs": [
    {
     "name": "stderr",
     "output_type": "stream",
     "text": [
      "[26/May/2017:15:14:30] ENGINE Listening for SIGTERM.\n",
      "[26/May/2017:15:14:30] ENGINE Bus STARTING\n",
      "[26/May/2017:15:14:30] ENGINE Set handler for console events.\n",
      "CherryPy Checker:\n",
      "The Application mounted at '' has an empty config.\n",
      "\n",
      "[26/May/2017:15:14:30] ENGINE Started monitor thread 'Autoreloader'.\n",
      "[26/May/2017:15:14:30] ENGINE Started monitor thread '_TimeoutMonitor'.\n",
      "[26/May/2017:15:14:30] ENGINE Serving on http://127.0.0.1:8080\n",
      "[26/May/2017:15:14:30] ENGINE Bus STARTED\n"
     ]
    },
    {
     "name": "stdout",
     "output_type": "stream",
     "text": [
      "127.0.0.1 - - [26/May/2017:15:14:32] \"GET /?code=ea0d6f3e953c9832926c371ce51fe18add177d87&state=fHVplZdIPQJX1zHB8kUQZkkGf8M4mz HTTP/1.1\" 200 122 \"\" \"Mozilla/5.0 (Windows NT 10.0; Win64; x64) AppleWebKit/537.36 (KHTML, like Gecko) Chrome/58.0.3029.110 Safari/537.36\"\n"
     ]
    },
    {
     "name": "stderr",
     "output_type": "stream",
     "text": [
      "[26/May/2017:15:14:33] ENGINE Bus STOPPING\n",
      "[26/May/2017:15:14:42] ENGINE HTTP Server cherrypy._cpwsgi_server.CPWSGIServer(('127.0.0.1', 8080)) shut down\n",
      "[26/May/2017:15:14:42] ENGINE Stopped thread 'Autoreloader'.\n",
      "[26/May/2017:15:14:42] ENGINE Stopped thread '_TimeoutMonitor'.\n",
      "[26/May/2017:15:14:42] ENGINE Removed handler for console events.\n",
      "[26/May/2017:15:14:42] ENGINE Bus STOPPED\n",
      "[26/May/2017:15:14:42] ENGINE Bus EXITING\n",
      "[26/May/2017:15:14:42] ENGINE Waiting for child threads to terminate...\n",
      "[26/May/2017:15:14:42] ENGINE Bus EXITED\n",
      "[26/May/2017:15:14:42] ENGINE Waiting for thread Thread-50.\n"
     ]
    }
   ],
   "source": [
    "server.browser_authorize()"
   ]
  },
  {
   "cell_type": "markdown",
   "metadata": {
    "nbpresent": {
     "id": "703876c1-a957-427b-8e52-c6037373a8c8"
    }
   },
   "source": [
    "If all goes well, you should see the following webpage (the website listed as the callback URL: [http://127.0.0.1:8080/](http://127.0.0.1:8080/)): \n",
    "<img src=\"https://raw.githubusercontent.com/gsprint23/aha/master/lessons/figures/fitbit_cherrypy_8080.png\" width=\"500\">\n",
    "\n",
    "Let's extract the user authentication information `python-fitbit` needs to query data from Fitbit:\n",
    "* User ID associated with our user name\n",
    "* Oauth 2.0 access token\n",
    "    Note: An access token intentionally is short lived (eight-hour lifetime by default).\n",
    "* Oauth 2.0 refresh token\n",
    "    * Note: a refresh token is used to retrieve a new access token. A refresh token does not expire until it is used. A refresh token can only be used once, as a new refresh token is returned with the new access token. If you want to learn more about refresh tokens, read the [Fitbit Oauth 2.0 documentation](https://dev.fitbit.com/docs/oauth2/#refreshing-tokens)."
   ]
  },
  {
   "cell_type": "code",
   "execution_count": 101,
   "metadata": {
    "collapsed": false,
    "nbpresent": {
     "id": "3ec8674b-461e-49a4-9cce-35a136e03458"
    }
   },
   "outputs": [],
   "source": [
    "USER_ID = server.fitbit.client.session.token['user_id']\n",
    "ACCESS_TOKEN =  server.fitbit.client.session.token['access_token']\n",
    "REFRESH_TOKEN =  server.fitbit.client.session.token['refresh_token']"
   ]
  },
  {
   "cell_type": "markdown",
   "metadata": {
    "nbpresent": {
     "id": "ade6b704-ecc3-41f0-9767-f3df999e07c5"
    }
   },
   "source": [
    "Now we can authorize ourselves with the Fitbit API and Oauth2.0 by instantiating a `python-fitbit` `Fitbit` object. This object will be our interface to the Fitbit API."
   ]
  },
  {
   "cell_type": "code",
   "execution_count": 102,
   "metadata": {
    "collapsed": false,
    "nbpresent": {
     "id": "f01dda9a-5964-4f88-965a-fffb6b4ff478"
    }
   },
   "outputs": [],
   "source": [
    "import fitbit\n",
    "\n",
    "authd_client = fitbit.Fitbit(USER_ID, CLIENT_SECRET, oauth2=True, access_token=ACCESS_TOKEN, refresh_token=REFRESH_TOKEN)"
   ]
  },
  {
   "cell_type": "markdown",
   "metadata": {
    "nbpresent": {
     "id": "7c2daf2a-6aa9-4ec8-8f45-81e7616fca9c"
    }
   },
   "source": [
    "### User Information\n",
    "At last! We are ready to collect our data from the Fitbit API. Let's grab our display name. This could be useful for naming an output csv file later."
   ]
  },
  {
   "cell_type": "code",
   "execution_count": 103,
   "metadata": {
    "collapsed": false,
    "nbpresent": {
     "id": "6d0d0e34-85f6-41b8-8a14-fe11dd2cabd1"
    }
   },
   "outputs": [
    {
     "name": "stdout",
     "output_type": "stream",
     "text": [
      "Gina\n"
     ]
    }
   ],
   "source": [
    "user_stats = authd_client.user_profile_get('-')\n",
    "display_name = user_stats[\"user\"][\"displayName\"]\n",
    "print(display_name)"
   ]
  },
  {
   "cell_type": "markdown",
   "metadata": {
    "nbpresent": {
     "id": "4ff23fef-41a0-4907-af68-0cae0b878084"
    }
   },
   "source": [
    "Fitbit API responses are in [JSON](http://www.json.org/) format. `python-fitbit` returns the JSON responses as Python dictionaries which makes the response straightforward to parse."
   ]
  }
 ],
 "metadata": {
  "anaconda-cloud": {},
  "kernelspec": {
   "display_name": "Python [Root]",
   "language": "python",
   "name": "Python [Root]"
  },
  "language_info": {
   "codemirror_mode": {
    "name": "ipython",
    "version": 3
   },
   "file_extension": ".py",
   "mimetype": "text/x-python",
   "name": "python",
   "nbconvert_exporter": "python",
   "pygments_lexer": "ipython3",
   "version": "3.5.2"
  },
  "nbpresent": {
   "slides": {
    "19e7b39d-db74-44e6-98fe-7d0e953bee01": {
     "id": "19e7b39d-db74-44e6-98fe-7d0e953bee01",
     "prev": "a7d45814-1604-49c5-858b-b1aac2abf679",
     "regions": {
      "933b2ff1-ed9d-4a4c-976b-2ad22054905b": {
       "attrs": {
        "height": 0.8,
        "width": 0.8,
        "x": 0.1,
        "y": 0.1
       },
       "content": {
        "cell": "7c2daf2a-6aa9-4ec8-8f45-81e7616fca9c",
        "part": "whole"
       },
       "id": "933b2ff1-ed9d-4a4c-976b-2ad22054905b"
      }
     }
    },
    "2efba40c-7c35-4d0d-bb9a-b8dc96c82dab": {
     "id": "2efba40c-7c35-4d0d-bb9a-b8dc96c82dab",
     "prev": "cbeb41d5-c240-44d1-a152-bb5921f8b4ce",
     "regions": {
      "cd9f65b4-9987-444a-a212-4ac66d2b58b4": {
       "attrs": {
        "height": 0.8,
        "width": 0.8,
        "x": 0.1,
        "y": 0.1
       },
       "content": {
        "cell": "703876c1-a957-427b-8e52-c6037373a8c8",
        "part": "whole"
       },
       "id": "cd9f65b4-9987-444a-a212-4ac66d2b58b4"
      }
     }
    },
    "47f5fdce-0abd-4823-98fc-0936959954ed": {
     "id": "47f5fdce-0abd-4823-98fc-0936959954ed",
     "prev": "b7de2694-ea64-4e43-9c2b-9c906ce778af",
     "regions": {
      "8cedeed2-289b-4155-98c3-ebbd0c476c34": {
       "attrs": {
        "height": 0.8,
        "width": 0.8,
        "x": 0.1,
        "y": 0.1
       },
       "content": {
        "cell": "9ae5333b-7c21-453d-866f-cd2ccd76a027",
        "part": "whole"
       },
       "id": "8cedeed2-289b-4155-98c3-ebbd0c476c34"
      }
     }
    },
    "51e3947e-73d0-43af-ab33-bc051aa7bcdf": {
     "id": "51e3947e-73d0-43af-ab33-bc051aa7bcdf",
     "prev": "e42cc357-231c-434d-b585-9c61e8e66158",
     "regions": {
      "05d2aeca-3cf4-4e4b-b7c5-4495ccf559e5": {
       "attrs": {
        "height": 0.8,
        "width": 0.8,
        "x": 0.1,
        "y": 0.1
       },
       "content": {
        "cell": "73ede6d5-5d13-4f4b-b757-bdc6b9cf0ad5",
        "part": "whole"
       },
       "id": "05d2aeca-3cf4-4e4b-b7c5-4495ccf559e5"
      }
     }
    },
    "70ccc8cd-03b5-446c-bf40-fcfe0610cdb4": {
     "id": "70ccc8cd-03b5-446c-bf40-fcfe0610cdb4",
     "prev": null,
     "regions": {
      "b5023836-6aef-4d2d-b22d-50bd528e908c": {
       "attrs": {
        "height": 0.8,
        "width": 0.8,
        "x": 0.1,
        "y": 0.1
       },
       "content": {
        "cell": "d7e6bce8-bdaa-4c1a-91db-a155bb03df4d",
        "part": "whole"
       },
       "id": "b5023836-6aef-4d2d-b22d-50bd528e908c"
      }
     }
    },
    "a2a90926-6462-4a70-aded-a20c1ec683f1": {
     "id": "a2a90926-6462-4a70-aded-a20c1ec683f1",
     "prev": "b521c343-79b1-4194-9994-dede76eb6313",
     "regions": {
      "e40b1bd4-af17-4654-ab67-88b3a950b88c": {
       "attrs": {
        "height": 0.8,
        "width": 0.8,
        "x": 0.1,
        "y": 0.1
       },
       "content": {
        "cell": "ade6b704-ecc3-41f0-9767-f3df999e07c5",
        "part": "whole"
       },
       "id": "e40b1bd4-af17-4654-ab67-88b3a950b88c"
      }
     }
    },
    "a7d45814-1604-49c5-858b-b1aac2abf679": {
     "id": "a7d45814-1604-49c5-858b-b1aac2abf679",
     "prev": "a2a90926-6462-4a70-aded-a20c1ec683f1",
     "regions": {
      "a241ccd4-acf4-43b4-b762-0d50aeeca924": {
       "attrs": {
        "height": 0.8,
        "width": 0.8,
        "x": 0.1,
        "y": 0.1
       },
       "content": {
        "cell": "f01dda9a-5964-4f88-965a-fffb6b4ff478",
        "part": "whole"
       },
       "id": "a241ccd4-acf4-43b4-b762-0d50aeeca924"
      }
     }
    },
    "b521c343-79b1-4194-9994-dede76eb6313": {
     "id": "b521c343-79b1-4194-9994-dede76eb6313",
     "prev": "2efba40c-7c35-4d0d-bb9a-b8dc96c82dab",
     "regions": {
      "db1cc88c-c65f-4038-a812-027cde8ee563": {
       "attrs": {
        "height": 0.8,
        "width": 0.8,
        "x": 0.1,
        "y": 0.1
       },
       "content": {
        "cell": "3ec8674b-461e-49a4-9cce-35a136e03458",
        "part": "whole"
       },
       "id": "db1cc88c-c65f-4038-a812-027cde8ee563"
      }
     }
    },
    "b7de2694-ea64-4e43-9c2b-9c906ce778af": {
     "id": "b7de2694-ea64-4e43-9c2b-9c906ce778af",
     "prev": "70ccc8cd-03b5-446c-bf40-fcfe0610cdb4",
     "regions": {
      "d8db2e26-a91e-4916-b871-b7d16089b873": {
       "attrs": {
        "height": 0.8,
        "width": 0.8,
        "x": 0.1,
        "y": 0.1
       },
       "content": {
        "cell": "c2239277-5703-4a0c-876a-d7d5d7a483f8",
        "part": "whole"
       },
       "id": "d8db2e26-a91e-4916-b871-b7d16089b873"
      }
     }
    },
    "cbeb41d5-c240-44d1-a152-bb5921f8b4ce": {
     "id": "cbeb41d5-c240-44d1-a152-bb5921f8b4ce",
     "prev": "51e3947e-73d0-43af-ab33-bc051aa7bcdf",
     "regions": {
      "84d8654e-2f7e-49bb-97b1-e2e162eb9ee9": {
       "attrs": {
        "height": 0.8,
        "width": 0.8,
        "x": 0.1,
        "y": 0.1
       },
       "content": {
        "cell": "524a9f36-8f6e-4e25-af3b-352d7c13e663",
        "part": "whole"
       },
       "id": "84d8654e-2f7e-49bb-97b1-e2e162eb9ee9"
      }
     }
    },
    "cea275ba-d88e-48aa-8077-1f240074a568": {
     "id": "cea275ba-d88e-48aa-8077-1f240074a568",
     "prev": "facc11b6-c392-46f8-8858-8b0bf063d05e",
     "regions": {
      "edc4eba4-3c08-43e8-ba49-a8d928b357a6": {
       "attrs": {
        "height": 0.8,
        "width": 0.8,
        "x": 0.1,
        "y": 0.1
       },
       "content": {
        "cell": "4ff23fef-41a0-4907-af68-0cae0b878084",
        "part": "whole"
       },
       "id": "edc4eba4-3c08-43e8-ba49-a8d928b357a6"
      }
     }
    },
    "e42cc357-231c-434d-b585-9c61e8e66158": {
     "id": "e42cc357-231c-434d-b585-9c61e8e66158",
     "prev": "47f5fdce-0abd-4823-98fc-0936959954ed",
     "regions": {
      "abb5e57a-93c4-4c88-a980-5ee1bedc27e1": {
       "attrs": {
        "height": 0.8,
        "width": 0.8,
        "x": 0.1,
        "y": 0.1
       },
       "content": {
        "cell": "3b138d11-5033-45a9-8b59-6aa9138e3d71",
        "part": "whole"
       },
       "id": "abb5e57a-93c4-4c88-a980-5ee1bedc27e1"
      }
     }
    },
    "facc11b6-c392-46f8-8858-8b0bf063d05e": {
     "id": "facc11b6-c392-46f8-8858-8b0bf063d05e",
     "prev": "19e7b39d-db74-44e6-98fe-7d0e953bee01",
     "regions": {
      "6da629e3-853c-49c8-8f5b-fa3602b32eda": {
       "attrs": {
        "height": 0.8,
        "width": 0.8,
        "x": 0.1,
        "y": 0.1
       },
       "content": {
        "cell": "6d0d0e34-85f6-41b8-8a14-fe11dd2cabd1",
        "part": "whole"
       },
       "id": "6da629e3-853c-49c8-8f5b-fa3602b32eda"
      }
     }
    }
   },
   "themes": {}
  }
 },
 "nbformat": 4,
 "nbformat_minor": 0
}
