{
 "cells": [
  {
   "cell_type": "markdown",
   "metadata": {},
   "source": [
    "# [AHA! Activity Health Analytics](http://casas.wsu.edu/)\n",
    "[Center for Advanced Studies of Adaptive Systems (CASAS)](http://casas.wsu.edu/)\n",
    "\n",
    "[Washington State University](https://wsu.edu)\n",
    "# L6 Pandas DataFrame: Part 1\n",
    "\n",
    "## Learner Objectives\n",
    "At the conclusion of this lesson, participants should have an understanding of:\n",
    "* The Pandas library\n",
    "* Working with Pandas `DataFrame` objects\n",
    "\n",
    "## Acknowledgments\n",
    "Content used in this lesson is based upon information in the following sources:\n",
    "* [Pandas website](http://pandas.pydata.org/)\n",
    "* Python for Data Analysis by Wes McKinney"
   ]
  },
  {
   "cell_type": "markdown",
   "metadata": {},
   "source": [
    "## `DataFrame`\n",
    "`DataFrame` is a two dimensional labeled data structure. `DataFrame` has index (just like `Series`). Each `DataFrame` index value *maps* to a labeled `Series`. You can think of a `DataFrame` like an Excel spreadsheet, SQL table, or a dict of `Series` objects. The index represents the rows and the `Series` represents the columns. \n",
    "\n",
    "Like Series, DataFrame accepts many different kinds of input:\n",
    "* Dictionary of 1D array-like objects (`ndarrays`, lists, dictionaries, or `Series`)\n",
    "* 2-D `ndarray`\n",
    "* Structured or record `ndarray`\n",
    "* A `Series`\n",
    "* Another `DataFrame`\n",
    "\n",
    "### `DataFrame` from Lists\n",
    "Let's expand our Washington city population `Series` example. Suppose we want to store the four most populated cities in Washington, Idaho, and Oregon. Let's declare dictionaries to store this new information. Then we will create a `DataFrame` to represent all three states' populations:"
   ]
  },
  {
   "cell_type": "code",
   "execution_count": 7,
   "metadata": {
    "collapsed": false
   },
   "outputs": [
    {
     "name": "stdout",
     "output_type": "stream",
     "text": [
      "          0        1         2            3\n",
      "0   Seattle  Spokane    Tacoma    Vancouver\n",
      "1     Boise    Nampa  Meridian  Idaho Falls\n",
      "2  Portland   Eugene     Salem      Gresham\n"
     ]
    }
   ],
   "source": [
    "import pandas as pd\n",
    "\n",
    "washington = [\"Seattle\", \"Spokane\", \"Tacoma\", \"Vancouver\"]\n",
    "idaho = [\"Boise\", \"Nampa\", \"Meridian\", \"Idaho Falls\"]\n",
    "oregon = [\"Portland\", \"Eugene\", \"Salem\", \"Gresham\"]\n",
    "pops = [washington, idaho, oregon]\n",
    "df = pd.DataFrame(pops)\n",
    "print(df)"
   ]
  },
  {
   "cell_type": "markdown",
   "metadata": {},
   "source": [
    "Pandas stacks the nested list into a 2-dimensional `DataFrame`. By default, the index and columns are labeled as 0-based indices. Instead, we want to provide labels to help with indexing later:"
   ]
  },
  {
   "cell_type": "code",
   "execution_count": 8,
   "metadata": {
    "collapsed": false
   },
   "outputs": [
    {
     "name": "stdout",
     "output_type": "stream",
     "text": [
      "Population DataFrame #1\n",
      "           1        2         3            4\n",
      "WA   Seattle  Spokane    Tacoma    Vancouver\n",
      "ID     Boise    Nampa  Meridian  Idaho Falls\n",
      "OR  Portland   Eugene     Salem      Gresham\n"
     ]
    }
   ],
   "source": [
    "import numpy as np\n",
    "df = pd.DataFrame(pops, index=[\"WA\", \"ID\", \"OR\"], columns=np.arange(1, len(washington) + 1))\n",
    "print(\"Population DataFrame #1\")\n",
    "print(df)"
   ]
  },
  {
   "cell_type": "markdown",
   "metadata": {},
   "source": [
    "### `DataFrame` from Dictionaries\n",
    "Let's re-work the above example to build the `DataFrame` from dictionaries. This can be useful because the dictionary keys will be used for the `DataFrame` columns:"
   ]
  },
  {
   "cell_type": "code",
   "execution_count": 9,
   "metadata": {
    "collapsed": false
   },
   "outputs": [
    {
     "name": "stdout",
     "output_type": "stream",
     "text": [
      "            ID        OR         WA\n",
      "0        Boise  Portland    Seattle\n",
      "1        Nampa    Eugene    Spokane\n",
      "2     Meridian     Salem     Tacoma\n",
      "3  Idaho Falls   Gresham  Vancouver\n"
     ]
    }
   ],
   "source": [
    "pops_dict = {\"WA\": washington, \"ID\": idaho, \"OR\": oregon}\n",
    "df2 = pd.DataFrame(pops_dict)\n",
    "print(df2)"
   ]
  },
  {
   "cell_type": "markdown",
   "metadata": {},
   "source": [
    "We can then update the index to start at 1:"
   ]
  },
  {
   "cell_type": "code",
   "execution_count": 10,
   "metadata": {
    "collapsed": false
   },
   "outputs": [
    {
     "name": "stdout",
     "output_type": "stream",
     "text": [
      "Population DataFrame #2\n",
      "            ID        OR         WA\n",
      "1        Boise  Portland    Seattle\n",
      "2        Nampa    Eugene    Spokane\n",
      "3     Meridian     Salem     Tacoma\n",
      "4  Idaho Falls   Gresham  Vancouver\n"
     ]
    }
   ],
   "source": [
    "df2.index += 1\n",
    "print(\"Population DataFrame #2\")\n",
    "print(df2)"
   ]
  },
  {
   "cell_type": "markdown",
   "metadata": {},
   "source": [
    "Now, `df` (Population `DataFrame` #1) and `df2` (Population `DataFrame` #2) are the transpose of each other:"
   ]
  },
  {
   "cell_type": "code",
   "execution_count": 11,
   "metadata": {
    "collapsed": false
   },
   "outputs": [
    {
     "name": "stdout",
     "output_type": "stream",
     "text": [
      "           1        2         3            4\n",
      "ID     Boise    Nampa  Meridian  Idaho Falls\n",
      "OR  Portland   Eugene     Salem      Gresham\n",
      "WA   Seattle  Spokane    Tacoma    Vancouver\n",
      "           1        2         3            4\n",
      "ID     Boise    Nampa  Meridian  Idaho Falls\n",
      "OR  Portland   Eugene     Salem      Gresham\n",
      "WA   Seattle  Spokane    Tacoma    Vancouver\n",
      "       1     2     3     4\n",
      "ID  True  True  True  True\n",
      "OR  True  True  True  True\n",
      "WA  True  True  True  True\n"
     ]
    }
   ],
   "source": [
    "df2T = df2.T # transpose\n",
    "# re-order\n",
    "df = df.sort_index()\n",
    "df2T = df2T.sort_index()\n",
    "print(df)\n",
    "print(df2T)\n",
    "print(df == df2T)"
   ]
  },
  {
   "cell_type": "markdown",
   "metadata": {},
   "source": [
    "What happens if the dictionaries used to create a `DataFrame` do not have the same keys? Just like with `Series`, the `DataFrame` index of unaligned columns will be the union of the keys."
   ]
  },
  {
   "cell_type": "code",
   "execution_count": 12,
   "metadata": {
    "collapsed": false
   },
   "outputs": [
    {
     "name": "stdout",
     "output_type": "stream",
     "text": [
      "                     ID        OR        WA\n",
      "Bellevue            NaN       NaN  133992.0\n",
      "Boise          205671.0       NaN       NaN\n",
      "Coeur d'Alene   44137.0       NaN       NaN\n",
      "Corvallis           NaN   54462.0       NaN\n",
      "Eugene              NaN  156185.0       NaN\n",
      "Hillsboro           NaN   91611.0       NaN\n",
      "Leavenworth         NaN       NaN    1992.0\n",
      "Moscow          23800.0       NaN       NaN\n",
      "Nampa           81557.0       NaN       NaN\n",
      "Portland            NaN  583776.0       NaN\n",
      "Seattle             NaN       NaN  652405.0\n",
      "Spokane             NaN       NaN  210721.0\n"
     ]
    }
   ],
   "source": [
    "washington = {\"Seattle\": 652405, \"Spokane\": 210721, \"Bellevue\": 133992, \"Leavenworth\": 1992}\n",
    "idaho = {\"Boise\": 205671, \"Nampa\": 81557, \"Coeur d'Alene\": 44137, \"Moscow\": 23800}\n",
    "oregon = {\"Portland\": 583776, \"Eugene\": 156185, \"Hillsboro\": 91611, \"Corvallis\": 54462}\n",
    "pops = {\"WA\": washington, \"ID\": idaho, \"OR\": oregon}\n",
    "df = pd.DataFrame(pops)\n",
    "print(df)"
   ]
  },
  {
   "cell_type": "markdown",
   "metadata": {},
   "source": [
    "### `DataFrame` from `ndarray`\n",
    "As another example, let's create a `DataFrame` from random data stored in an `ndarray`:"
   ]
  },
  {
   "cell_type": "code",
   "execution_count": 13,
   "metadata": {
    "collapsed": false
   },
   "outputs": [
    {
     "name": "stdout",
     "output_type": "stream",
     "text": [
      "       col1      col2      col3      col4\n",
      "a  1.234266  2.095078 -0.096673  0.383125\n",
      "b  1.406528 -0.556563  0.620373 -0.026869\n",
      "c  0.375379  0.930456 -0.251887  0.328747\n"
     ]
    }
   ],
   "source": [
    "from numpy.random import randn\n",
    "rand_data = randn(3, 4)\n",
    "rand_df = pd.DataFrame(rand_data, index=[\"a\", \"b\", \"c\"], columns=[\"col1\", \"col2\", \"col3\", \"col4\"])\n",
    "print(rand_df)"
   ]
  },
  {
   "cell_type": "markdown",
   "metadata": {},
   "source": [
    "### Working with Columns\n",
    "You can treat a `DataFrame` semantically like a dictionary of like-indexed `Series` objects. Getting, setting, and deleting columns works with the same syntax as the analogous dictionary operations:"
   ]
  },
  {
   "cell_type": "code",
   "execution_count": 14,
   "metadata": {
    "collapsed": false
   },
   "outputs": [
    {
     "name": "stdout",
     "output_type": "stream",
     "text": [
      "       col1      col2      col3      col4\n",
      "a  0.035687  2.499510  0.345747  0.397402\n",
      "b  0.439195  0.602978 -0.546295 -0.656553\n",
      "c  2.730834 -1.801815 -0.802332 -0.083538\n",
      "a    2.499510\n",
      "b    0.602978\n",
      "c   -1.801815\n",
      "Name: col2, dtype: float64\n",
      "       col1      col2      col3  col4\n",
      "a  0.035687  2.499510  0.345747   100\n",
      "b  0.439195  0.602978 -0.546295   100\n",
      "c  2.730834 -1.801815 -0.802332   100\n",
      "       col1      col2      col3  col4   col5\n",
      "a  0.035687  2.499510  0.345747   100  False\n",
      "b  0.439195  0.602978 -0.546295   100  False\n",
      "c  2.730834 -1.801815 -0.802332   100   True\n",
      "       col1      col2      col3  col4   col5         sum\n",
      "a  0.035687  2.499510  0.345747   100  False  102.880943\n",
      "b  0.439195  0.602978 -0.546295   100  False  100.495879\n",
      "c  2.730834 -1.801815 -0.802332   100   True  101.126687\n",
      "       col1      col2  ones      col3  col4   col5         sum\n",
      "a  0.035687  2.499510     1  0.345747   100  False  102.880943\n",
      "b  0.439195  0.602978     1 -0.546295   100  False  100.495879\n",
      "c  2.730834 -1.801815     1 -0.802332   100   True  101.126687\n",
      "       col1      col2  ones      col3  col4         sum\n",
      "a  0.035687  2.499510     1  0.345747   100  102.880943\n",
      "b  0.439195  0.602978     1 -0.546295   100  100.495879\n",
      "c  2.730834 -1.801815     1 -0.802332   100  101.126687\n",
      "       col1      col2  ones      col3  col4\n",
      "a  0.035687  2.499510     1  0.345747   100\n",
      "b  0.439195  0.602978     1 -0.546295   100\n",
      "c  2.730834 -1.801815     1 -0.802332   100\n",
      "Popped column is a Series:\n",
      "a    102.880943\n",
      "b    100.495879\n",
      "c    101.126687\n",
      "Name: sum, dtype: float64\n"
     ]
    }
   ],
   "source": [
    "rand_data = randn(3, 4)\n",
    "rand_df = pd.DataFrame(rand_data, index=[\"a\", \"b\", \"c\"], columns=[\"col1\", \"col2\", \"col3\", \"col4\"])\n",
    "print(rand_df)\n",
    "\n",
    "# index column\n",
    "print(rand_df[\"col2\"])\n",
    "# update column\n",
    "rand_df[\"col4\"] = 100 # 100 is propogated to fill the column\n",
    "print(rand_df)\n",
    "# add columns (inserted at end)\n",
    "rand_df[\"col5\"] = rand_df[\"col1\"] > rand_df[\"col2\"]\n",
    "print(rand_df)\n",
    "rand_df[\"sum\"] = rand_df.sum(axis=\"columns\")\n",
    "print(rand_df)\n",
    "# add columns at location\n",
    "rand_df.insert(2, \"ones\", 1)\n",
    "print(rand_df)\n",
    "# delete columns\n",
    "del rand_df[\"col5\"]\n",
    "print(rand_df)\n",
    "sum_ser = rand_df.pop(\"sum\")\n",
    "print(rand_df)\n",
    "print(\"Popped column is a Series:\")\n",
    "print(sum_ser)"
   ]
  }
 ],
 "metadata": {
  "anaconda-cloud": {},
  "kernelspec": {
   "display_name": "Python [Root]",
   "language": "python",
   "name": "Python [Root]"
  },
  "language_info": {
   "codemirror_mode": {
    "name": "ipython",
    "version": 3
   },
   "file_extension": ".py",
   "mimetype": "text/x-python",
   "name": "python",
   "nbconvert_exporter": "python",
   "pygments_lexer": "ipython3",
   "version": "3.5.2"
  }
 },
 "nbformat": 4,
 "nbformat_minor": 0
}
