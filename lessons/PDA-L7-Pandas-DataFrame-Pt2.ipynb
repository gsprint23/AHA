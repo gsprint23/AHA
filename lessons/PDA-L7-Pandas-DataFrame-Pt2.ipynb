{
 "cells": [
  {
   "cell_type": "markdown",
   "metadata": {},
   "source": [
    "# [AHA! Activity Health Analytics](http://casas.wsu.edu/)\n",
    "[Center for Advanced Studies of Adaptive Systems (CASAS)](http://casas.wsu.edu/)\n",
    "\n",
    "[Washington State University](https://wsu.edu)\n",
    "# L7 Pandas DataFrame: Part 2\n",
    "\n",
    "## Learner Objectives\n",
    "At the conclusion of this lesson, participants should have an understanding of:\n",
    "* The Pandas library\n",
    "* Working with Pandas `DataFrame` objects\n",
    "\n",
    "## Acknowledgments\n",
    "Content used in this lesson is based upon information in the following sources:\n",
    "* [Pandas website](http://pandas.pydata.org/)\n",
    "* Python for Data Analysis by Wes McKinney"
   ]
  },
  {
   "cell_type": "markdown",
   "metadata": {},
   "source": [
    "## Pandas DataFrame Continued"
   ]
  },
  {
   "cell_type": "code",
   "execution_count": 1,
   "metadata": {
    "collapsed": true
   },
   "outputs": [],
   "source": [
    "import pandas as pd"
   ]
  },
  {
   "cell_type": "markdown",
   "metadata": {},
   "source": [
    "### Indexing\n",
    "From the [Pandas website](http://pandas.pydata.org/), the basics of indexing are as follows:\n",
    "\n",
    "|Operation|Syntax|Result|\n",
    "|-|-|-|\n",
    "|Select column\t|`df[col]`\t|`Series`|\n",
    "|Select row by label\t|`df.loc[label]`|\t`Series`|\n",
    "|Select row by integer location\t|`df.iloc[loc]`\t|`Series`|\n",
    "|Slice rows\t|`df[5:10]`\t|`DataFrame`|\n",
    "|Select rows by boolean vector\t|`df[bool_vec]`|\t`DataFrame`|"
   ]
  },
  {
   "cell_type": "code",
   "execution_count": 15,
   "metadata": {
    "collapsed": false
   },
   "outputs": [
    {
     "name": "stdout",
     "output_type": "stream",
     "text": [
      "       col1      col2      col3      col4\n",
      "a -1.294607 -1.335656 -0.818923  2.005748\n",
      "b -0.952310  0.221592 -0.609447  2.572125\n",
      "c -0.357690 -0.057465  0.177202  1.420419\n",
      "col1   -0.952310\n",
      "col2    0.221592\n",
      "col3   -0.609447\n",
      "col4    2.572125\n",
      "Name: b, dtype: float64\n",
      "col1   -0.952310\n",
      "col2    0.221592\n",
      "col3   -0.609447\n",
      "col4    2.572125\n",
      "Name: b, dtype: float64\n",
      "       col1      col2      col3      col4\n",
      "a -1.294607 -1.335656 -0.818923  2.005748\n",
      "b -0.952310  0.221592 -0.609447  2.572125\n"
     ]
    }
   ],
   "source": [
    "rand_data = randn(3, 4)\n",
    "rand_df = pd.DataFrame(rand_data, index=[\"a\", \"b\", \"c\"], columns=[\"col1\", \"col2\", \"col3\", \"col4\"])\n",
    "print(rand_df)\n",
    "\n",
    "# row indexing by label\n",
    "print(rand_df.loc[\"b\"])\n",
    "# row indexing by location\n",
    "print(rand_df.iloc[1])\n",
    "# row slicing by location\n",
    "print(rand_df[0:2])"
   ]
  },
  {
   "cell_type": "markdown",
   "metadata": {},
   "source": [
    "### Combining `DataFrame`s\n",
    "Pandas supports many ways to combine `DataFrame`s together, including merging, joining, and concatenating. For simplicity, we will focus on concatenation with the `concat` function in the main Pandas namespace. \n",
    "\n",
    "Suppose we have three `DataFrame`s with the same column labels that we want to combine into a single `DataFrame`. We can use `pd.concat(<list of DataFrames>)` to combine them. The following example is from the Pandas documentation on [merging](http://pandas.pydata.org/pandas-docs/stable/merging.html):"
   ]
  },
  {
   "cell_type": "code",
   "execution_count": 16,
   "metadata": {
    "collapsed": false
   },
   "outputs": [
    {
     "name": "stdout",
     "output_type": "stream",
     "text": [
      "      A    B    C    D\n",
      "10  A10  B10  C10  D10\n",
      "11  A11  B11  C11  D11\n",
      "Help on method tail in module pandas.core.generic:\n",
      "\n",
      "tail(n=5) method of pandas.core.frame.DataFrame instance\n",
      "    Returns last n rows\n",
      "\n",
      "None\n"
     ]
    }
   ],
   "source": [
    "df1 = pd.DataFrame({'A': ['A0', 'A1', 'A2', 'A3'],\n",
    "'B': ['B0', 'B1', 'B2', 'B3'],\n",
    "'C': ['C0', 'C1', 'C2', 'C3'],\n",
    "'D': ['D0', 'D1', 'D2', 'D3']},\n",
    "index=[0, 1, 2, 3])\n",
    "\n",
    "df2 = pd.DataFrame({'A': ['A4', 'A5', 'A6', 'A7'],\n",
    "'B': ['B4', 'B5', 'B6', 'B7'],\n",
    "'C': ['C4', 'C5', 'C6', 'C7'],\n",
    "'D': ['D4', 'D5', 'D6', 'D7']},\n",
    "index=[4, 5, 6, 7])\n",
    "\n",
    "df3 = pd.DataFrame({'A': ['A8', 'A9', 'A10', 'A11'],\n",
    "'B': ['B8', 'B9', 'B10', 'B11'],\n",
    "'C': ['C8', 'C9', 'C10', 'C11'],\n",
    "'D': ['D8', 'D9', 'D10', 'D11']},\n",
    "index=[8, 9, 10, 11])\n",
    "\n",
    "frames = [df1, df2, df3]\n",
    "result = pd.concat(frames)\n",
    "print(result.tail(2))\n",
    "print(help(result.tail))"
   ]
  },
  {
   "cell_type": "markdown",
   "metadata": {},
   "source": [
    "The resulting `DataFrame` is a combination is `df3` concatenated to the end of `df2`, which is concatenated to the end of `df1`:\n",
    "![](http://pandas.pydata.org/pandas-docs/stable/_images/merging_concat_basic.png)\n",
    "(image from [http://pandas.pydata.org/pandas-docs/stable/_images/merging_concat_basic.png](http://pandas.pydata.org/pandas-docs/stable/_images/merging_concat_basic.png))"
   ]
  },
  {
   "cell_type": "markdown",
   "metadata": {},
   "source": [
    "### Viewing Large `DataFrame`s\n",
    "In this class we will be working with some big `DataFrame`s. Pandas will output condensed `DataFrame`s using .... There are also object methods to view shortened or summarized `DataFrame` information:\n",
    "* `describe()`: Generate various summary statistics, excluding NaN values\n",
    "* `head(n=5)`: Returns first `n` rows \n",
    "* `tail(n=5)`: Returns the last `n` rows"
   ]
  },
  {
   "cell_type": "code",
   "execution_count": 17,
   "metadata": {
    "collapsed": false
   },
   "outputs": [
    {
     "name": "stdout",
     "output_type": "stream",
     "text": [
      "         A   B    C   D\n",
      "count   12  12   12  12\n",
      "unique  12  12   12  12\n",
      "top     A4  B5  C10  D4\n",
      "freq     1   1    1   1\n",
      "\n",
      "\n",
      "    A   B   C   D\n",
      "0  A0  B0  C0  D0\n",
      "1  A1  B1  C1  D1\n",
      "\n",
      "\n",
      "      A    B    C    D\n",
      "10  A10  B10  C10  D10\n",
      "11  A11  B11  C11  D11\n"
     ]
    }
   ],
   "source": [
    "print(result.describe())\n",
    "print(\"\\n\")\n",
    "print(result.head(n=2))\n",
    "print(\"\\n\")\n",
    "print(result.tail(n=2))"
   ]
  },
  {
   "cell_type": "markdown",
   "metadata": {},
   "source": [
    "### File I/O\n",
    "With Pandas, we can easily write our data frames out to a csv (comma separated value) file to save for later use after our program terminates. The `DataFrame` method [`to_csv()`](https://pandas.pydata.org/pandas-docs/stable/generated/pandas.DataFrame.to_csv.html) write a data frame to a csv file. The rows and columns of the data frame will be the rows and columns of the csv file. \n",
    "\n",
    "For example, suppose we want to write to a file our example data frame we used to learn how to concatenate data frames together. We can do this in a one-liner:"
   ]
  },
  {
   "cell_type": "code",
   "execution_count": 22,
   "metadata": {
    "collapsed": false
   },
   "outputs": [],
   "source": [
    "fname = r\"files\\to_csv_example_df.csv\"\n",
    "result.to_csv(fname)"
   ]
  },
  {
   "cell_type": "markdown",
   "metadata": {},
   "source": [
    "If we open [to_csv_example_df.csv](https://raw.githubusercontent.com/gsprint23/aha/master/lessons/files/to_csv_example_df.csv) with Microsoft Excel, we see the following table:\n",
    "<img src=\"https://raw.githubusercontent.com/gsprint23/aha/master/lessons/figures/to_csv_example_df.png\" width=\"400\">\n",
    "\n",
    "We can also load data from a csv file into a data frame. To do this, we use the [`read_csv()`](http://pandas.pydata.org/pandas-docs/stable/generated/pandas.read_csv.html) Pandas function:"
   ]
  },
  {
   "cell_type": "code",
   "execution_count": 24,
   "metadata": {
    "collapsed": false
   },
   "outputs": [
    {
     "name": "stdout",
     "output_type": "stream",
     "text": [
      "    Unnamed: 0    A    B    C    D\n",
      "0            0   A0   B0   C0   D0\n",
      "1            1   A1   B1   C1   D1\n",
      "2            2   A2   B2   C2   D2\n",
      "3            3   A3   B3   C3   D3\n",
      "4            4   A4   B4   C4   D4\n",
      "5            5   A5   B5   C5   D5\n",
      "6            6   A6   B6   C6   D6\n",
      "7            7   A7   B7   C7   D7\n",
      "8            8   A8   B8   C8   D8\n",
      "9            9   A9   B9   C9   D9\n",
      "10          10  A10  B10  C10  D10\n",
      "11          11  A11  B11  C11  D11\n",
      "Index(['Unnamed: 0', 'A', 'B', 'C', 'D'], dtype='object')\n"
     ]
    }
   ],
   "source": [
    "df = pd.read_csv(fname)\n",
    "print(df)\n",
    "print(df.columns)"
   ]
  },
  {
   "cell_type": "markdown",
   "metadata": {},
   "source": [
    "However, we seem some less than desirable output. For example, the first column in the csv file is our index, but our data frame is creating and assigning a new index. We also have the extra column \"Unnamed: 0\". We can explicitly tell Pandas the first column is the index with the keyword `index_col`. It is also good to explicitly tell Pandas the first row is our header row and contains the column labels. We can do this with the keyword `header`."
   ]
  },
  {
   "cell_type": "code",
   "execution_count": 25,
   "metadata": {
    "collapsed": false
   },
   "outputs": [
    {
     "name": "stdout",
     "output_type": "stream",
     "text": [
      "      A    B    C    D\n",
      "0    A0   B0   C0   D0\n",
      "1    A1   B1   C1   D1\n",
      "2    A2   B2   C2   D2\n",
      "3    A3   B3   C3   D3\n",
      "4    A4   B4   C4   D4\n",
      "5    A5   B5   C5   D5\n",
      "6    A6   B6   C6   D6\n",
      "7    A7   B7   C7   D7\n",
      "8    A8   B8   C8   D8\n",
      "9    A9   B9   C9   D9\n",
      "10  A10  B10  C10  D10\n",
      "11  A11  B11  C11  D11\n",
      "Index(['A', 'B', 'C', 'D'], dtype='object')\n"
     ]
    }
   ],
   "source": [
    "# another attempt at reading in the csv data\n",
    "df = pd.read_csv(fname, index_col=0, header=0)\n",
    "print(df)\n",
    "print(df.columns)"
   ]
  },
  {
   "cell_type": "markdown",
   "metadata": {},
   "source": [
    "## `Panel`\n",
    "From the [Pandas website](http://pandas.pydata.org/):\n",
    ">Panel is a somewhat less-used, but still important container for 3-dimensional data. The term panel data is derived from econometrics and is partially responsible for the name pandas: pan(el)-da(ta)-s. The names for the 3 axes are intended to give some semantic meaning to describing operations involving panel data and, in particular, econometric analysis of panel data. However, for the strict purposes of slicing and dicing a collection of DataFrame objects, you may find the axis names slightly arbitrary:\n",
    "* items: axis 0, each item corresponds to a DataFrame contained inside\n",
    "* major_axis: axis 1, it is the index (rows) of each of the DataFrames\n",
    "* minor_axis: axis 2, it is the columns of each of the DataFrames\n",
    "\n",
    "We will not officially cover `Panel`s at this point in the course. You are welcome to read up on them if you would like.\n",
    "\n",
    "## Summary\n",
    "We have covered quite a bit of information on Pandas, but we have only scratched the surface! I highly encourage you to read *Python for Data Analysis* by Wes McKinney and practice working with `Series` and `DataFrame` objects. For the rest of the class, we will learn new Pandas functionality as we go. "
   ]
  }
 ],
 "metadata": {
  "anaconda-cloud": {},
  "kernelspec": {
   "display_name": "Python [Root]",
   "language": "python",
   "name": "Python [Root]"
  },
  "language_info": {
   "codemirror_mode": {
    "name": "ipython",
    "version": 3
   },
   "file_extension": ".py",
   "mimetype": "text/x-python",
   "name": "python",
   "nbconvert_exporter": "python",
   "pygments_lexer": "ipython3",
   "version": "3.5.2"
  }
 },
 "nbformat": 4,
 "nbformat_minor": 0
}
