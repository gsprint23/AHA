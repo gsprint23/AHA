{
 "cells": [
  {
   "cell_type": "markdown",
   "metadata": {},
   "source": [
    "# [AHA! Activity Health Analytics](http://casas.wsu.edu/)\n",
    "[Center for Advanced Studies of Adaptive Systems (CASAS)](http://casas.wsu.edu/)\n",
    "\n",
    "[Washington State University](https://wsu.edu)\n",
    "# L5 Aggregation\n",
    "\n",
    "## Learner Objectives\n",
    "At the conclusion of this lesson, participants should have an understanding of:\n",
    "* Performing data aggregation\n",
    "* Computing summary statistics\n",
    "\n",
    "## Acknowledgments\n",
    "Content used in this lesson is based upon information in the following sources:\n",
    "* [Pandas website](http://pandas.pydata.org/)\n",
    "* Python for Data Analysis by Wes McKinney"
   ]
  },
  {
   "cell_type": "markdown",
   "metadata": {},
   "source": [
    "## Data Aggregation Overview\n",
    "Gathering and summarizing information, perhaps in preparation for statistical analysis or visualization, is called *data aggregation*. For example, suppose you want to investigate the similarities/differences amongst patients in a clinical setting. Suppose specific attributes you are interested in include medical condition, age, and gender. You might *group* the data into two groups: male and female. By grouping the data based on a variable, such as gender, you are aggregating the data. The grouping allows you to then create a bar chart representing the frequency of each medical condition present in each group, or perform hypothesis testing to see if there is a significant age difference between the two groups. \n",
    "\n",
    "### Split-Apply-Combine\n",
    "Data aggregation typically follows a \"split, apply, combine\" process:\n",
    "* Split the data into groups based on some criteria\n",
    "    * Perform *group by* operations\n",
    "    * Select or slice data to form a subset\n",
    "    * Example: Group a data frame by rows (axis 0) or by columns (axis 1)\n",
    "* Apply a function to each group independently, producing a new value\n",
    "    * Compute summary statistics (aggregation)\n",
    "        * Example: Count the size of each group\n",
    "        * Example: Compute mean, standard deviation, custom stats, etc.\n",
    "    * Transform the data in the group (transformation)\n",
    "        * Example: Standardizing data (z-score) within each group\n",
    "        * Example: Filling missing data with a value derived from each group\n",
    "    * Discard some groups (filtration)\n",
    "        * Example: Discarding data that belongs to groups with only a few members\n",
    "        * Example: Filtering out data based on the group sum or mean\n",
    "* Combine the results of the function applications into a data structure\n",
    "    * Example: A series with index corresponding to data frame column names and values representing the column means\n",
    "    \n",
    "<img src=\"http://blog.yhat.com/static/img/split-apply-combine.jpg\" width=\"500\">\n",
    "(image from [http://blog.yhat.com/static/img/split-apply-combine.jpg](http://blog.yhat.com/static/img/split-apply-combine.jpg))\n",
    "    \n",
    "### Pandas GroupBy\n",
    "In the split step, we want to divide a dataset into a mapping of group names to group data. With the Pandas [`groupby()`](https://pandas.pydata.org/pandas-docs/stable/generated/pandas.DataFrame.groupby.html) function, we can divide a data frame into a [`GroupBy`](http://pandas.pydata.org/pandas-docs/stable/groupby.html) object that stores the mapping. For example:"
   ]
  },
  {
   "cell_type": "code",
   "execution_count": 2,
   "metadata": {
    "collapsed": false
   },
   "outputs": [
    {
     "name": "stdout",
     "output_type": "stream",
     "text": [
      "  AgeGroup  Feature1  Feature2 Gender\n",
      "0       OA -0.257802 -0.106882      F\n",
      "1        A -0.749021 -0.917163      F\n",
      "2       OA -1.268724  1.006705      M\n",
      "3       YA  0.618698 -0.257106      F\n",
      "4       YA  1.245493 -0.374474      M\n",
      "5       OA -1.388780 -0.822717      M\n",
      "6        A  0.296953 -0.894486      M\n",
      "7       YA  0.607894 -1.509741      F\n",
      "Groups: {'M': [2, 4, 5, 6], 'F': [0, 1, 3, 7]}\n",
      "Female data frame\n",
      "  AgeGroup  Feature1  Feature2 Gender\n",
      "0       OA -0.257802 -0.106882      F\n",
      "1        A -0.749021 -0.917163      F\n",
      "3       YA  0.618698 -0.257106      F\n",
      "7       YA  0.607894 -1.509741      F\n",
      "Male data frame\n",
      "  AgeGroup  Feature1  Feature2 Gender\n",
      "2       OA -1.268724  1.006705      M\n",
      "4       YA  1.245493 -0.374474      M\n",
      "5       OA -1.388780 -0.822717      M\n",
      "6        A  0.296953 -0.894486      M\n",
      "<class 'pandas.core.frame.DataFrame'>\n",
      "True\n"
     ]
    }
   ],
   "source": [
    "import numpy as np\n",
    "import pandas as pd\n",
    "\n",
    "# adapted from http://pandas.pydata.org/pandas-docs/stable/groupby.html\n",
    "df = pd.DataFrame({\"Gender\" : [\"F\", \"F\", \"M\", \"F\", \"M\", \"M\", \"M\", \"F\"],\n",
    "                   \"AgeGroup\" : [\"OA\", \"A\", \"OA\", \"YA\", \"YA\", \"OA\", \"A\", \"YA\"], # OA: older adult, A: adult, YA: young adult\n",
    "                   \"Feature1\" : np.random.randn(8),\n",
    "                   \"Feature2\" : np.random.randn(8)})\n",
    "print(df)\n",
    "# GroupBy object (mapping of group name -> group data frame)\n",
    "gender_groups = df.groupby(\"Gender\")\n",
    "# groups attribute is a dictionary storing the mapping\n",
    "print(\"Groups:\", gender_groups.groups)\n",
    "print(\"Female data frame\")\n",
    "F_df = gender_groups.get_group(\"F\")\n",
    "print(F_df)\n",
    "print(\"Male data frame\")\n",
    "M_df = gender_groups.get_group(\"M\")\n",
    "print(M_df)\n",
    "# confirm M_df is a data frame\n",
    "print(type(M_df))\n",
    "# divided the data frame into 2 groups\n",
    "print(len(df) == len(F_df) + len(M_df))"
   ]
  },
  {
   "cell_type": "markdown",
   "metadata": {},
   "source": [
    "Now we have learned enough background information to dive into learning about aggregating data by working through an example!\n",
    "\n",
    "## Data Aggregation Example\n",
    "We are going to continue working with the [pd_hoa_activities.csv](https://raw.githubusercontent.com/gsprint23/aha/master/lessons/files/pd_hoa_activities.csv) dataset. This dataset contains information from a smart home study where participants performed 9 activities in a smart home environment. In a previous lesson data cleaning, we read in the data, cleaned it, and saved a new csv file with the data in cleaned form: [pd_hoa_activities_cleaned.csv](https://raw.githubusercontent.com/gsprint23/aha/master/lessons/files/pd_hoa_activities_cleaned.csv). We will start with this cleaned version of the dataset. "
   ]
  },
  {
   "cell_type": "code",
   "execution_count": 3,
   "metadata": {
    "collapsed": false
   },
   "outputs": [
    {
     "name": "stdout",
     "output_type": "stream",
     "text": [
      "(665, 3)\n",
      "                               duration  age class\n",
      "pid task                                          \n",
      "0   Water Plants                    146   72   HOA\n",
      "    Fill Medication Dispenser       210   72   HOA\n",
      "    Wash Countertop                 241   72   HOA\n",
      "    Sweep and Dust                  328   72   HOA\n",
      "    Cook                            229   72   HOA\n",
      "    Wash Hands                       38   72   HOA\n",
      "    Perform TUG                      10   72   HOA\n",
      "    Perform TUG w/Questions          10   72   HOA\n",
      "    Day Out Task                    680   72   HOA\n",
      "1   Water Plants                     63   54   HOA\n"
     ]
    }
   ],
   "source": [
    "import pandas as pd\n",
    "import numpy as np\n",
    "\n",
    "fname = r\"files\\pd_hoa_activities_cleaned.csv\"\n",
    "df = pd.read_csv(fname, header=0, index_col=[0, 1])\n",
    "print(df.shape)\n",
    "print(df.head(n=10))"
   ]
  },
  {
   "cell_type": "markdown",
   "metadata": {},
   "source": [
    "### Split\n",
    "Now let's group the data into two population groups, HOA and PD. "
   ]
  },
  {
   "cell_type": "code",
   "execution_count": 4,
   "metadata": {
    "collapsed": false
   },
   "outputs": [
    {
     "name": "stdout",
     "output_type": "stream",
     "text": [
      "HOA\n",
      "                               duration  age class\n",
      "pid task                                          \n",
      "0   Water Plants                    146   72   HOA\n",
      "    Fill Medication Dispenser       210   72   HOA\n",
      "    Wash Countertop                 241   72   HOA\n",
      "    Sweep and Dust                  328   72   HOA\n",
      "    Cook                            229   72   HOA\n",
      "PD\n",
      "                               duration  age class\n",
      "pid task                                          \n",
      "2   Water Plants                     47   62    PD\n",
      "    Fill Medication Dispenser       205   62    PD\n",
      "    Wash Countertop                 232   62    PD\n",
      "    Sweep and Dust                  543   62    PD\n",
      "    Cook                            511   62    PD\n"
     ]
    }
   ],
   "source": [
    "classes = df.groupby(\"class\")\n",
    "for class_name, cls_df in classes:\n",
    "    print(class_name)\n",
    "    print(cls_df.head())"
   ]
  },
  {
   "cell_type": "markdown",
   "metadata": {},
   "source": [
    "### Apply and Combine\n",
    "Then, we can compute summary statistics for each group, such as mean and standard deviation for age. we will store the results in a new results data frame with index \"HOA\" and \"PD:"
   ]
  },
  {
   "cell_type": "code",
   "execution_count": 5,
   "metadata": {
    "collapsed": false
   },
   "outputs": [
    {
     "name": "stdout",
     "output_type": "stream",
     "text": [
      "    age mean  age std\n",
      "PD   68.8539  9.88264\n",
      "HOA  68.6771  9.78872\n"
     ]
    }
   ],
   "source": [
    "age_results_df = pd.DataFrame(index=classes.groups, columns=[\"age mean\", \"age std\"])\n",
    "for class_name, cls_df in classes:\n",
    "    age_results_df.ix[class_name][\"age mean\"] = cls_df[\"age\"].mean()\n",
    "    age_results_df.ix[class_name][\"age std\"] = cls_df[\"age\"].std()\n",
    "print(age_results_df)"
   ]
  }
 ],
 "metadata": {
  "anaconda-cloud": {},
  "kernelspec": {
   "display_name": "Python [Root]",
   "language": "python",
   "name": "Python [Root]"
  },
  "language_info": {
   "codemirror_mode": {
    "name": "ipython",
    "version": 3
   },
   "file_extension": ".py",
   "mimetype": "text/x-python",
   "name": "python",
   "nbconvert_exporter": "python",
   "pygments_lexer": "ipython3",
   "version": "3.5.2"
  }
 },
 "nbformat": 4,
 "nbformat_minor": 0
}
