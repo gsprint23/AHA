{
 "cells": [
  {
   "cell_type": "markdown",
   "metadata": {},
   "source": [
    "# [AHA! Activity Health Analytics](http://casas.wsu.edu/)\n",
    "[Center for Advanced Studies of Adaptive Systems (CASAS)](http://casas.wsu.edu/)\n",
    "\n",
    "[Washington State University](https://wsu.edu)\n",
    "# Appendix B Data Structures\n",
    "\n",
    "## Learner Objectives\n",
    "At the conclusion of this lesson, participants should have an understanding of:\n",
    "* Working with commonly used built-in Python data structures\n",
    "    * Strings\n",
    "    * Lists\n",
    "    * Tuples\n",
    "    * Dictionaries\n",
    "* Object aliasing\n",
    "* Passing arguments into programs via command line arguments\n",
    "* Defining classes\n",
    "* Declaring objects to instantiate classes\n",
    "* Implementing basic object functionality\n",
    "* Implementing class methods\n",
    "\n",
    "## Acknowledgments\n",
    "Content used in this lesson is based upon information in the following sources:\n",
    "* None to report"
   ]
  },
  {
   "cell_type": "markdown",
   "metadata": {
    "collapsed": true
   },
   "source": [
    "## Review of Strings\n",
    "Recall a string is a *sequence of characters*. In Python, we can have sequences of items other than characters. For example, we can have sequences of:\n",
    "* Numbers\n",
    "    * Integers\n",
    "    * Floats\n",
    "* Objects\n",
    "    * Strings\n",
    "    * Files\n",
    "    * Turtles\n",
    "    * Our own objects we define ourselves (to be learned later, stay tuned!)"
   ]
  },
  {
   "cell_type": "markdown",
   "metadata": {},
   "source": [
    "## Lists\n",
    "A list is a *sequence of items*. In a string, the items are characters. In a list, they can be any type. Items in a list are also called *elements*.\n",
    "\n",
    "We declare a sequence of items as a list with hard brackets: `[<comma separated list items>]`"
   ]
  },
  {
   "cell_type": "code",
   "execution_count": 1,
   "metadata": {
    "collapsed": false
   },
   "outputs": [
    {
     "name": "stdout",
     "output_type": "stream",
     "text": [
      "[0, 1, 10, 20]\n",
      "[0.2, 0.4, 0.6, 1.0]\n",
      "[0, 0.0, 1, 1.0, -2]\n",
      "['cat', 'dog', 'bird']\n"
     ]
    }
   ],
   "source": [
    "list_ints = [0, 1, 10, 20]\n",
    "print(list_ints)\n",
    "\n",
    "list_floats = [0.2, 0.4, 0.6, 1.0]\n",
    "print(list_floats)\n",
    "\n",
    "# types can be mixed in a list\n",
    "list_numbers = [0, 0.0, 1, 1.0, -2]\n",
    "print(list_numbers)\n",
    "\n",
    "list_strings = [\"cat\", \"dog\", \"bird\"]\n",
    "print(list_strings)"
   ]
  },
  {
   "cell_type": "markdown",
   "metadata": {},
   "source": [
    "Note: the data types in a list need not all be the same.\n",
    "\n",
    "### List Indexing\n",
    "Just like with strings, list indices are 0-based. We can index into a list to access a list item just like how we indexed into a string to get an individual character:"
   ]
  },
  {
   "cell_type": "code",
   "execution_count": 4,
   "metadata": {
    "collapsed": false
   },
   "outputs": [
    {
     "name": "stdout",
     "output_type": "stream",
     "text": [
      "0\n"
     ]
    }
   ],
   "source": [
    "print(list_ints[0])"
   ]
  },
  {
   "cell_type": "markdown",
   "metadata": {},
   "source": [
    "### List Length\n",
    "We can also use then `len()` function to determine the number of items in a list:"
   ]
  },
  {
   "cell_type": "code",
   "execution_count": 5,
   "metadata": {
    "collapsed": false
   },
   "outputs": [
    {
     "name": "stdout",
     "output_type": "stream",
     "text": [
      "3\n",
      "bird\n"
     ]
    }
   ],
   "source": [
    "print(len(list_strings))\n",
    "print(list_strings[len(list_strings) - 1])"
   ]
  },
  {
   "cell_type": "markdown",
   "metadata": {},
   "source": [
    "### The Empty List\n",
    "Just like how we can have an empty string (`\"\"`), a string with no characters, we can have an empty list (`[]`). An empty list has no items."
   ]
  },
  {
   "cell_type": "code",
   "execution_count": 10,
   "metadata": {
    "collapsed": false
   },
   "outputs": [
    {
     "name": "stdout",
     "output_type": "stream",
     "text": [
      "0\n"
     ]
    }
   ],
   "source": [
    "empty_list = []\n",
    "print(len(empty_list))"
   ]
  },
  {
   "cell_type": "markdown",
   "metadata": {},
   "source": [
    "### Nested Lists\n",
    "We can have lists of lists!"
   ]
  },
  {
   "cell_type": "code",
   "execution_count": 4,
   "metadata": {
    "collapsed": false
   },
   "outputs": [
    {
     "name": "stdout",
     "output_type": "stream",
     "text": [
      "[[0, 1], [2], [3], [4, 5]]\n"
     ]
    }
   ],
   "source": [
    "nested_list = [[0, 1], [2], [3], [4, 5], []]\n",
    "print(nested_list)"
   ]
  },
  {
   "cell_type": "markdown",
   "metadata": {},
   "source": [
    "Note: the sub-lists can be of unequal lengths.\n",
    "\n",
    "Now, consider the following nested list:\n",
    "\n",
    "`matrix = [[1, 2, 3], [4, 5, 6], [7, 8, 9]]`\n",
    "\n",
    "Logically, `matrix` looks like the following:\n",
    "\n",
    "|Column Index:||||\n",
    "|-|-|-|-|\n",
    "||**0**|**1**|**2**|\n",
    "|**Row Index**||||\n",
    "|**0:**|1|2|3|\n",
    "|**1:**|4|5|6|\n",
    "|**2:**|7|8|9|\n",
    "\n",
    "To access an item in a 2-dimensional nested list, we index into the `<nested list variable>` twice: `<nested list variable>[row_index][column_index]` by row first then column. For example: "
   ]
  },
  {
   "cell_type": "code",
   "execution_count": 6,
   "metadata": {
    "collapsed": false
   },
   "outputs": [
    {
     "name": "stdout",
     "output_type": "stream",
     "text": [
      "[[1, 2, 3], [4, 5, 6], [7, 8, 9]]\n",
      "1\n",
      "9\n",
      "8\n"
     ]
    }
   ],
   "source": [
    "matrix = [[1, 2, 3], [4, 5, 6], [7, 8, 9]]\n",
    "print(matrix)\n",
    "# the first element in the first list\n",
    "print(matrix[0][0])\n",
    "# the last element in the last list\n",
    "print(matrix[2][2])\n",
    "# the middle element in the last list (8)\n",
    "print(matrix[2][1])"
   ]
  },
  {
   "cell_type": "markdown",
   "metadata": {},
   "source": [
    "### Lists are Mutable\n",
    "Unlike strings, we can change the items in a list:"
   ]
  },
  {
   "cell_type": "code",
   "execution_count": 8,
   "metadata": {
    "collapsed": false
   },
   "outputs": [
    {
     "name": "stdout",
     "output_type": "stream",
     "text": [
      "['Sloan', 'EME', 'Dana', 'ETRL']\n",
      "['Sloan', 'EME', 'Carpenter', 'ETRL']\n"
     ]
    }
   ],
   "source": [
    "buildings = [\"Sloan\", \"EME\", \"Dana\", \"ETRL\"]\n",
    "print(buildings)\n",
    "\n",
    "# modify the list\n",
    "buildings[2] = \"Carpenter\"\n",
    "print(buildings)"
   ]
  },
  {
   "cell_type": "markdown",
   "metadata": {},
   "source": [
    "Note: We still cannot change a string. Strings are immutable!"
   ]
  },
  {
   "cell_type": "markdown",
   "metadata": {},
   "source": [
    "## Looping Through List Items\n",
    "Just like with strings, we can use the `in` operator or indices to iterate through items in a list:"
   ]
  },
  {
   "cell_type": "code",
   "execution_count": 6,
   "metadata": {
    "collapsed": false
   },
   "outputs": [
    {
     "name": "stdout",
     "output_type": "stream",
     "text": [
      "twix\n",
      "reeses\n",
      "oreos\n",
      "snickers\n",
      "twix\n",
      "reeses\n",
      "oreos\n",
      "snickers\n",
      "twix\n",
      "reeses\n",
      "oreos\n",
      "snickers\n"
     ]
    }
   ],
   "source": [
    "candies = [\"twix\", \"reeses\", \"oreos\", \"snickers\"]\n",
    "\n",
    "for candy in candies:\n",
    "    print(candy)\n",
    "    \n",
    "i = 0\n",
    "while i < len(candies):\n",
    "    print(candies[i])\n",
    "    i += 1\n",
    "    \n",
    "i = 0\n",
    "for i in range(len(candies)):\n",
    "    print(candies[i])"
   ]
  },
  {
   "cell_type": "markdown",
   "metadata": {},
   "source": [
    "## List Operators\n",
    "### List Concatenation\n",
    "Just like with strings, we can use the concatenation `+` operator to add lists together:"
   ]
  },
  {
   "cell_type": "code",
   "execution_count": 23,
   "metadata": {
    "collapsed": false
   },
   "outputs": [
    {
     "name": "stdout",
     "output_type": "stream",
     "text": [
      "['twix', 'reeses', 'oreos', 'peach rings']\n",
      "['twix', 'reeses', 'oreos', 'peach rings', 'm&ms', 'starburst']\n"
     ]
    }
   ],
   "source": [
    "candies = [\"twix\", \"reeses\", \"oreos\", \"peach rings\"]\n",
    "\n",
    "print(candies)\n",
    "candies += [\"m&ms\", \"starburst\"]\n",
    "print(candies)"
   ]
  },
  {
   "cell_type": "markdown",
   "metadata": {},
   "source": [
    "### List Repetition\n",
    "Just like with strings, we can repeat items in a list with the repetition `*` operator:"
   ]
  },
  {
   "cell_type": "code",
   "execution_count": 24,
   "metadata": {
    "collapsed": false
   },
   "outputs": [
    {
     "name": "stdout",
     "output_type": "stream",
     "text": [
      "['twix', 'twix', 'twix', 'twix', 'twix']\n",
      "['twix', 'twix', 'twix', 'twix', 'twix', 'peach rings', 'peach rings', 'peach rings']\n"
     ]
    }
   ],
   "source": [
    "bag_o_candies = 5 * [\"twix\"]\n",
    "print(bag_o_candies)\n",
    "\n",
    "bag_o_candies += 3 * [\"peach rings\"]\n",
    "print(bag_o_candies)"
   ]
  },
  {
   "cell_type": "markdown",
   "metadata": {},
   "source": [
    "### List Slicing\n",
    "Just like with strings, we can use the slice operator `:` with lists:"
   ]
  },
  {
   "cell_type": "code",
   "execution_count": 8,
   "metadata": {
    "collapsed": false
   },
   "outputs": [
    {
     "name": "stdout",
     "output_type": "stream",
     "text": [
      "['reeses', 'oreos']\n",
      "['twix', 'reeses', 'oreos', 'snickers']\n",
      "False\n",
      "True\n"
     ]
    }
   ],
   "source": [
    "print(candies[1:3])\n",
    "# returns a copy\n",
    "print(candies[:])"
   ]
  },
  {
   "cell_type": "markdown",
   "metadata": {},
   "source": [
    "However, since lists are mutable, we can now change multiple items in a list at a time using slices:"
   ]
  },
  {
   "cell_type": "code",
   "execution_count": 22,
   "metadata": {
    "collapsed": false
   },
   "outputs": [
    {
     "name": "stdout",
     "output_type": "stream",
     "text": [
      "['twix', 'reeses', 'oreos', 'peach rings']\n",
      "['twix', 'reeses', 'oreos', 'butterfinger', 'heath', 'swedish fish']\n",
      "['carmello', 'airheads', 'oreos', 'butterfinger', 'heath', 'swedish fish']\n"
     ]
    }
   ],
   "source": [
    "candies = [\"twix\", \"reeses\", \"oreos\", \"peach rings\"]\n",
    "print(candies)\n",
    "candies[3:] = [\"butterfinger\", \"heath\", \"swedish fish\"]\n",
    "print(candies)\n",
    "candies[0:2] = [\"carmello\", \"airheads\"]\n",
    "print(candies)"
   ]
  },
  {
   "cell_type": "markdown",
   "metadata": {},
   "source": [
    "## List Methods\n",
    "Just like with strings, lists are objects that have methods we can utilize. \n",
    "\n",
    "### `append()`\n",
    "For example, since lists are mutable, there is an `append(<new item>)` method to add an item to the end of a list:"
   ]
  },
  {
   "cell_type": "code",
   "execution_count": 3,
   "metadata": {
    "collapsed": false
   },
   "outputs": [
    {
     "name": "stdout",
     "output_type": "stream",
     "text": [
      "['Pullman', 'Spokane']\n",
      "['Pullman', 'Spokane', 'Seattle']\n",
      "['Pullman', 'Spokane', 'Seattle', 'Moscow']\n"
     ]
    }
   ],
   "source": [
    "cities = [\"Pullman\", \"Spokane\"]\n",
    "print(cities)\n",
    "\n",
    "# adds the string as an item\n",
    "cities.append(\"Seattle\")\n",
    "print(cities)\n",
    "\n",
    "# adds the list as an item\n",
    "cities.append(\"Moscow\")\n",
    "print(cities)"
   ]
  },
  {
   "cell_type": "markdown",
   "metadata": {},
   "source": [
    "As review, how could we achieve the same functionality as `append()` without using `append()`?"
   ]
  },
  {
   "cell_type": "code",
   "execution_count": null,
   "metadata": {
    "collapsed": true
   },
   "outputs": [],
   "source": [
    "cities = [\"Pullman\", \"Spokane\"]\n",
    "print(cities)\n",
    "\n",
    "# adds the strings as an item\n",
    "cities += [\"Seattle\"]\n",
    "print(cities)"
   ]
  },
  {
   "cell_type": "markdown",
   "metadata": {},
   "source": [
    "### `extend()`\n",
    "`extend()` is similar to `append()`; however, `extend()` takes a list as an argument and adds each item to the list:"
   ]
  },
  {
   "cell_type": "code",
   "execution_count": 4,
   "metadata": {
    "collapsed": false
   },
   "outputs": [
    {
     "name": "stdout",
     "output_type": "stream",
     "text": [
      "['Pullman', 'Spokane']\n",
      "['Pullman', 'Spokane', 'Seattle', \"Couer d'Alene\"]\n"
     ]
    }
   ],
   "source": [
    "cities = [\"Pullman\", \"Spokane\"]\n",
    "print(cities)\n",
    "\n",
    "# adds each string in the list as an item\n",
    "cities.extend([\"Seattle\", \"Couer d'Alene\"])\n",
    "print(cities)"
   ]
  },
  {
   "cell_type": "markdown",
   "metadata": {},
   "source": [
    "What would happen if we used `append()` instead of `extend()` in the above code?"
   ]
  },
  {
   "cell_type": "code",
   "execution_count": 5,
   "metadata": {
    "collapsed": false
   },
   "outputs": [
    {
     "name": "stdout",
     "output_type": "stream",
     "text": [
      "['Pullman', 'Spokane']\n",
      "['Pullman', 'Spokane', ['Seattle', \"Couer d'Alene\"]]\n"
     ]
    }
   ],
   "source": [
    "cities = [\"Pullman\", \"Spokane\"]\n",
    "print(cities)\n",
    "cities.append([\"Seattle\", \"Couer d'Alene\"])\n",
    "print(cities)"
   ]
  },
  {
   "cell_type": "markdown",
   "metadata": {},
   "source": [
    "`cities` becomes a nested list!"
   ]
  },
  {
   "cell_type": "markdown",
   "metadata": {},
   "source": [
    "### `sort()`\n",
    "Many applications require lists of items to be sorted. In CptS121, you will learn how to write your own sorting algorithms. For now, we will use the `sort()` list method:"
   ]
  },
  {
   "cell_type": "code",
   "execution_count": 6,
   "metadata": {
    "collapsed": false
   },
   "outputs": [
    {
     "name": "stdout",
     "output_type": "stream",
     "text": [
      "['Pullman', 'Spokane', 'Seattle', \"Couer d'Alene\"]\n",
      "[\"Couer d'Alene\", 'Pullman', 'Seattle', 'Spokane']\n"
     ]
    }
   ],
   "source": [
    "cities = [\"Pullman\", \"Spokane\", \"Seattle\", \"Couer d'Alene\"]\n",
    "print(cities)\n",
    "\n",
    "# ascending order\n",
    "cities.sort()\n",
    "print(cities)"
   ]
  },
  {
   "cell_type": "markdown",
   "metadata": {},
   "source": [
    "How would you sort a list in descending order? Try using `help(cities.sort)` to find out:"
   ]
  },
  {
   "cell_type": "code",
   "execution_count": 7,
   "metadata": {
    "collapsed": false
   },
   "outputs": [
    {
     "name": "stdout",
     "output_type": "stream",
     "text": [
      "Help on built-in function sort:\n",
      "\n",
      "sort(...) method of builtins.list instance\n",
      "    L.sort(key=None, reverse=False) -> None -- stable sort *IN PLACE*\n",
      "\n"
     ]
    }
   ],
   "source": [
    "help(cities.sort)"
   ]
  },
  {
   "cell_type": "code",
   "execution_count": 8,
   "metadata": {
    "collapsed": false
   },
   "outputs": [
    {
     "name": "stdout",
     "output_type": "stream",
     "text": [
      "[\"Couer d'Alene\", 'Pullman', 'Seattle', 'Spokane']\n",
      "['Spokane', 'Seattle', 'Pullman', \"Couer d'Alene\"]\n"
     ]
    }
   ],
   "source": [
    "print(cities)\n",
    "cities.sort(reverse=True)\n",
    "print(cities)"
   ]
  },
  {
   "cell_type": "markdown",
   "metadata": {},
   "source": [
    "## Deleting Items in a List\n",
    "Since lists are mutable, we can delete items in a list. \n",
    "\n",
    "### Single Item Deletes\n",
    "We have two list methods to delete a *single* item in a list\n",
    "1. When you know the *index* of the item to delete\n",
    "    * `pop(<index>)`\n",
    "1. When you know the *value* of the item to delete\n",
    "    * `remove(<item>)`"
   ]
  },
  {
   "cell_type": "code",
   "execution_count": 9,
   "metadata": {
    "collapsed": false
   },
   "outputs": [
    {
     "name": "stdout",
     "output_type": "stream",
     "text": [
      "Seattle\n",
      "['Pullman', 'Spokane', \"Couer d'Alene\"]\n",
      "['Pullman', \"Couer d'Alene\"]\n"
     ]
    }
   ],
   "source": [
    "cities = [\"Pullman\", \"Spokane\", \"Seattle\", \"Couer d'Alene\"]\n",
    "\n",
    "# pop returns the item removed\n",
    "city = cities.pop(2)\n",
    "print(city)\n",
    "print(cities)\n",
    "\n",
    "# remove does not return the item removed\n",
    "cities.remove(\"Spokane\")\n",
    "print(cities)"
   ]
  },
  {
   "cell_type": "markdown",
   "metadata": {},
   "source": [
    "### `del` Keyword and Multiple Item Deletes\n",
    "Alternatively, we can delete an object using the `del` reserved keyword:"
   ]
  },
  {
   "cell_type": "code",
   "execution_count": 10,
   "metadata": {
    "collapsed": false
   },
   "outputs": [
    {
     "name": "stdout",
     "output_type": "stream",
     "text": [
      "['Pullman', 'Spokane', 'Seattle', \"Couer d'Alene\"]\n",
      "['Pullman', 'Seattle', \"Couer d'Alene\"]\n"
     ]
    }
   ],
   "source": [
    "cities = [\"Pullman\", \"Spokane\", \"Seattle\", \"Couer d'Alene\"]\n",
    "print(cities)\n",
    "\n",
    "# del is not a function\n",
    "del cities[1]\n",
    "print(cities)"
   ]
  },
  {
   "cell_type": "markdown",
   "metadata": {},
   "source": [
    "We may want to delete multiple items at a time. We can do this with a slice and `del`:"
   ]
  },
  {
   "cell_type": "code",
   "execution_count": 11,
   "metadata": {
    "collapsed": false
   },
   "outputs": [
    {
     "name": "stdout",
     "output_type": "stream",
     "text": [
      "['Pullman', 'Spokane', 'Seattle', \"Couer d'Alene\"]\n",
      "[\"Couer d'Alene\"]\n"
     ]
    }
   ],
   "source": [
    "cities = [\"Pullman\", \"Spokane\", \"Seattle\", \"Couer d'Alene\"]\n",
    "print(cities)\n",
    "\n",
    "del cities[0:3]\n",
    "print(cities)"
   ]
  },
  {
   "cell_type": "markdown",
   "metadata": {},
   "source": [
    "### Relationship Between Strings and Lists\n",
    "A list of single character strings is not a string:"
   ]
  },
  {
   "cell_type": "code",
   "execution_count": 12,
   "metadata": {
    "collapsed": false
   },
   "outputs": [
    {
     "name": "stdout",
     "output_type": "stream",
     "text": [
      "['c', 'p', 't', 's', '1', '1', '1']\n"
     ]
    }
   ],
   "source": [
    "my_list = [\"c\", \"p\", \"t\", \"s\", \"1\", \"1\", \"1\"]\n",
    "print(\"%s\" %(my_list))"
   ]
  },
  {
   "cell_type": "markdown",
   "metadata": {},
   "source": [
    "### `join()` (string method)\n",
    "However, we can turn a list of strings into a string with the `join()` string method. We need to specify a \"delimiter\" string to use to concatenate the individual strings in a list into a single string:"
   ]
  },
  {
   "cell_type": "code",
   "execution_count": 1,
   "metadata": {
    "collapsed": false
   },
   "outputs": [
    {
     "name": "stdout",
     "output_type": "stream",
     "text": [
      "python!\n",
      "p:)y:)t:)h:)o:)n:)!\n"
     ]
    }
   ],
   "source": [
    "my_list = [\"p\", \"y\", \"t\", \"h\", \"o\", \"n\", \"!\"]\n",
    "delimiter = '' # empty string\n",
    "my_string = delimiter.join(my_list)\n",
    "print(\"%s\" %(my_string))\n",
    "\n",
    "delimiter = ':)'\n",
    "my_string = delimiter.join(my_list)\n",
    "print(\"%s\" %(my_string))"
   ]
  },
  {
   "cell_type": "markdown",
   "metadata": {},
   "source": [
    "### `list()` (function)\n",
    "To convert the string back into a list, we can type cast the string into a list with `list()`:"
   ]
  },
  {
   "cell_type": "code",
   "execution_count": 3,
   "metadata": {
    "collapsed": false
   },
   "outputs": [
    {
     "name": "stdout",
     "output_type": "stream",
     "text": [
      "['p', 'y', 't', 'h', 'o', 'n', '!']\n"
     ]
    }
   ],
   "source": [
    "my_string = \"python!\"\n",
    "my_list = list(my_string)\n",
    "print(my_list)"
   ]
  },
  {
   "cell_type": "markdown",
   "metadata": {},
   "source": [
    "### `split()` (string method)\n",
    "`split(<string delimiter>)` breaks a string into pieces at each `<string delimiter>`. The pieces are returned as a list: "
   ]
  },
  {
   "cell_type": "code",
   "execution_count": 15,
   "metadata": {
    "collapsed": false
   },
   "outputs": [
    {
     "name": "stdout",
     "output_type": "stream",
     "text": [
      "['hello', 'how', 'are', 'you']\n"
     ]
    }
   ],
   "source": [
    "sentence = \"hello how are you\"\n",
    "pieces = sentence.split(\" \")\n",
    "print(pieces)"
   ]
  },
  {
   "cell_type": "markdown",
   "metadata": {},
   "source": [
    "## Aliasing\n",
    "When we declare a list variable, as in `list1 = [0, 1, 2, 3]`, a list *object* is created. We say the variable `list1` is a *reference* to the list object `[0, 1, 2, 3]`. In memory, this looks like the following:\n",
    "![](https://raw.githubusercontent.com/gsprint23/aha/master/lessons/figures/reference_example.png)\n",
    "\n",
    "If we declare another list variable, `list2 = [0, 1, 2, 3]`, `list2` refers to a *different* list object, even though both objects that `list1` and `list2` refer to contain the same items:\n",
    "![](https://raw.githubusercontent.com/gsprint23/aha/master/lessons/figures/references_multiple_example.png)\n",
    "\n",
    "We can test if `list1` and `list2` refer to lists that contain the same elements:"
   ]
  },
  {
   "cell_type": "code",
   "execution_count": 2,
   "metadata": {
    "collapsed": false
   },
   "outputs": [
    {
     "name": "stdout",
     "output_type": "stream",
     "text": [
      "True\n"
     ]
    }
   ],
   "source": [
    "list1 = [0, 1, 2, 3]\n",
    "list2 = [0, 1, 2, 3]\n",
    "print(list1 == list2)"
   ]
  },
  {
   "cell_type": "markdown",
   "metadata": {},
   "source": [
    "To test if `list1` and `list2` *refer* to the same list object, we can use the Python reserved keyword, `is`. `is` tests whether two variables refer to the same object: "
   ]
  },
  {
   "cell_type": "code",
   "execution_count": 3,
   "metadata": {
    "collapsed": false
   },
   "outputs": [
    {
     "name": "stdout",
     "output_type": "stream",
     "text": [
      "False\n"
     ]
    }
   ],
   "source": [
    "list1 = [0, 1, 2, 3]\n",
    "list2 = [0, 1, 2, 3]\n",
    "print(list1 is list2)"
   ]
  },
  {
   "cell_type": "markdown",
   "metadata": {},
   "source": [
    "Note: Python is intelligent! Since strings are immutable, only one object is created in the following code:"
   ]
  },
  {
   "cell_type": "code",
   "execution_count": 4,
   "metadata": {
    "collapsed": false
   },
   "outputs": [
    {
     "name": "stdout",
     "output_type": "stream",
     "text": [
      "True\n",
      "True\n"
     ]
    }
   ],
   "source": [
    "string1 = \"hello\"\n",
    "string2 = \"hello\"\n",
    "print(string1 == string2)\n",
    "print(string1 is string2)"
   ]
  },
  {
   "cell_type": "markdown",
   "metadata": {},
   "source": [
    "In the above code, both `string1` and `string2` refer to the same string object. This phenomenon is called *aliasing*. \n",
    "\n",
    "Let's return to our list example and see aliasing at work. \n",
    "\n",
    "If instead of assigning `list2` to a new list object, we assign `list2` to `list1`: `list2 = list1`, `list2` refers to the same object as `list1`.\n",
    "![](https://raw.githubusercontent.com/gsprint23/aha/master/lessons/figures/alias_example.png)\n",
    "\n",
    "We now say the object is *aliased*, because it has more than one reference, or alias.\n",
    "\n",
    "If the aliased object is mutable, either reference can modify the object:"
   ]
  },
  {
   "cell_type": "code",
   "execution_count": 5,
   "metadata": {
    "collapsed": false
   },
   "outputs": [
    {
     "name": "stdout",
     "output_type": "stream",
     "text": [
      "[0, 1, 2, 3]\n",
      "[0, 1, 2, 3]\n",
      "[0, 1, 100, 3]\n",
      "[0, 1, 100, 3]\n",
      "\n",
      "\n",
      "[0, 1, 2, 3]\n",
      "[0, 1, 2, 3]\n",
      "[0, 1, 2, 3]\n",
      "[0, 1, 100, 3]\n"
     ]
    }
   ],
   "source": [
    "# same object aliased by list1 and list2\n",
    "list1 = [0, 1, 2, 3]\n",
    "list2 = list1\n",
    "print(list1)\n",
    "print(list2)\n",
    "list2[2] = 100\n",
    "print(list1)\n",
    "print(list2)\n",
    "print(\"\\n\")\n",
    "\n",
    "# compared to creating two separate objects list1 and list2\n",
    "list1 = [0, 1, 2, 3]\n",
    "list2 = [0, 1, 2, 3]\n",
    "print(list1)\n",
    "print(list2)\n",
    "list2[2] = 100\n",
    "print(list1)\n",
    "print(list2)"
   ]
  },
  {
   "cell_type": "markdown",
   "metadata": {},
   "source": [
    "Aliasing is important to keep in mind, especially when passing lists as arguments."
   ]
  },
  {
   "cell_type": "markdown",
   "metadata": {},
   "source": [
    "## Lists Arguments\n",
    "We can pass lists into functions as arguments:"
   ]
  },
  {
   "cell_type": "code",
   "execution_count": null,
   "metadata": {
    "collapsed": true
   },
   "outputs": [],
   "source": [
    "def pretty_print_list(list_to_print):\n",
    "    '''\n",
    "    \n",
    "    '''\n",
    "    for value in list_to_print:\n",
    "        print(value, end=\" \")\n",
    "\n",
    "numbers = [0.0, 0.2, 0.4]\n",
    "pretty_print_list(numbers)"
   ]
  },
  {
   "cell_type": "markdown",
   "metadata": {},
   "source": [
    "When a list is passed as an argument to a function, the function parameter variable is a *reference* to the list, making the list *aliased*. This means that if we modify a list in our function, the change to the object persists and the calling code will see the change.\n",
    "\n",
    "In the example above, `numbers` and `list_to_print` are aliases to the list object `[0.0, 0.2, 0.4]`. If `pretty_print_list()` can use `list_to_print` to modify the object. \n",
    "\n",
    "Let's write a new function, `add_one()`, that adds one to each value in a list:"
   ]
  },
  {
   "cell_type": "code",
   "execution_count": null,
   "metadata": {
    "collapsed": true
   },
   "outputs": [],
   "source": [
    "def add_one(list_arg):\n",
    "    '''\n",
    "    \n",
    "    '''\n",
    "    for i in range(len(list_arg)):\n",
    "        list_arg[i] += 1\n",
    "\n",
    "numbers = [0.0, 0.2, 0.4]\n",
    "print(numbers)\n",
    "add_one(numbers)\n",
    "print(numbers)"
   ]
  },
  {
   "cell_type": "markdown",
   "metadata": {},
   "source": [
    "## Returning Lists\n",
    "We can write functions that return lists. Consider a function that returns a list of numbers from arguments `start_index` to `end_index + 1`:"
   ]
  },
  {
   "cell_type": "code",
   "execution_count": null,
   "metadata": {
    "collapsed": true
   },
   "outputs": [],
   "source": [
    "def create_sequence(start_index, end_index):\n",
    "    '''\n",
    "    \n",
    "    '''\n",
    "    sequence = []\n",
    "    \n",
    "    for i in range(start_index, end_index):\n",
    "        sequence.append(i)\n",
    "    return sequence\n",
    "\n",
    "first_ten_nums = create_sequence(0, 10)\n",
    "print(first_ten_nums)"
   ]
  },
  {
   "cell_type": "markdown",
   "metadata": {},
   "source": [
    "## Command Line Arguments\n",
    "We can pass arguments into our Python programs. The arguments will be stored in a list, referenced by `sys.argv`. Note: we will have to `import sys` to get access to `sys.argv`.\n",
    "\n",
    "The first argument is always the name of the script, and is counted in the total number of command line arguments:"
   ]
  },
  {
   "cell_type": "code",
   "execution_count": 1,
   "metadata": {
    "collapsed": false
   },
   "outputs": [
    {
     "name": "stdout",
     "output_type": "stream",
     "text": [
      "['C:\\\\Anaconda3\\\\lib\\\\site-packages\\\\ipykernel\\\\__main__.py', '-f', 'C:\\\\Users\\\\gsprint\\\\AppData\\\\Roaming\\\\jupyter\\\\runtime\\\\kernel-1e668b0e-6bd8-4985-b65d-41430143d283.json']\n",
      "3\n"
     ]
    }
   ],
   "source": [
    "import sys\n",
    "\n",
    "print(sys.argv)\n",
    "print(len(sys.argv))"
   ]
  },
  {
   "cell_type": "markdown",
   "metadata": {},
   "source": [
    "Note: to specify command line arguments in Spyder IDE, go to Run->Configure. In the dialog, under \"General settings\", check the \"Command line options\" box and enter the arguments in the text box:\n",
    "<img src=\"https://raw.githubusercontent.com/gsprint23/aha/master/lessons/figures/spyder_cmd_line_args.png\" width=\"300\">"
   ]
  },
  {
   "cell_type": "markdown",
   "metadata": {},
   "source": [
    "## Tuples\n",
    "Tuples are immutable lists. They are declared as a comma separated list, with or without parentheses:"
   ]
  },
  {
   "cell_type": "code",
   "execution_count": 6,
   "metadata": {
    "collapsed": false
   },
   "outputs": [
    {
     "name": "stdout",
     "output_type": "stream",
     "text": [
      "('x', 'y', 'z')\n",
      "<class 'tuple'>\n",
      "(1,)\n",
      "a\n",
      "<class 'str'>\n",
      "()\n",
      "<class 'tuple'>\n"
     ]
    }
   ],
   "source": [
    "my_tuple = \"x\", \"y\", \"z\"\n",
    "print(my_tuple)\n",
    "print(type(my_tuple))\n",
    "\n",
    "# need a comma after a single element initialization\n",
    "my_tuple2 = (1, )\n",
    "print(my_tuple2)\n",
    "\n",
    "# need a comma after a single element initialization\n",
    "not_a_tuple = (\"a\")\n",
    "print(not_a_tuple)\n",
    "print(type(not_a_tuple))\n",
    "\n",
    "# creating an empty tuple\n",
    "empty_tuple = tuple()\n",
    "print(empty_tuple)\n",
    "print(type(empty_tuple))"
   ]
  },
  {
   "cell_type": "markdown",
   "metadata": {},
   "source": [
    "Tuple indexing and slicing works the same as for lists:"
   ]
  },
  {
   "cell_type": "code",
   "execution_count": 7,
   "metadata": {
    "collapsed": false
   },
   "outputs": [
    {
     "name": "stdout",
     "output_type": "stream",
     "text": [
      "y\n",
      "('x', 'y')\n"
     ]
    }
   ],
   "source": [
    "my_tuple = (\"x\", \"y\", \"z\")\n",
    "print(my_tuple[1])\n",
    "print(my_tuple[0:2])"
   ]
  },
  {
   "cell_type": "markdown",
   "metadata": {},
   "source": [
    "HOWEVER, tuples are immutable, so you cannot modify them. The follow code demonstrates the immutability of tuples:"
   ]
  },
  {
   "cell_type": "code",
   "execution_count": 1,
   "metadata": {
    "collapsed": false
   },
   "outputs": [
    {
     "ename": "TypeError",
     "evalue": "'tuple' object does not support item assignment",
     "output_type": "error",
     "traceback": [
      "\u001b[1;31m---------------------------------------------------------------------------\u001b[0m",
      "\u001b[1;31mTypeError\u001b[0m                                 Traceback (most recent call last)",
      "\u001b[1;32m<ipython-input-1-dfbe487f882d>\u001b[0m in \u001b[0;36m<module>\u001b[1;34m()\u001b[0m\n\u001b[0;32m      1\u001b[0m \u001b[0mmy_tuple\u001b[0m \u001b[1;33m=\u001b[0m \u001b[1;33m(\u001b[0m\u001b[1;34m\"x\"\u001b[0m\u001b[1;33m,\u001b[0m \u001b[1;34m\"y\"\u001b[0m\u001b[1;33m,\u001b[0m \u001b[1;34m\"z\"\u001b[0m\u001b[1;33m)\u001b[0m\u001b[1;33m\u001b[0m\u001b[0m\n\u001b[0;32m      2\u001b[0m \u001b[1;31m# crashes! tuples are immutable, you cannot change them\u001b[0m\u001b[1;33m\u001b[0m\u001b[1;33m\u001b[0m\u001b[0m\n\u001b[1;32m----> 3\u001b[1;33m \u001b[0mmy_tuple\u001b[0m\u001b[1;33m[\u001b[0m\u001b[1;36m2\u001b[0m\u001b[1;33m]\u001b[0m \u001b[1;33m=\u001b[0m \u001b[1;34m\"a\"\u001b[0m\u001b[1;33m\u001b[0m\u001b[0m\n\u001b[0m",
      "\u001b[1;31mTypeError\u001b[0m: 'tuple' object does not support item assignment"
     ]
    }
   ],
   "source": [
    "my_tuple = (\"x\", \"y\", \"z\")\n",
    "# crashes! tuples are immutable, you cannot change them\n",
    "my_tuple[2] = \"a\""
   ]
  },
  {
   "cell_type": "markdown",
   "metadata": {},
   "source": [
    "## Key-Value Pairs\n",
    "Consider the following set of items:\n",
    "* Your student ID number\n",
    "* Your checking account number\n",
    "* The VIN number on your car\n",
    "* Your social security number\n",
    "\n",
    "What do all of the above items have in common? They are all *unique* identifiers for something. For example, there may be several students named \"John Smith\" at WSU. How is the university to distinguish academic records for multiple John Smiths? They assign a unique *key* to identify each individual student:\n",
    "\n",
    "|ID Number|Last name|First name|\n",
    "|-|-|-|\n",
    "|28905|Smith|Jane|\n",
    "|19485|Smith|John|\n",
    "|28450|Smith|John|\n",
    "|25543|Smith|John|\n",
    "|17834|Smith|Justin|\n",
    "\n",
    "For the other examples, your checking account number is a key that uniquely identifies your account, the VIN is a key that uniquely identifies your car, and your SSN is a key that uniquely identifies you for government purposes.\n",
    "\n",
    "Keys are useful because they *map* keys to values. In the example above, a student ID number of 28905 maps to the academic records of Jane Smith at WSU. The academic record of Jane Smith is called the *value* that the *key* (ID number) maps to. Together, the ID number (28905) and the record (Jane Smith's academic record) form a *key-value pair*. \n",
    "\n",
    "Keys can be represented as a list of unique values (no duplicates). Values can be represented as a list as well (can have duplicates). A single data structure that combines key lists and value lists is called a *dictionary*.\n",
    "\n",
    "## Dictionaries\n",
    "A *dictionary is a list with keys as indices*. Keys can be integers, strings, file objects, etc. Keys cannot be lists. To declare a dictionary, we use the curly braces `{ }`:"
   ]
  },
  {
   "cell_type": "code",
   "execution_count": 8,
   "metadata": {
    "collapsed": false
   },
   "outputs": [
    {
     "name": "stdout",
     "output_type": "stream",
     "text": [
      "{}\n",
      "{}\n"
     ]
    }
   ],
   "source": [
    "# declares an empty dictionary\n",
    "my_dict = {}\n",
    "print(my_dict)\n",
    "# can also use dict()\n",
    "my_second_dict = dict()\n",
    "print(my_second_dict)"
   ]
  },
  {
   "cell_type": "markdown",
   "metadata": {},
   "source": [
    "We can initialize a dictionary with values using comma separated `key:value` pairs:"
   ]
  },
  {
   "cell_type": "code",
   "execution_count": 9,
   "metadata": {
    "collapsed": false
   },
   "outputs": [
    {
     "name": "stdout",
     "output_type": "stream",
     "text": [
      "{'idaho': 'boise', 'washington': 'olympia', 'oregon': 'portland'}\n"
     ]
    }
   ],
   "source": [
    "state_capitals = {'washington': 'olympia', 'idaho': 'boise', 'oregon': 'portland'}\n",
    "print(state_capitals)"
   ]
  },
  {
   "cell_type": "markdown",
   "metadata": {},
   "source": [
    "We can create a dictionary from a list of tuples, where each tuple in the list is a key-value pair:"
   ]
  },
  {
   "cell_type": "code",
   "execution_count": 10,
   "metadata": {
    "collapsed": false
   },
   "outputs": [
    {
     "name": "stdout",
     "output_type": "stream",
     "text": [
      "{'V': 5, 'L': 50, 'I': 1, 'X': 10}\n"
     ]
    }
   ],
   "source": [
    "# roman numerals\n",
    "key_values = [(\"I\", 1), (\"V\", 5), (\"X\", 10), (\"L\", 50)]\n",
    "roman_numerals = dict(key_values)\n",
    "print(roman_numerals)"
   ]
  },
  {
   "cell_type": "markdown",
   "metadata": {},
   "source": [
    "We can also convert a dictionary back to a list of tuples with the dictionary method `items()` and the built-in function `list()`:"
   ]
  },
  {
   "cell_type": "code",
   "execution_count": 11,
   "metadata": {
    "collapsed": false
   },
   "outputs": [
    {
     "name": "stdout",
     "output_type": "stream",
     "text": [
      "[('V', 5), ('L', 50), ('I', 1), ('X', 10)]\n"
     ]
    }
   ],
   "source": [
    "list_of_tuples = list(roman_numerals.items())\n",
    "print(list_of_tuples)"
   ]
  },
  {
   "cell_type": "markdown",
   "metadata": {},
   "source": [
    "### Compatible Dictionary Data Types\n",
    "#### Keys\n",
    "Dictionary keys can be integers, strings, files, tuples, etc.. Lists cannot be keys.\n",
    "\n",
    "#### Values\n",
    "Values can be any type. For example, we can have string keys and list values:"
   ]
  },
  {
   "cell_type": "code",
   "execution_count": 12,
   "metadata": {
    "collapsed": false
   },
   "outputs": [
    {
     "name": "stdout",
     "output_type": "stream",
     "text": [
      "{'watermelon': ['green', 'red'], 'banana': ['yellow'], 'kiwi': ['brown', 'green']}\n"
     ]
    }
   ],
   "source": [
    "fruit_colors = {'kiwi': ['brown', 'green'], 'banana': ['yellow'], 'watermelon': ['green', 'red']}\n",
    "print(fruit_colors)"
   ]
  },
  {
   "cell_type": "markdown",
   "metadata": {},
   "source": [
    "### Dictionary Indexing\n",
    "We can access an item via a key using hard brackets `[ ]` (similar to indexing into a list):"
   ]
  },
  {
   "cell_type": "code",
   "execution_count": 13,
   "metadata": {
    "collapsed": false
   },
   "outputs": [
    {
     "name": "stdout",
     "output_type": "stream",
     "text": [
      "The capital of idaho is boise\n"
     ]
    }
   ],
   "source": [
    "state_capitals = {'washington': 'olympia', 'idaho': 'boise', 'oregon': 'portland'}\n",
    "print(\"The capital of idaho is %s\" %(state_capitals['idaho']))"
   ]
  },
  {
   "cell_type": "markdown",
   "metadata": {},
   "source": [
    "### Adding Key-Value Pairs\n",
    "Since dictionaries are *mutable*, we can add key-value pairs to the dictionary using hard brackets `[ ]`:"
   ]
  },
  {
   "cell_type": "code",
   "execution_count": 14,
   "metadata": {
    "collapsed": false
   },
   "outputs": [
    {
     "name": "stdout",
     "output_type": "stream",
     "text": [
      "{'idaho': 'boise', 'washington': 'olympia', 'oregon': 'portland'}\n",
      "{'idaho': 'boise', 'washington': 'olympia', 'montana': 'helena', 'oregon': 'portland'}\n"
     ]
    }
   ],
   "source": [
    "state_capitals = {'washington': 'olympia', 'idaho': 'boise', 'oregon': 'portland'}\n",
    "print(state_capitals)\n",
    "\n",
    "state_capitals['montana'] = 'helena'\n",
    "print(state_capitals)"
   ]
  },
  {
   "cell_type": "markdown",
   "metadata": {},
   "source": [
    "Note: keys in a dictionary are not sorted in any particular order.\n",
    "\n",
    "### Dictionary Length with `len()`\n",
    "We can still determine the number of items (key-value pairs) in a dictionary with `len()`:"
   ]
  },
  {
   "cell_type": "code",
   "execution_count": 15,
   "metadata": {
    "collapsed": false
   },
   "outputs": [
    {
     "name": "stdout",
     "output_type": "stream",
     "text": [
      "3\n"
     ]
    }
   ],
   "source": [
    "state_capitals = {'washington': 'olympia', 'idaho': 'boise', 'oregon': 'portland'}\n",
    "print(len(state_capitals))"
   ]
  },
  {
   "cell_type": "markdown",
   "metadata": {},
   "source": [
    "### Existence of a Key\n",
    "We can also test if a key is a valid key in the dictionary with the `in` keyword:"
   ]
  },
  {
   "cell_type": "code",
   "execution_count": 16,
   "metadata": {
    "collapsed": false
   },
   "outputs": [
    {
     "name": "stdout",
     "output_type": "stream",
     "text": [
      "False\n",
      "True\n",
      "False\n"
     ]
    }
   ],
   "source": [
    "state_capitals = {'washington': 'olympia', 'idaho': 'boise', 'oregon': 'portland'}\n",
    "\n",
    "print('california' in state_capitals)\n",
    "print('idaho' in state_capitals)\n",
    "print('olympia' in state_capitals)"
   ]
  },
  {
   "cell_type": "markdown",
   "metadata": {},
   "source": [
    "## Looping through a Dictionary\n",
    "We can traverse a dictionary easily with a `for` loop that walks through each key in the dictionary:"
   ]
  },
  {
   "cell_type": "code",
   "execution_count": 17,
   "metadata": {
    "collapsed": false
   },
   "outputs": [
    {
     "name": "stdout",
     "output_type": "stream",
     "text": [
      "triangle: 3\n",
      "rectangle: 4\n",
      "square: 4\n",
      "pentagon: 5\n"
     ]
    }
   ],
   "source": [
    "sides = {'square': 4, 'triangle': 3, 'pentagon': 5, 'rectangle': 4}\n",
    "\n",
    "for side in sides:\n",
    "    print(side, sides[side], sep= \": \")"
   ]
  },
  {
   "cell_type": "markdown",
   "metadata": {},
   "source": [
    "## Example Problem: Letter Frequencies\n",
    "Suppose we want to keep track of the frequency of letters in a word. For example, the word \"hello\" has 4 letters with the following frequencies:\n",
    "* h: 1\n",
    "* e: 1\n",
    "* l: 2\n",
    "* o: 1\n",
    "\n",
    "Let's write a program to prompt the user to enter a word. Our program will tell the user the frequency of each letter in the word. We could solve this problem with either a list or a dictionary:\n",
    "* List solution\n",
    "    1. Create a list with 26 zeros\n",
    "    1. Write a function to convert a letter into an integer in the range [0-25] to index into the list. We can do this with the `ord(<character>)` function and ASCII codes...\n",
    "    1. Walk through the word and increment the corresponding list position for each letter\n",
    "    1. Convert the index of non-zero list entries back to characters using `char(<integer>)` to print out the histogram results\n",
    "* Dictionary solution\n",
    "    1. Create an empty dictionary\n",
    "    1. Walk through the word and add the letter to the dictionary with a count of zero if the letter is not already a key, increment otherwise.\n",
    "    \n",
    "The dictionary solution lends itself more suitable to this problem because we do not have to allocate space for all letters ahead of time and we don't have to perform a character to integer conversion to index into the data structure."
   ]
  },
  {
   "cell_type": "code",
   "execution_count": null,
   "metadata": {
    "collapsed": true
   },
   "outputs": [],
   "source": [
    "def compute_letter_frequencies(word):\n",
    "    '''\n",
    "    \n",
    "    '''\n",
    "    histogram = {}\n",
    "    \n",
    "    for letter in word:\n",
    "        if letter in histogram:\n",
    "            histogram[letter] += 1\n",
    "        else:\n",
    "            histogram[letter] = 1\n",
    "    return histogram\n",
    "\n",
    "print(compute_letter_frequencies(\"hello\"))\n",
    "print(compute_letter_frequencies(\"mississippi\"))"
   ]
  },
  {
   "cell_type": "markdown",
   "metadata": {},
   "source": [
    "Compared to the list solution:"
   ]
  },
  {
   "cell_type": "code",
   "execution_count": null,
   "metadata": {
    "collapsed": true
   },
   "outputs": [],
   "source": [
    "def letter_to_index(letter):\n",
    "    '''\n",
    "    \n",
    "    '''\n",
    "    ascii_val = ord(letter)\n",
    "    index = ascii_val - ord('a')\n",
    "    return index\n",
    "\n",
    "def index_to_letter(index):\n",
    "    '''\n",
    "    \n",
    "    '''\n",
    "    ascii_val = index + ord('a')\n",
    "    letter = chr(ascii_val)\n",
    "    return letter\n",
    "    \n",
    "def compute_letter_frequencies_list(word):\n",
    "    '''\n",
    "    \n",
    "    '''\n",
    "    histogram = [0] * 26\n",
    "    \n",
    "    word.lower()\n",
    "    for letter in word:\n",
    "        index = letter_to_index(letter)\n",
    "        histogram[index] += 1\n",
    "    return histogram\n",
    "\n",
    "def pretty_print(histogram):\n",
    "    '''\n",
    "    \n",
    "    '''\n",
    "    for i in range(len(histogram)):\n",
    "        if histogram[i] != 0:\n",
    "            letter = index_to_letter(i)\n",
    "            print(\"%s: %d\" %(letter, histogram[i]), end=\" \")\n",
    "    print(\"\")\n",
    "\n",
    "histogram = compute_letter_frequencies_list(\"hello\")\n",
    "pretty_print(histogram)"
   ]
  },
  {
   "cell_type": "markdown",
   "metadata": {},
   "source": [
    "Note: We have now seen lists of tuples, lists of lists, dictionaries of lists, etc. In general, we can have sequences of sequences. The types of sequences that can be nested and the number of nesting levels is up to you, the programmer!"
   ]
  },
  {
   "cell_type": "markdown",
   "metadata": {
    "collapsed": true
   },
   "source": [
    "## Objects\n",
    "We have already been exposed to the notion of an *object*. For example, when we open a file for reading or writing, the `open()` function returns a *file object*. "
   ]
  },
  {
   "cell_type": "code",
   "execution_count": 1,
   "metadata": {
    "collapsed": false
   },
   "outputs": [
    {
     "name": "stdout",
     "output_type": "stream",
     "text": [
      "['13.42\\n', '27.19\\n', '9.98\\n', '48.56\\n', '33.71']\n"
     ]
    }
   ],
   "source": [
    "# infile is a file object\n",
    "infile = open(r\"files\\transactions.txt\", \"r\")\n",
    "print(infile.readlines())\n",
    "infile.close()"
   ]
  },
  {
   "cell_type": "markdown",
   "metadata": {},
   "source": [
    "`infile` is a file object that has associated functions, called *methods*. We have already seen this notion of *methods* when we learned about string and list methods (think `my_string.upper()`, etc.). In the above example, `readlines()` and `close()` are methods belonging to file objects.\n",
    "\n",
    "An *object* is a powerful programming concept that couples data storage (i.e. variables) with associated data operations and functionality (i.e. methods)."
   ]
  },
  {
   "cell_type": "markdown",
   "metadata": {},
   "source": [
    "## Classes\n",
    "We know of several Python data types:\n",
    "* `int`\n",
    "* `float`\n",
    "* `string`\n",
    "* `file`\n",
    "* etc.\n",
    "\n",
    "Today, we are going to learn how to define our own types! To do so, we will define *classes*. A class is a collection of *attributes* and *behaviors* that completely describes something. More on *attributes* and *behaviors* to come.\n",
    "\n",
    "Programmatically, a class is a type definition, and an object is a variable of that type. We also say an object is an *instance* of a class.\n",
    "\n",
    "Imagine we are writing a program to manage the status of books at a library or bookstore. For this program, it would be useful to have a class called `Book` where we could store information (think variables, called *attributes* when the variables belong to objects) and operations (think functions, called *methods* when the functions belong to objects) related to a book. Using the reserved keyword `class` to define a `Book` class, we can define this type:"
   ]
  },
  {
   "cell_type": "code",
   "execution_count": 1,
   "metadata": {
    "collapsed": true
   },
   "outputs": [],
   "source": [
    "class Book:\n",
    "    '''\n",
    "    \n",
    "    '''"
   ]
  },
  {
   "cell_type": "markdown",
   "metadata": {},
   "source": [
    "We have a definition for a `Book`! This class is not very powerful (yet). Let's see how we can make an instance of this class, called an object:"
   ]
  },
  {
   "cell_type": "code",
   "execution_count": 2,
   "metadata": {
    "collapsed": false
   },
   "outputs": [
    {
     "name": "stdout",
     "output_type": "stream",
     "text": [
      "<class '__main__.Book'>\n"
     ]
    }
   ],
   "source": [
    "# my_book is a Book object, i.e. it is an instance of the Book class\n",
    "my_book = Book()\n",
    "print(type(my_book))"
   ]
  },
  {
   "cell_type": "markdown",
   "metadata": {},
   "source": [
    "Now that we have a book class, let's add variables to the class to represent information about books, such as `title` (string), `author` (string), `isbn` (string), and `checked_out` (Boolean). We call variables associated with an object *attributes* to specify they are variables belonging to a class. We can declare and access the attributes of an object with the *member selection* (dot) operator:"
   ]
  },
  {
   "cell_type": "code",
   "execution_count": 4,
   "metadata": {
    "collapsed": true
   },
   "outputs": [],
   "source": [
    "my_book = Book()\n",
    "my_book.title = \"The Martian\"\n",
    "my_book.author = \"Andy Weir\"\n",
    "my_book.isbn = \"978-0-8041-3902-1\"\n",
    "my_book.checked_out = False # it's on the shelf"
   ]
  },
  {
   "cell_type": "markdown",
   "metadata": {},
   "source": [
    "We have actually seen and used the dot notation to access variables and functions before. Recall accessing pi in the math module (`math.pi`), calling a library function (`math.sqrt(4.0)`), and calling a method of a file object (`in_file.close()`) or a string object (`my_string.upper()`). \n",
    "\n",
    "We can display the attribute values just like other variables:"
   ]
  },
  {
   "cell_type": "code",
   "execution_count": 5,
   "metadata": {
    "collapsed": false
   },
   "outputs": [
    {
     "name": "stdout",
     "output_type": "stream",
     "text": [
      "The book \"The Martian\" is available on the shelf\n"
     ]
    }
   ],
   "source": [
    "if my_book.checked_out:\n",
    "    print(\"The book \\\"%s\\\" is checked out\" %(my_book.title))\n",
    "else: # checked in\n",
    "    print(\"The book \\\"%s\\\" is available on the shelf\" %(my_book.title))"
   ]
  },
  {
   "cell_type": "markdown",
   "metadata": {},
   "source": [
    "Objects are mutable! We can change the status of a `Book` object should someone check in or check out a book from the library:"
   ]
  },
  {
   "cell_type": "code",
   "execution_count": 6,
   "metadata": {
    "collapsed": true
   },
   "outputs": [],
   "source": [
    "my_book.checked_out = True"
   ]
  },
  {
   "cell_type": "markdown",
   "metadata": {},
   "source": [
    "Now, let's modify an attribute 2 different ways:\n",
    "1. Via a function\n",
    "1. Via a method\n"
   ]
  },
  {
   "cell_type": "markdown",
   "metadata": {},
   "source": [
    "## Objects and Functions"
   ]
  },
  {
   "cell_type": "markdown",
   "metadata": {},
   "source": [
    "Remember when we learned about aliasing? We can pass a reference to an object into a function to create an alias. For example, supposed we have a `Book` object called `hp1`. We can make an alias called `book` for `hp1` if we pass in `hp1` into a function with a parameter called `book`:"
   ]
  },
  {
   "cell_type": "code",
   "execution_count": 6,
   "metadata": {
    "collapsed": false
   },
   "outputs": [
    {
     "name": "stdout",
     "output_type": "stream",
     "text": [
      "The Sorcerer's Stone by J.K. Rowling\n",
      "The Sorcerer's Stone is checked out: True\n",
      "The Sorcerer's Stone is checked out: False\n"
     ]
    }
   ],
   "source": [
    "def display_book(book):\n",
    "    '''\n",
    "    \n",
    "    '''\n",
    "    print(\"%s by %s\" %(book.title, book.author))\n",
    "\n",
    "def display_book_status(book):\n",
    "    '''\n",
    "    \n",
    "    '''\n",
    "    print(\"%s is checked out: %s\" %(book.title, book.checked_out))\n",
    "    \n",
    "    \n",
    "def return_book(book):\n",
    "    '''\n",
    "    \n",
    "    '''\n",
    "    book.checked_out = False\n",
    "    \n",
    "hp1 = Book()\n",
    "hp1.title = \"The Sorcerer's Stone\"\n",
    "hp1.author = \"J.K. Rowling\"\n",
    "hp1.isbn = \"978-0439708180\"\n",
    "hp1.checked_out = True\n",
    "\n",
    "display_book(hp1)\n",
    "display_book_status(hp1)\n",
    "return_book(hp1)\n",
    "display_book_status(hp1)"
   ]
  },
  {
   "cell_type": "markdown",
   "metadata": {},
   "source": [
    "## Objects and Methods\n",
    "If we place a function *inside* a class definition, the function is a *method* associated with an instance of the class."
   ]
  },
  {
   "cell_type": "code",
   "execution_count": 8,
   "metadata": {
    "collapsed": false
   },
   "outputs": [],
   "source": [
    "class Book:\n",
    "    '''\n",
    "    \n",
    "    '''\n",
    "    # simply indent the method definition to associate it with the class\n",
    "    # self is a reference to the calling object\n",
    "    def display_book(self):\n",
    "        '''\n",
    "\n",
    "        '''\n",
    "        print(\"%s by %s\" %(self.title, self.author))\n",
    "    \n",
    "    def display_book_status(self):\n",
    "        '''\n",
    "\n",
    "        '''\n",
    "        print(\"%s is checked out: %s\" %(self.title, self.checked_out))\n",
    "    \n",
    "    def return_book(self):\n",
    "        '''\n",
    "\n",
    "        '''\n",
    "        self.checked_out = False"
   ]
  },
  {
   "cell_type": "markdown",
   "metadata": {},
   "source": [
    "We do have to change one aspect of our function definitions to do this. When we call a method of a class, we do so in the form: `<object>.<method>()`. The method needs a reference to the object in order to access that particular instance's attributes. In Python, the `self` reference provides access to the *current* object. `self` is the first parameter of every method of every class, and it is *implicitly* passed into the method. This means, Python passes it in for us, we do not explicitly pass the object reference in as an argument of the method.\n",
    "\n",
    "Now, if we have a `Book` object (instance of the `Book` class), we can use the member selection operator to call the `display_book_status()` and `return_book()` methods associated with `Book`s:"
   ]
  },
  {
   "cell_type": "code",
   "execution_count": 9,
   "metadata": {
    "collapsed": false
   },
   "outputs": [
    {
     "name": "stdout",
     "output_type": "stream",
     "text": [
      "The Sorcerer's Stone by J.K. Rowling\n",
      "The Sorcerer's Stone is checked out: True\n",
      "The Sorcerer's Stone is checked out: False\n",
      "<__main__.Book object at 0x000000163E8D45C0>\n"
     ]
    }
   ],
   "source": [
    "hp1 = Book()\n",
    "hp1.title = \"The Sorcerer's Stone\"\n",
    "hp1.author = \"J.K. Rowling\"\n",
    "hp1.isbn = \"978-0439708180\"\n",
    "hp1.checked_out = True\n",
    "\n",
    "hp1.display_book()\n",
    "hp1.display_book_status()\n",
    "hp1.return_book()\n",
    "hp1.display_book_status()\n",
    "print(hp1)"
   ]
  },
  {
   "cell_type": "markdown",
   "metadata": {},
   "source": [
    "## Special Methods"
   ]
  },
  {
   "cell_type": "markdown",
   "metadata": {},
   "source": [
    "### The `__str__()` Method\n",
    "The `__str__()` special method is called implicitly when a string representation of the object is required, such as `print(hp1)`. We have already written a method with similar functionality, `display_book()`. We just need to change the method identifier to `__str__()` and return the string instead of print the string, and we can achieve the `print(hp1)` functionality!"
   ]
  },
  {
   "cell_type": "code",
   "execution_count": 10,
   "metadata": {
    "collapsed": false
   },
   "outputs": [
    {
     "name": "stdout",
     "output_type": "stream",
     "text": [
      "The Sorcerer's Stone by J.K. Rowling\n"
     ]
    }
   ],
   "source": [
    "class Book:\n",
    "    '''\n",
    "    \n",
    "    '''       \n",
    "    def __str__(self):\n",
    "        '''\n",
    "        \n",
    "        '''\n",
    "        return \"%s by %s\" %(self.title, self.author)\n",
    "        \n",
    "hp1 = Book()\n",
    "hp1.title = \"The Sorcerer's Stone\"\n",
    "hp1.author = \"J.K. Rowling\"\n",
    "hp1.isbn = \"978-0439708180\"\n",
    "hp1.checked_out = True\n",
    "print(hp1)"
   ]
  },
  {
   "cell_type": "markdown",
   "metadata": {},
   "source": [
    "Note: We can also explicitly call special methods: `hp1.__str__()`"
   ]
  },
  {
   "cell_type": "markdown",
   "metadata": {},
   "source": [
    "### The `__init__()` Method\n",
    "There is a special method identifier, `__init__()` (short for initialize) that is implicitly called by Python everytime you instantiate a new object. The double underscores denote that this method *special* in Python. We can write our own version of the `__init__()` method to specify attribute values at time of instantiation. Here is an example of the `__init__()` method for our `Book` class."
   ]
  },
  {
   "cell_type": "code",
   "execution_count": 11,
   "metadata": {
    "collapsed": true
   },
   "outputs": [],
   "source": [
    "class Book:\n",
    "    '''\n",
    "    \n",
    "    '''\n",
    "    def __init__(self, book_title, book_author, book_isbn, book_checked_out):\n",
    "        self.title = book_title\n",
    "        self.author = book_author\n",
    "        self.isbn = book_isbn\n",
    "        self.checked_out = book_checked_out\n",
    "        "
   ]
  },
  {
   "cell_type": "markdown",
   "metadata": {},
   "source": [
    "And now we will instantiate a Harry Potter `Book` object:"
   ]
  },
  {
   "cell_type": "code",
   "execution_count": 12,
   "metadata": {
    "collapsed": false
   },
   "outputs": [],
   "source": [
    "hp1 = Book(\"The Sorcerer's Stone\", \"J.K. Rowling\", \"978-0439708180\", False)"
   ]
  },
  {
   "cell_type": "markdown",
   "metadata": {},
   "source": [
    "On this instantiation, the `__init__()` method we wrote is implicitly called and the attributes `title`, `author`, `isbn`, and `checked_out` are declared and initialized to the values we passed in as arguments."
   ]
  },
  {
   "cell_type": "markdown",
   "metadata": {},
   "source": [
    "## Lists of Objects\n",
    "Let's put together some of the topics we have learned so far to declare a bookshelf of `Books`. This will be a list of `Book` objects. We can declare this list just like any other list, and populate it with `Book` objects:`"
   ]
  },
  {
   "cell_type": "code",
   "execution_count": 4,
   "metadata": {
    "collapsed": false
   },
   "outputs": [
    {
     "name": "stdout",
     "output_type": "stream",
     "text": [
      "The Sorcerer's Stone by J.K. Rowling\n",
      "The Chamber of Secrets by J.K. Rowling\n",
      "The Prisoner of Azkaban by J.K. Rowling\n",
      "The Goblet of Fire by J.K. Rowling\n",
      "The Order of the Phoenix by J.K. Rowling\n",
      "The Half Blood Prince by J.K. Rowling\n",
      "The Deathly Hallows by J.K. Rowling\n"
     ]
    }
   ],
   "source": [
    "book_shelf = []\n",
    "\n",
    "hp1 = Book(\"The Sorcerer's Stone\", \"J.K. Rowling\", \"978-0439708180\", True)\n",
    "book_shelf.append(hp1)\n",
    "\n",
    "hp2 = Book(\"The Chamber of Secrets\", \"J.K. Rowling\", \"978-0439708180\", False)\n",
    "book_shelf.append(hp2)\n",
    "\n",
    "hp3 = Book(\"The Prisoner of Azkaban\", \"J.K. Rowling\", \"978-0439708180\", True)\n",
    "book_shelf.append(hp3)\n",
    "\n",
    "hp4 = Book(\"The Goblet of Fire\", \"J.K. Rowling\", \"978-0439708180\", True)\n",
    "book_shelf.append(hp4)\n",
    "\n",
    "hp5 = Book(\"The Order of the Phoenix\", \"J.K. Rowling\", \"978-0439708180\", False)\n",
    "book_shelf.append(hp5)\n",
    "\n",
    "hp6 = Book(\"The Half Blood Prince\", \"J.K. Rowling\", \"978-0439708180\", False)\n",
    "book_shelf.append(hp6)\n",
    "\n",
    "hp7 = Book(\"The Deathly Hallows\", \"J.K. Rowling\", \"978-0439708180\", True)\n",
    "book_shelf.append(hp7)\n",
    "\n",
    "for book in book_shelf:\n",
    "    print(book)"
   ]
  },
  {
   "cell_type": "markdown",
   "metadata": {},
   "source": [
    "## Practice Problem\n",
    "### Part 1\n",
    "Define a class called `Point`. A `Point` represents a position in 2 dimensional space, defined by an x and a y coordinate (no need to define any methods *yet*). \n",
    "\n",
    "Instantiate a `Point` object representing the origin (0,0):"
   ]
  },
  {
   "cell_type": "code",
   "execution_count": null,
   "metadata": {
    "collapsed": true
   },
   "outputs": [],
   "source": [
    "class Point:\n",
    "    '''\n",
    "    \n",
    "    '''\n",
    "\n",
    "origin = Point()\n",
    "origin.x = 0\n",
    "origin.y = 0"
   ]
  },
  {
   "cell_type": "markdown",
   "metadata": {},
   "source": [
    "### Part 2\n",
    "Re-write your `Point` definition and instantiation of `Point` to make use of an `__init__()` method:"
   ]
  },
  {
   "cell_type": "code",
   "execution_count": null,
   "metadata": {
    "collapsed": true
   },
   "outputs": [],
   "source": [
    "class Point:\n",
    "    '''\n",
    "    \n",
    "    '''\n",
    "    def __init__(self, x, y):\n",
    "        '''\n",
    "        \n",
    "        '''\n",
    "        self.x = x\n",
    "        self.y = y\n",
    "    \n",
    "point = Point(1, 4)"
   ]
  },
  {
   "cell_type": "markdown",
   "metadata": {},
   "source": [
    "### Part 3\n",
    "Add a method to `Point` called `display_point()` that displays `Point` information in the form: `(x, y)`. Then call `display_point()` to print a `Point` object."
   ]
  },
  {
   "cell_type": "code",
   "execution_count": null,
   "metadata": {
    "collapsed": true
   },
   "outputs": [],
   "source": [
    "class Point:\n",
    "    '''\n",
    "    \n",
    "    '''\n",
    "    def __init__(self, x, y):\n",
    "        '''\n",
    "        \n",
    "        '''\n",
    "        self.x = x\n",
    "        self.y = y\n",
    "        \n",
    "    def display_point(self):\n",
    "        '''\n",
    "        \n",
    "        '''\n",
    "        print(\"(%d,%d)\" %(self.x, self.y), end=\"\")\n",
    "    \n",
    "point = Point(1, 4)\n",
    "point.display_point()"
   ]
  },
  {
   "cell_type": "markdown",
   "metadata": {},
   "source": [
    "### Part 4\n",
    "Modify `display_point()` to implement the special function `__str__()`. Then print a `Point` object."
   ]
  },
  {
   "cell_type": "code",
   "execution_count": 2,
   "metadata": {
    "collapsed": false
   },
   "outputs": [
    {
     "name": "stdout",
     "output_type": "stream",
     "text": [
      "(1, 4)\n"
     ]
    }
   ],
   "source": [
    "class Point:\n",
    "    '''\n",
    "    \n",
    "    '''\n",
    "    def __init__(self, x, y):\n",
    "        '''\n",
    "        \n",
    "        '''\n",
    "        self.x = x\n",
    "        self.y = y\n",
    "        \n",
    "    def __str__(self):\n",
    "        '''\n",
    "        \n",
    "        '''\n",
    "        return \"(%d, %d)\" %(self.x, self.y)\n",
    "    \n",
    "point = Point(1, 4)\n",
    "print(point)"
   ]
  },
  {
   "cell_type": "markdown",
   "metadata": {},
   "source": [
    "### Part 5\n",
    "Add a predicate method to `Point` called `equals()` that accepts another `Point` object and determines if it has the same `x` and `y` values as the calling object (think `self`). Then call `equals()` to determine if 2 `Point` objects store equivalent data."
   ]
  },
  {
   "cell_type": "code",
   "execution_count": null,
   "metadata": {
    "collapsed": true
   },
   "outputs": [],
   "source": [
    "class Point:\n",
    "    '''\n",
    "    \n",
    "    '''\n",
    "    def __init__(self, x, y):\n",
    "        '''\n",
    "        \n",
    "        '''\n",
    "        self.x = x\n",
    "        self.y = y\n",
    "        \n",
    "    def display_point(self):\n",
    "        '''\n",
    "        \n",
    "        '''\n",
    "        print(\"(%d,%d)\" %(self.x, self.y), end=\"\")\n",
    "        \n",
    "    def equals(self, other_point):\n",
    "        '''\n",
    "        \n",
    "        '''\n",
    "        if self.x == other_point.x and self.y == other_point.y:\n",
    "            return True\n",
    "        return False\n",
    "    \n",
    "origin = Point(0, 0)\n",
    "\n",
    "some_other_point = Point(0, 0)\n",
    "\n",
    "origin.display_point()\n",
    "print(\" is equal to \", end=\"\")\n",
    "some_other_point.display_point()\n",
    "print(\": %s\" %(origin.equals(some_other_point)))"
   ]
  },
  {
   "cell_type": "markdown",
   "metadata": {},
   "source": [
    "## Object Oriented Programming\n",
    "Object oriented programming (OOP) involves designing programs where most of the computation involves operations on objects. Classes are implemented to represent things in the real world and how they interact. While OOP is a vast subject (and sometimes more of an art than a science), we are going to just scratch the surface on how powerful OOP iswith the following concepts:\n",
    "* Operator overloading\n",
    "* Composition\n",
    "\n",
    "Other OOP concepts include:\n",
    "\n",
    "* Abstraction\n",
    "* Encapsulation\n",
    "* Inheritance\n",
    "* Polymorphism\n",
    "* Among others!\n",
    "\n",
    "You can read more about OOP concepts in Chapter 18 of the Downey textbook, as well as online and in other textbooks."
   ]
  },
  {
   "cell_type": "markdown",
   "metadata": {},
   "source": [
    "### Operator Overloading\n",
    "What about changing the syntax to compare two `Point` objects for equality from `point1.equals(point2)` to `point1 == point2`? We can achieve such behavior with special methods for defining operator functionality. This is called *operator overloading*. In the equality example, we are going to define the behavior for comparing two `Point` objects with the `==` operator."
   ]
  },
  {
   "cell_type": "markdown",
   "metadata": {},
   "source": [
    "#### The `__eq__()` Method\n",
    "All we have to do is modify our `equals()` method to implement the special method `__eq__()`:"
   ]
  },
  {
   "cell_type": "code",
   "execution_count": 13,
   "metadata": {
    "collapsed": false
   },
   "outputs": [
    {
     "name": "stdout",
     "output_type": "stream",
     "text": [
      "False\n",
      "True\n",
      "False\n"
     ]
    }
   ],
   "source": [
    "class Point:\n",
    "    '''\n",
    "    \n",
    "    '''\n",
    "    def __init__(self, x, y):\n",
    "        '''\n",
    "        \n",
    "        '''\n",
    "        self.x = x\n",
    "        self.y = y\n",
    "        \n",
    "    def __str__(self):\n",
    "        '''\n",
    "        \n",
    "        '''\n",
    "        return \"(%d,%d)\" %(self.x, self.y)\n",
    "        \n",
    "    def __eq__(self, other_point):\n",
    "        '''\n",
    "        \n",
    "        '''\n",
    "        if self.x == other_point.x and self.y == other_point.y:\n",
    "            return True\n",
    "        return False\n",
    "    \n",
    "point1 = Point(1, 4)\n",
    "point2 = Point(3, -2)\n",
    "point3 = Point(3, -2)\n",
    "\n",
    "# different x,y values\n",
    "print(point1 == point2)\n",
    "# same x,y values\n",
    "print(point2 == point3)\n",
    "# confirm they are different objects \n",
    "print(point2 is point3)"
   ]
  },
  {
   "cell_type": "markdown",
   "metadata": {},
   "source": [
    "#### Other Operators to Overload\n",
    "Try implementing the functionality for other operators:\n",
    "* `+`: `__add__()`\n",
    "* `-`: `__sub__()`\n",
    "* `<`: `__lt__()`\n",
    "* `>`: `__gt__()`\n",
    "* Read about more in the [Python documentation](https://docs.python.org/3/reference/datamodel.html#specialnames)"
   ]
  },
  {
   "cell_type": "markdown",
   "metadata": {},
   "source": [
    "## Polymorphism\n",
    "Suppose we want to overload the `+` add operator. We might want to define two types of functionality for `Point` adds:\n",
    "1. Adding two `Point` objects (add x + x and y + y): `Point + Point`\n",
    "1. Adding a numeric value to a single `Point` object (add value to x and y): `Point + 1`\n",
    "\n",
    "We need to define *multiple behaviors* for the add method. When our functions/methods are able to handle multiple data types, they are called *polymorphic*. From Greek roots, poly means \"many\" and morphe means \"form\".\n",
    "\n",
    "Let's write the `__add__()` method. We will have a parameter called `other`, that we will need to check the type of. If `other` is a `Point`, add the respective `x` and `y` values. Otherwise, add `other` as a numeric to each `x` and `y` of the current object."
   ]
  },
  {
   "cell_type": "code",
   "execution_count": 14,
   "metadata": {
    "collapsed": false
   },
   "outputs": [
    {
     "name": "stdout",
     "output_type": "stream",
     "text": [
      "(1,1)\n",
      "(1,1) + (3,-2) = (4,-1)\n",
      "(4,-1) + 10 = (14,9)\n"
     ]
    }
   ],
   "source": [
    "class Point:\n",
    "    '''\n",
    "    \n",
    "    '''\n",
    "    def __init__(self, x, y):\n",
    "        '''\n",
    "        \n",
    "        '''\n",
    "        self.x = x\n",
    "        self.y = y\n",
    "        \n",
    "    def __str__(self):\n",
    "        '''\n",
    "        \n",
    "        '''\n",
    "        return \"(%d,%d)\" %(self.x, self.y)\n",
    "        \n",
    "    def __eq__(self, other_point):\n",
    "        '''\n",
    "        \n",
    "        '''\n",
    "        if self.x == other_point.x and self.y == other_point.y:\n",
    "            return True\n",
    "        return False\n",
    "    \n",
    "    def __add__(self, other):\n",
    "        '''\n",
    "        \n",
    "        '''\n",
    "        if isinstance(other, Point):\n",
    "            self.x += other.x\n",
    "            self.y += other.y\n",
    "        else: # not a Point object, for now, assume it is a numeric such as an int or float\n",
    "            # in the future, we would want to write this code to be more robust\n",
    "            self.x += other\n",
    "            self.y += other\n",
    "        return self\n",
    "    \n",
    "point1 = Point(1, 1)\n",
    "point2 = Point(3, -2)\n",
    "print(\"%s\" %(point1))\n",
    "print(\"%s + %s = %s\" %(str(point1), str(point2), str(point1 + point2)))\n",
    "offset = 10\n",
    "print(\"%s + %d = %s\" %(str(point1), offset, str(point1 + offset)))"
   ]
  },
  {
   "cell_type": "markdown",
   "metadata": {},
   "source": [
    "### Composition\n",
    "Objects can have attributes that are other objects. Let's define a `Circle` class that has 2 attributes:\n",
    "1. `center`: a `Point` object representing the location of the center of a circle\n",
    "1. `radius`: a numeric value representing the radius of the circle"
   ]
  },
  {
   "cell_type": "code",
   "execution_count": 15,
   "metadata": {
    "collapsed": false
   },
   "outputs": [
    {
     "name": "stdout",
     "output_type": "stream",
     "text": [
      "Circle with center: (0,5) and radius 100.00\n"
     ]
    }
   ],
   "source": [
    "class Circle:\n",
    "    '''\n",
    "    \n",
    "    '''\n",
    "    def __init__(self, x, y, radius):\n",
    "        '''\n",
    "        \n",
    "        '''\n",
    "        center = Point(x, y)\n",
    "        self.center = center\n",
    "        self.radius = radius\n",
    "        \n",
    "    def __str__(self):\n",
    "        '''\n",
    "        \n",
    "        '''\n",
    "        return \"Circle with center: %s and radius %.2f\" %(self.center, self.radius)\n",
    "    \n",
    "circle = Circle(0, 5, 100.0)\n",
    "print(circle)"
   ]
  },
  {
   "cell_type": "markdown",
   "metadata": {},
   "source": [
    "Note: We can think of the relationship between a `Circle` and a `Point` as: \"a `Circle` **has a** `Point`\". The \"has a\" relationship is important to distinguish from the \"is a\" relationship of inheritance... "
   ]
  },
  {
   "cell_type": "markdown",
   "metadata": {},
   "source": [
    "## Inheritance\n",
    "We can define classes such that they are \"extensions\" of existing classes. For example, consider we have an object called `Animal` that defines certain traits and behaviors that all animals exhibit:\n",
    "1. A species name (string attribute)\n",
    "1. An energy level (integer attribute)\n",
    "1. A play activity (method that subtracts from the energy level)\n",
    "1. A rest activity (method that adds to the energy level)\n",
    "\n",
    "For each specific animal we define (`Lion`, `Tiger`, `Bear`, etc.), we don't want to have to implement these common attributes and methods each time. Instead, we could write classes for each animal, and state these classes *inherit* from `Animal` class, and thus have all the traits and behaviors of `Animal`s. We could then define specific traits and behaviors unique for each animal. For example, a `Lion` might have an attribute called `mane_length` that a `Bear` wouldn't have."
   ]
  },
  {
   "cell_type": "code",
   "execution_count": 16,
   "metadata": {
    "collapsed": false
   },
   "outputs": [
    {
     "name": "stdout",
     "output_type": "stream",
     "text": [
      "Lion with energy 100\n",
      "GRRRRR\n",
      "Lion with energy 75\n",
      "grr\n"
     ]
    }
   ],
   "source": [
    "class Animal:\n",
    "    '''\n",
    "    \n",
    "    '''\n",
    "    def __init__(self, species, energy):\n",
    "        '''\n",
    "        \n",
    "        '''\n",
    "        self.species = species\n",
    "        self.energy = energy\n",
    "        \n",
    "    def __str__(self):\n",
    "        '''\n",
    "        \n",
    "        '''\n",
    "        return \"%s with energy %d\" %(self.species, self.energy)\n",
    "        \n",
    "    def play(self, expenditure):\n",
    "        '''\n",
    "        \n",
    "        '''\n",
    "        self.energy -= expenditure\n",
    "        \n",
    "    def rest(self, recovery):\n",
    "        '''\n",
    "        \n",
    "        '''\n",
    "        self.energy += recovery\n",
    "        \n",
    "    \n",
    "        \n",
    "class Lion(Animal):\n",
    "    '''\n",
    "    \n",
    "    '''\n",
    "    def __init__(self, species, energy, mane_length, roar):\n",
    "        '''\n",
    "        \n",
    "        '''\n",
    "        super().__init__(species, energy)\n",
    "        self.mane_length = mane_length\n",
    "        self.roar = roar\n",
    "        \n",
    "    def get_roar(self):\n",
    "        '''\n",
    "        \n",
    "        '''\n",
    "        return self.roar\n",
    "    \n",
    "king_lion = Lion(\"Lion\", 100, 24, \"GRRRRR\")\n",
    "cowardly_lion = Lion(\"Lion\", 75, 12, \"grr\")\n",
    "\n",
    "print(king_lion)\n",
    "print(king_lion.get_roar())\n",
    "print(cowardly_lion)\n",
    "print(cowardly_lion.get_roar())"
   ]
  },
  {
   "cell_type": "markdown",
   "metadata": {},
   "source": [
    "`super()` returns a reference to the parent class (`Animal` in this case). Thus, `super().__init__(species, energy)` invokes the initialize method of `Animal`.\n",
    "\n",
    "How cool is it that when we print a `Lion` object, `Animal`'s `__str__()` is implicitly invoked. Note: we could define a specific `__str__()` for `Lion` if we wanted to! Python figures out which method to call based on the more \"specific\" class (i.e. the child class, then the parent class). "
   ]
  }
 ],
 "metadata": {
  "anaconda-cloud": {},
  "kernelspec": {
   "display_name": "Python [Root]",
   "language": "python",
   "name": "Python [Root]"
  },
  "language_info": {
   "codemirror_mode": {
    "name": "ipython",
    "version": 3
   },
   "file_extension": ".py",
   "mimetype": "text/x-python",
   "name": "python",
   "nbconvert_exporter": "python",
   "pygments_lexer": "ipython3",
   "version": "3.5.2"
  }
 },
 "nbformat": 4,
 "nbformat_minor": 0
}
