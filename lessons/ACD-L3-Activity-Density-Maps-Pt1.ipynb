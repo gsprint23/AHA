{
 "cells": [
  {
   "cell_type": "markdown",
   "metadata": {},
   "source": [
    "# [AHA! Activity Health Analytics](http://casas.wsu.edu/)\n",
    "[Center for Advanced Studies of Adaptive Systems (CASAS)](http://casas.wsu.edu/)\n",
    "\n",
    "[Washington State University](https://wsu.edu)\n",
    "\n",
    "# L3 Activity Density Maps: Part 1\n",
    "\n",
    "## Learner Objectives\n",
    "At the conclusion of this lesson, participants should have an understanding of:\n",
    "* Creating activity density maps\n",
    "\n",
    "## Acknowledgments\n",
    "Content used in this lesson is based upon information in the following sources:\n",
    "* [Wang et al., 2012](http://ieeexplore.ieee.org/document/6189784/?section=abstract)"
   ]
  },
  {
   "cell_type": "markdown",
   "metadata": {},
   "source": [
    "## Activity Density Maps\n",
    "An Activity Density Map (ADM) is a heat map proposed by [Wang et al., 2012](http://ieeexplore.ieee.org/document/6189784/?section=abstract) to visualize daily activity as a function of 24 hour time (Y-axis) and window time (X-axis). From Wang and colleague's original paper: \n",
    "> In the density map, different colors are used to represent different levels of motion sensor density. The density is computed\n",
    "as the number of all motion sensor hits during 1 h divided by time at home during that hour. Examples of density maps are shown in [the figure below]. The X-axis represents days in a month. The Y-axis represents hours in a day, from midnight (top) to 11 PM\n",
    "(bottom). The colorbar on the right of the figure shows the colors by density range. Black represents TAFH (time away from home). White corresponds to very low density. Colors change from light gray (at the low end of 50 events/h), yellow, green, light blue to dark blue at the high end (550 events/h or more). In the density map, the density is calculated for each hour block; TAFH is computed to the second.\n",
    "\n",
    "Here are two examples of ADMs from the original paper (on the left is an ADM for someone who lives an active lifestyle. On the right is an ADM from someone who lives a sedentary lifestyle):\n",
    "<img src=\"https://raw.githubusercontent.com/gsprint23/aha/master/lessons/figures/ADM_wang.bmp\" width=\"600\">\n",
    "\n",
    "We are going to adopt Wang and colleague's ADM to visualize longitudinal Fitbit data. We can create ADMs for any of the minute by minute Fitbit metrics, such as steps, heart rate, floors climbed, etc. Such ADMs will be useful for quickly seeing patterns at different time granularities. Here is the end goal of what our Matplotlib-created Fitbit ADMs will look like:\n",
    "<img src=\"https://raw.githubusercontent.com/gsprint23/aha/master/lessons/figures/ADM_example.png\" width=\"700\">\n",
    "\n",
    "## Fitbit Data\n",
    "We will work with 21 days of example Fitbit data available in [fitbit_example_data.zip](https://raw.githubusercontent.com/gsprint23/aha/master/lessons/files/fitbit_example_data.zip). The format of this data is the same as the Fitbit data frame we wrote to a csv file in the previous lesson. Since we have one csv file per day, we will read in each csv file as a data frame with a `DateTimeIndex` representing each minute in the day. We will save the data frames in an ordered dictionary of date (string) to fitbit data (data frame) pairs."
   ]
  },
  {
   "cell_type": "code",
   "execution_count": 10,
   "metadata": {
    "collapsed": false
   },
   "outputs": [],
   "source": [
    "from collections import OrderedDict\n",
    "import os\n",
    "import pandas as pd\n",
    "\n",
    "data_dir = r\"files\\fitbit_example_data\"        \n",
    "intraday_files = OrderedDict()\n",
    "\n",
    "for (dirpath, dirnames, filenames) in os.walk(data_dir):\n",
    "    for fil in filenames:\n",
    "        parts = fil.split(\"_\")\n",
    "        day = parts[1][:10]\n",
    "        relative_path = data_dir + \"\\\\\" + fil\n",
    "        # use a DateTimeIndex\n",
    "        df = pd.read_csv(relative_path, header=0, parse_dates={\"time\": [0]})\n",
    "        df.set_index(\"time\", inplace=True)\n",
    "        intraday_files[day] = df"
   ]
  },
  {
   "cell_type": "markdown",
   "metadata": {},
   "source": [
    "Now that we have read all of the data in, we will next extract a metric and build a data frame containing only data for that metric. For the rest of the example, let's work exclusively with Fitbit steps. Accordingly, we will extract the \"steps\" column from each day's data frame. We will construct a new data frame with the same minute by minute index, but with step columns labeled for each day."
   ]
  },
  {
   "cell_type": "code",
   "execution_count": 12,
   "metadata": {
    "collapsed": false
   },
   "outputs": [
    {
     "name": "stdout",
     "output_type": "stream",
     "text": [
      "                     2015-10-01  2015-10-02  2015-10-03  2015-10-04  \\\n",
      "time                                                                  \n",
      "2017-06-08 00:00:00         0.0         0.0         0.0         0.0   \n",
      "2017-06-08 00:01:00         0.0         0.0         0.0        14.0   \n",
      "2017-06-08 00:02:00         0.0         0.0         0.0        60.0   \n",
      "2017-06-08 00:03:00         0.0         0.0         4.0        10.0   \n",
      "2017-06-08 00:04:00         0.0         0.0         7.0         8.0   \n",
      "\n",
      "                     2015-10-05  2015-10-06  2015-10-07  2015-10-08  \\\n",
      "time                                                                  \n",
      "2017-06-08 00:00:00         0.0        49.0         0.0         5.0   \n",
      "2017-06-08 00:01:00         0.0         0.0         0.0        26.0   \n",
      "2017-06-08 00:02:00         0.0         0.0         0.0        17.0   \n",
      "2017-06-08 00:03:00         0.0         5.0         0.0        53.0   \n",
      "2017-06-08 00:04:00         0.0        29.0         0.0        45.0   \n",
      "\n",
      "                     2015-10-09  2015-10-10     ...      2015-10-12  \\\n",
      "time                                            ...                   \n",
      "2017-06-08 00:00:00         0.0         0.0     ...             0.0   \n",
      "2017-06-08 00:01:00         0.0         0.0     ...             0.0   \n",
      "2017-06-08 00:02:00         0.0         0.0     ...             0.0   \n",
      "2017-06-08 00:03:00         0.0         0.0     ...             0.0   \n",
      "2017-06-08 00:04:00         0.0         0.0     ...             0.0   \n",
      "\n",
      "                     2015-10-13  2015-10-14  2015-10-15  2015-10-16  \\\n",
      "time                                                                  \n",
      "2017-06-08 00:00:00         0.0         0.0         0.0         0.0   \n",
      "2017-06-08 00:01:00         0.0         0.0         0.0         0.0   \n",
      "2017-06-08 00:02:00         0.0         0.0         0.0         0.0   \n",
      "2017-06-08 00:03:00         0.0         0.0         0.0         0.0   \n",
      "2017-06-08 00:04:00         0.0         0.0         0.0         0.0   \n",
      "\n",
      "                     2015-10-17  2015-10-18  2015-10-19  2015-10-20  \\\n",
      "time                                                                  \n",
      "2017-06-08 00:00:00         6.0         0.0         0.0         0.0   \n",
      "2017-06-08 00:01:00         0.0         0.0         0.0         0.0   \n",
      "2017-06-08 00:02:00         0.0         0.0         0.0         0.0   \n",
      "2017-06-08 00:03:00         0.0         0.0         0.0         0.0   \n",
      "2017-06-08 00:04:00         0.0         0.0         0.0         0.0   \n",
      "\n",
      "                     2015-10-21  \n",
      "time                             \n",
      "2017-06-08 00:00:00         0.0  \n",
      "2017-06-08 00:01:00         0.0  \n",
      "2017-06-08 00:02:00         0.0  \n",
      "2017-06-08 00:03:00         0.0  \n",
      "2017-06-08 00:04:00         0.0  \n",
      "\n",
      "[5 rows x 21 columns]\n"
     ]
    }
   ],
   "source": [
    "day1 = list(intraday_files.keys())[0]\n",
    "steps_df = pd.DataFrame(index=intraday_files[day1].index)\n",
    "# add columns one at a time\n",
    "for day, df in intraday_files.items():\n",
    "    steps_df[day] = df[\"steps\"]\n",
    "print(steps_df.head())\n",
    "# write steps_df out to file for later use\n",
    "steps_df.to_csv(data_dir + \"_steps_df.csv\")"
   ]
  },
  {
   "cell_type": "markdown",
   "metadata": {},
   "source": [
    "## Constructing an ADM\n",
    "### Part 1: Initial Plot\n",
    "To make an ADM of the steps data frame, we will create a heat map with a color bar."
   ]
  },
  {
   "cell_type": "code",
   "execution_count": 8,
   "metadata": {
    "collapsed": false
   },
   "outputs": [
    {
     "data": {
      "image/png": "[encoded data removed]",
      "text/plain": [
       "<matplotlib.figure.Figure at 0x9e6bf8128>"
      ]
     },
     "metadata": {},
     "output_type": "display_data"
    },
    {
     "data": {
      "text/plain": [
       "(<matplotlib.figure.Figure at 0x9e6bf8128>,\n",
       " <matplotlib.axes._subplots.AxesSubplot at 0x9e89792e8>)"
      ]
     },
     "execution_count": 8,
     "metadata": {},
     "output_type": "execute_result"
    }
   ],
   "source": [
    "%matplotlib inline\n",
    "import matplotlib.pyplot as plt\n",
    "\n",
    "def adm(data_df, title_label, show=True):\n",
    "    '''\n",
    "    data_df is a data frame with a DateTimeIndex and columns representing days\n",
    "    title_label is a string to put at the top of the plot\n",
    "    show is a flag to denote whether or not to show the plots\n",
    "    '''\n",
    "    fig, ax = plt.subplots()\n",
    "    # choose a color map from here: https://matplotlib.org/examples/color/colormaps_reference.html\n",
    "    cmap = plt.get_cmap(\"Reds\")\n",
    "    im = plt.imshow(data_df, interpolation='none', aspect='auto', cmap=cmap)\n",
    "    plt.colorbar(im)\n",
    "    plt.xlabel(\"Day\")\n",
    "    plt.ylabel(\"Time\")\n",
    "    plt.title(title_label)\n",
    "    fig.set_size_inches(14, 6)\n",
    "    if show:\n",
    "        plt.show()\n",
    "    return fig, ax # for adding labels and grid lines later\n",
    "    \n",
    "adm(steps_df, \"Steps\")    "
   ]
  },
  {
   "cell_type": "markdown",
   "metadata": {},
   "source": [
    "Cool! It only took a few lines of code to build a rudimentary ADM."
   ]
  },
  {
   "cell_type": "markdown",
   "metadata": {},
   "source": [
    "### Part 2: Beautifying the Plot\n",
    "There are few things missing on this ADM though that would be quite nice to have:\n",
    "1. X axis labels for each *date* instead of the day number in the sequence. This will help give context for the data (e.g. what season? are the days contiguous?).\n",
    "    1. X axis labels for each *day of the week* in addition to the date. This will provide even more context for the data (e.g. a weekday vs. a weekend?).\n",
    "    1. Vertical grid lines to divide the heat map according to the date labels.\n",
    "1. Y axis labels for each *hour of the day* instead of the minute number in the index. This will help ADM readers quickly see where key hours of the day are, like noon or what time the Fitbit wearer wakes up.\n",
    "    1. Horizontal grid lines to divide the heat map according to the hour labels.\n",
    "    \n",
    "In the next lesson, we are going to beautify our initial ADM by adding these features."
   ]
  }
 ],
 "metadata": {
  "anaconda-cloud": {},
  "kernelspec": {
   "display_name": "Python [Root]",
   "language": "python",
   "name": "Python [Root]"
  },
  "language_info": {
   "codemirror_mode": {
    "name": "ipython",
    "version": 3
   },
   "file_extension": ".py",
   "mimetype": "text/x-python",
   "name": "python",
   "nbconvert_exporter": "python",
   "pygments_lexer": "ipython3",
   "version": "3.5.2"
  }
 },
 "nbformat": 4,
 "nbformat_minor": 0
}
